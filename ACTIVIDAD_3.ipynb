{
  "nbformat": 4,
  "nbformat_minor": 0,
  "metadata": {
    "colab": {
      "name": "ACTIVIDAD 3.ipynb",
      "provenance": [],
      "authorship_tag": "ABX9TyNMqxe04r2kQ0FcAoNdcDhg",
      "include_colab_link": true
    },
    "kernelspec": {
      "name": "python3",
      "display_name": "Python 3"
    },
    "language_info": {
      "name": "python"
    }
  },
  "cells": [
    {
      "cell_type": "markdown",
      "metadata": {
        "id": "view-in-github",
        "colab_type": "text"
      },
      "source": [
        "<a href=\"https://colab.research.google.com/github/AlexanderTS1/BIGDATA2021/blob/main/ACTIVIDAD_3.ipynb\" target=\"_parent\"><img src=\"https://colab.research.google.com/assets/colab-badge.svg\" alt=\"Open In Colab\"/></a>"
      ]
    },
    {
      "cell_type": "markdown",
      "metadata": {
        "id": "8UtYa8eyFLt7"
      },
      "source": [
        "---\n",
        "#Actividad 03 Reglas de Asociación\n",
        "```\n",
        "Docente     : Carlos Fernando Montoya Cubas\n",
        "Estudiante  : Alexander Ttito Saya\n",
        "Lugar       : Cusco, Perú, 2021.\n",
        "\n",
        "```\n",
        "---"
      ]
    },
    {
      "cell_type": "markdown",
      "metadata": {
        "id": "utrOc2ChQmOI"
      },
      "source": [
        "## Librerias a utilizar 🟠\n"
      ]
    },
    {
      "cell_type": "code",
      "metadata": {
        "id": "BOz5GTMlFZUK"
      },
      "source": [
        "#librerias\n",
        "\n",
        "import numpy as np  \n",
        "import matplotlib.pyplot as plt  \n",
        "import pandas as pd  \n",
        "import collections"
      ],
      "execution_count": null,
      "outputs": []
    },
    {
      "cell_type": "markdown",
      "metadata": {
        "id": "4pZ0l-nJp6eJ"
      },
      "source": [
        "## Implementacion de modulos para generar tuplas de k elementos del dataset y módulos para implementacion de apriori 🟠"
      ]
    },
    {
      "cell_type": "code",
      "metadata": {
        "id": "OZ6OYw3b4iCI"
      },
      "source": [
        "#convertir lista de musicas en arreglo de areglos\n",
        "playlists=[datos[i] for i in range (0,len(datos))]"
      ],
      "execution_count": null,
      "outputs": []
    },
    {
      "cell_type": "code",
      "metadata": {
        "colab": {
          "base_uri": "https://localhost:8080/"
        },
        "id": "IDhGe4985Of_",
        "outputId": "90b001dd-0468-4d77-9e1b-3a138efa811c"
      },
      "source": [
        "#mostramos tamaño original de datos\n",
        "print(\"Longitud  de spotify.npy: \",len(playlists))"
      ],
      "execution_count": null,
      "outputs": [
        {
          "output_type": "stream",
          "name": "stdout",
          "text": [
            "Longitud  de spotify.npy:  10000\n"
          ]
        }
      ]
    },
    {
      "cell_type": "code",
      "metadata": {
        "colab": {
          "base_uri": "https://localhost:8080/"
        },
        "id": "0cqSHut15nGX",
        "outputId": "0e3bfb93-ab14-4ff6-96b2-d21000461cdf"
      },
      "source": [
        "# Mostramos los areglos generados\n",
        "print(playlists[0:100])\n",
        "# Mostramos el tamaño de este del subarreglo\n",
        "print(\"El tamaño del arreglo es:\",len(playlists[0:100][50]))"
      ],
      "execution_count": null,
      "outputs": [
        {
          "output_type": "stream",
          "name": "stdout",
          "text": [
            "[['Lose Control (feat. Ciara & Fat Man Scoop)', 'Toxic', 'Crazy In Love', 'Rock Your Body', \"It Wasn't Me\", 'Yeah!', 'My Boo', 'Buttons', 'Say My Name', 'Hey Ya! - Radio Mix / Club Mix', 'Promiscuous', 'Right Where You Want Me - Radio Edit Version', 'Beautiful Soul', \"Leavin'\", 'Me & U', 'Ice Box', 'Sk8er Boi', 'Run It!', 'Check On It - feat. Bun B and Slim Thug', \"Jumpin', Jumpin'\", 'Soak Up The Sun', 'Where Is The Love?', \"Stacy's Mom\", 'Just The Girl', 'Yo (Excuse Me Miss)', 'Year 3000', 'Lip Gloss', 'Everytime We Touch - Radio Edit', 'Whatcha Say', 'Miss Independent', 'Party In The U.S.A.', 'The Great Escape', 'Replay', 'Forever', 'Your Love Is My Drug', 'Closer', 'One Less Lonely Girl', 'Paper Planes', 'Mr. Brightside', 'All The Small Things', 'Beep', 'Somebody To Love', 'Dirty Little Secret', 'Baby', 'A Thousand Miles', 'Livin on Sunday', 'See You Again', 'How Do You Sleep? - Featuring Ludacris', 'This Is Me', 'My Happy Ending', 'Check Yes Juliet', 'The Great Escape'], ['Eye of the Tiger', 'Libera Me From Hell (Tengen Toppa Gurren Lagann)', 'Pokémon Theme', 'Concerning Hobbits (The Lord of the Rings)', 'The Blood of Cuchulainn (The Boondock Saints)', \"He's a Pirate (Pirates of the Caribbean)\", \"Very Bloody Tears (Castlevania II: Simon's Quest)\", 'U.N. Owen Was Her? (Remix)', 'I am the Doctor in Utah', 'The Room Where It Happens', 'Right Hand Man', 'Alexander Hamilton', 'My Shot', 'Stairway To Heaven', 'Shine', 'Ghost Love Score', 'Crazy', 'Sympathy For The Devil', 'Gimme Shelter', 'Free Bird', 'Peace of Mind', 'Foreplay / Long Time', 'Hold the Line', 'Carry on Wayward Son', 'Bohemian Rhapsody - Remastered 2011', 'Sweet Home Alabama', 'More Than a Feeling', 'Kashmir', 'The Majestic Tale (Of A Madman In A Box)', \"Sweet Child O' Mine\", 'Fortunate Son', 'Rock You Like A Hurricane', 'Tom Sawyer', 'Red Barchetta', 'YYZ', 'Limelight', 'The Camera Eye', 'Witch Hunt', 'Vital Signs'], ['Like You', 'GOOD (feat. ELO)', 'Inferiority Complex (feat. Eunha)', 'Ordinary Love', 'Spring Day', 'Ah-Choo', 'BREATHE', 'FXXK WIT US', 'I Will Show You', 'Take Me', '꺼내 먹어요 (Eat)', 'No Make Up', 'Oh NaNa (Hidden. HUR YOUNG JI)', \"Don't Recall\", '양화대교 (Yanghwa Brdg)', 'Some (feat.Geeks Lil Boi)', 'Me Like Yuh', '사실은 The Truth Is', 'Solo (feat. Hoody)', 'Boys and Girls (feat. Babylon)', 'I will go to you like the first snow', 'Rose', 'Aquaman', 'Just One Day', 'WHISTLE - KR Ver.', 'The Manual', 'Heartstrings', 'See My Eyes (Heartstring OST)', \"Can't Stop\", \"You're So Fine\", 'Drive (feat. Gray)', 'Mr. Chu', 'NoNoNo', 'Dream', '두근거려 (Beautiful)', 'Ring My Bell', \"It's Definitely You\", 'LAST DANCE', 'FXXK IT', 'Your Eyes (feat. Jay Park)', \"As If It's Your Last\", 'Untitled, 2014 - KR Ver.', 'OUTRO: Divina Commedia - KR Ver.', 'EYES, NOSE, LIPS - KR Ver.', 'Wedding Dress', '200%', 'STAY - KR Ver.', '21st Century Girl', '전야 前夜 The Eve', 'Hola Hola', 'Roll Deep', 'DINOSAUR', 'Ko Ko Bop', 'That Girl (Feat. Loco)', 'Yacht (K) [feat. Sik-K]', 'Hold Me Tight', 'Cliché', 'What U do?', 'Anck Su Namum', 'Call You Bae', 'Intro: Serendipity', 'DNA', 'dimple', 'MIC Drop'], ['Danse macabre', 'Piano concerto No. 2 in G Minor, Op. 22: Piano concerto No. 2 in G Minor, Op. 22: II. Allegro scherzando', 'Dræm Girl', 'Sad Valentine', \"You Say I'm in Love\", 'Drowsy', 'Serving Goffman', 'Sea Song', 'Fortune Only', 'Looking out for You', 'Necromancer', 'Mistakes', 'Strangest Eyes', \"It's Elizabeth\", 'Pussy of my Dreams', '19', 'Neptune Estate', \"Somebody's Talking\", \"Bent (Roi's Song)\", 'Just Get High', 'I Love Seattle', 'Dark as Days', 'End It Now!', 'When Did Your Heart Go Missing?', 'Signs', 'Under A Rock', 'Two Weeks', 'Yet Again', 'Campus', 'Mess Me Around', 'Talk To Me', 'Trip Switch', 'Heart It Races - Dr Dog Version', 'Big Decisions', \"It's All in Vain\", 'Deadwater', 'C U Girl', 'HOME', 'CONTACTS', \"Can't Come Down\", 'Luv', 'Life Is What You Make It', 'Contraband', 'Miss You', \"Money Won't Pay\", \"I'll Fall\", \"Nothing's Gonna Hurt You Baby\", 'Affection', 'I Like You', 'Strange to Hear', 'Sweet Emotion', 'Pink City', 'First Balloon To Nice', 'Rubdown', 'So Much Love So Little Time', 'Last Of The Good Old Days', 'Screaming', \"Love's Lost Guarantee\", '10:1', 'Crush The Camera', 'Every Moment', 'Endgame', 'El Scorcho', 'Veldt', 'Patroklos', 'suncream', 'Crying in Public', \"It's Your Body 4\", 'Poppies', 'Just Kiss Her', 'Infinity', 'Touch My Body', \"We're Not Just Friends\", 'Tried And True', 'Weak', 'Lucky Girl', 'Stay (Bedroom Tape)', 'Weird Science', 'No One Lives Forever', 'Wild Sex (In The Working Class) - 1988 Boingo Alive Version', 'Only A Lad', 'Private Life - Edited Version', 'i was all over her', \"Hey Good Lookin'\", 'All for Myself', \"Words I Don't Remember\", 'Lost Youth / Lost You', \"What You Won't Do for Love\", \"Don't Want To Know If You Are Lonely\", 'Eight Miles High', 'Turn It Around', \"She's A Woman [And Now He Is A Man]\", 'Crystal', 'Turning Japanese', 'Interference', 'Nothing Lasts', 'Nostalgic Feel', 'Spread A Little Sunshine', 'Drugs', 'Kalte Wut / Wenn Ich Einmal Reich Bin', 'Smoking the Day Away', 'High Plains Anthem', 'Who Got Da Props', 'Chief Rocka', \"Love's Been Good To Me\", 'Listen to the Warm', 'Fatalist Palmistry', 'So Sad, So Sad', 'Cult of Personality', 'Brazil', 'Bethlehem', 'Why iii Love The Moon.', \"I'll Get Along\", 'A Sunday Kind Of Love - Single Version', 'Chemistry', 'Soldiers Requiem', 'Camarilla', 'Vanilla Blue', 'Push', 'Driftless', \"I'm So Ugly\", 'Wounds', 'You Loved Me, You Killed Me', 'Embarrassingly Enough', 'Janitor', 'Elegy'], ['Tonight, Tonight', 'Wonderwall - Remastered', 'I Don\\'t Want to Miss a Thing - From the Touchstone film, \"Armageddon\"', 'Jealousy - Remastered Single Version', 'Waterfalls', '1979', 'Torn', 'Stay', 'Breathe Again', 'Angel', 'Bitter Sweet Symphony', 'Runaway Train', 'The Freshmen', 'White Flag', 'Smooth Operator - Single Version', 'Tom\\'s Diner - 7\" Version', 'Only Wanna Be With You'], ['Teach Me How to Dougie', 'Party In The U.S.A.', 'Shots', 'Ice Ice Baby', 'Shout - Parts 1 & 2', 'Low (feat T-Pain) - Feat T-Pain Album Version', 'The Time (Dirty Bit)', 'OMG', 'Thriller', 'Baby Got Back', 'Yeah!', 'Raise Your Glass', 'Cha Cha Slide - Original Live Platinum Band Mix', 'Sweet Caroline', 'Cupid Shuffle', 'Just Dance', 'Evacuate The Dancefloor', 'One More Time', 'Just Dance', \"Club Can't Handle Me (feat. David Guetta) - Feat. David Guetta\", 'Give Me Everything', 'Party Rock Anthem', 'We Found Love', 'Marry Me', 'Forever', 'Starships', 'At Last - Single Version', 'Play That Funky Music', 'Tootsie Roll', 'The Way You Make Me Feel - Single Version', 'The Time (Dirty Bit)', 'Miami', 'Billie Jean', 'Is This Love - Montmartre Remix', 'Marry Me', 'Thinking Out Loud', 'Marry You', 'I Could Not Ask For More', 'Lucky', 'Kiss Me', 'Best Day Of My Life', 'All My Life', 'Dancing in the Moonlight', 'I Do', 'Single Ladies (Put a Ring on It)', 'You & Me', 'I Gotta Feeling', \"We Can't Stop\", 'I Melt', 'Summer Nights', 'My Wish', 'Life Is A Highway', 'Bless The Broken Road', 'Payback', \"Mary Jane's Last Dance\", 'Dynamite', 'Wasted', 'I Gotta Feeling', 'Ho Hey', 'Right Round - feat. Ke$ha', 'Whistle', 'Good Feeling', 'Jump Around', 'Jump', 'Wifey - Club Mix/Dirty Version', 'Wasted', 'Wall To Wall', 'Beautiful People - Radio Edit', 'Best Day Of My Life', 'This Is How We Roll', 'Love More', 'Rather Be (feat. Jess Glynne)', 'Classic', 'Boom Clap', 'Summer', 'Shower', 'Problem', \"Can't Hold Us - feat. Ray Dalton\", 'Timber', 'Bittersweet Symphony'], ['I Put A Spell On You', 'Bury Us Alive', \"Jackolantern's Weather\", 'S.O.B.', 'Possum Kingdom', 'No One Knows', 'Zombie', 'Monster Mash', 'Ghouls Night Out - Live', 'Hybrid Moments', 'Yeah Yeah', 'Got You (Where I Want You)', 'The Less I Know The Better', 'Chandelier', 'Elastic Heart', 'Dancing Shoes'], ['Hard To See You Happy', 'One Thousand Times', 'Somebody Else', 'Hallucinations', 'Call On Me - Ryan Riback Extended Remix', 'If I Could Change Your Mind', 'Feels', 'Jungle', 'Window Seat', 'Tennessee', 'Livewire', 'Crowded Places', 'I Need a Girl Part 2 (feat. Loon, Ginuwine & Mario Winans)', 'Hyperreal', 'California', 'Eyes Closed', 'Closedloop', 'Selfish', 'Wild Eyed', 'Redbone', '13', 'May I Have This Dance (Remix) [feat. Chance the Rapper]', 'Something Like Chaos', 'Ordinary Madness - Edit', 'All In One Night', 'Nobody - Atom Tree Remix', 'Sun Comes Up - OFFAIAH Remix', 'Bloodstream', 'Bloom - Bonus Track', 'Chasing Shadows', \"I Don't See\", 'The Journey', 'Backbeat - Acoustic', 'No Reason', 'Love In Bad Company', 'Summer Days - Roosevelt Remix', 'Complication', 'Selfish', 'Reap', 'Just The Same', 'Motionless', 'Miss You - HONNE Remix', 'Think About That', 'Sun Comes Up - Heyder Remix', 'Latch', 'Hero', 'No Fear', 'Find Yourself', 'Show Me (feat. Madison Ryann Ward)', 'Little of Your Love - BloodPop® Remix', 'Dynamite (feat. Allday)', 'Attention', 'Altitude'], ['Twice', '7', 'Whole Wide World - Unpeeled', 'Goodbye Angels', 'Too Much To Think', 'She Moves In Her Own Way', 'Love Is Mystical', 'First', 'Waste A Moment', 'What Kind Of Man', 'Ship To Wreck', 'Come Together - Remastered', 'Reverend', 'Cabron', 'Minor Thing', 'Outlaws', 'Ordinary World', 'The Night We Met', 'Let It Be - Remastered', 'Feel It Still', 'Left Hand Free', 'Kathleen', 'Tongue Tied', 'Hey Jude - Remastered 2015', 'I Want To Hold Your Hand - Remastered 2015', 'On Melancholy Hill', 'A-Punk', 'All My Loving - Remastered', 'Mr. Blue Sky', 'Lay Me Down', 'Dog Days Are Over', 'Hard To Concentrate', 'Welcome To Your Life', 'Soul To Squeeze', 'Red Red Wine - Edit', 'Yesterday - Remastered', 'Soul Meets Body', 'I Could Die For You', 'Help! - Remastered', 'Daydream Believer', 'Revolution - Remastered', 'Rainbow', 'Soundcheck', 'Young Blood', 'Make You Feel Better', 'Take It or Leave It'], ['Highwayman', 'Highwayman', 'Drunk Like You', 'Fix', \"It's A Great Day To Be Alive\", 'Chattahoochee - Extended Mix', \"Eatin' Pussy/Kickin' Ass\", 'Ballad Of A Southern Man', 'Somewhere Down in Texas', 'Diamond In My Pocket', \"I'm Bringin' Home Good News\", 'Branded Man - 2001 Digital Remaster', \"Jack Daniel's, If You Please\", \"Goin' Through The Big D\", 'Out of Hand', 'Kentucky Gambler', \"Killin' Time\", \"The Fightin' Side Of Me\", 'Neon Moon', 'Hometown Girl', \"Drinkin' Problem\"], ['Big Lie', \"All We Got (feat. Kanye West & Chicago Children's Choir)\", 'Planez', 'Rich As Fuck', 'The Show Goes On', 'Tiimmy Turner', 'Chillin', 'T-Shirt', 'Portland', 'Light', \"Don't\", 'Who Do You Love?', 'Jump Out The Face (feat. Future)', 'My Last', 'Say Something (Featuring Drake)', 'Studio', 'Deadroses', 'make daddy proud', 'G.O.M.D.', 'Nothing But Trouble - Instagram Models', \"I Don't Fuck With You\", 'Drowning (feat. Kodak Black)', 'goosebumps', 'STFU', 'Exposed', 'Slippery (feat. Gucci Mane)', 'm.A.A.d city', 'Yellow', 'Juke Jam (feat. Justin Bieber & Towkio)', 'Bodak Yellow', 'Preach', 'Shell Shocked (feat. Kill The Noise & Madsonik) - From \"Teenage Mutant Ninja Turtles\"', 'Marmalade (feat. Lil Yachty)', 'Go Flex', 'Do It Myself', 'Come Get Her', 'Drop The World', 'Remember The Name (feat. Styles Of Beyond)', 'Deja Vu', 'Straightjacket', 'White Walls (feat. ScHoolboy Q, Hollis)', 'Break The Bitch Down (feat. K. Camp)', 'No Type', 'D U Down', 'Fuckin Right', 'GOMD', 'Hot N*gga', 'Thinking With My D**k (feat. Juciy J)', 'No Flockin', \"Say A'\", 'Butterfly Effect', 'Verbatim', 'Sniffing Vicodin In Paris (Danny Olson Remix) [feat. Danny Olson]', 'Molly (feat. Brendon Urie of Panic at the Disco)', 'First Day Out', 'Horses (with PnB Rock, Kodak Black & A Boogie Wit da Hoodie)', 'Headlines', 'Lemme Freak', 'Blunt Blowin', 'Pop That', 'oui', 'How To Love', 'Dreams and Nightmares', 'Real Hitta (feat. Kodak Black)', 'The Girls On Drugs', 'Up Like Trump', 'Throw Sum Mo', 'These Days', 'Drama', 'Swish', 'Let the Games Begin', 'All That Talk'], ['In the morning - Version', 'I Turn My Camera On', 'Honestly Ok', 'Believe In It', 'Finally Moving', 'On & On', 'Nightcall', 'Twice', 'The Vortex', 'In The Waiting Line', 'Mandarine Girl', 'Porcelain', \"I've Been Thinking\", 'Little Bit', 'Tea Leaf Dancers', 'Love Dub', 'Adorn', 'Sleepless', 'Down The Road', 'Litost', 'You Made It', 'Voodoo Child (Starring Afu Ra) [Dj Premier Remix]', 'Telemiscommunications', 'Show Your Love', 'Scale It Back', 'Redeemed', 'Que Sera', 'Protection', 'Only You', '(Not So) Sad And Lonely', 'Listen', \"I've Been Trying\", 'Ghostwriter', 'Darkest (Dim)', 'Change Is Gonna Come', 'Ask Your Friends', \"Runnin'\", 'Cover My Eyes', 'Aqueous Transmission', 'Massage Situation', 'Closer', 'Intro', 'Hell Is Round The Corner', 'Crystalised (The Neon Lights Remix)', 'Fiction', 'Basic Space', 'Press Snooze', 'You Know You Like It', 'Breathe', 'Motion', 'Wicked Games', 'Touch', 'Houstatlantavegas', 'Runnin Away For Good', 'Since I Left You', 'Drumming Song - MTV Unplugged, 2012', 'Get Free (feat. Amber Coffman)', 'No Love', 'The Reeling - Calvin Harris Remix', 'Inhaler', 'Foreign Language - Flight Facilities Extended Mix', 'Canoe Canoa', \"Don't Let Me Down (feat. Cat Martin)\", 'Enter The Machine', 'My Winter Vacation', 'Nothing Owed', 'Organ Donor', 'Sleepyhead', 'Trigger Hippie', 'Undenied', 'Islands', 'All I Need', 'Bag Lady', 'Bitter Sweet Symphony', 'Camel', 'Crystalised (Dark Sky Remix)', \"Don't Let Me Down (feat. Cat Martin)\", 'Electric Relaxation', 'Empire Ants (feat. Little Dragon)', 'Eyes On Fire', 'Feel It All Around', 'Get The Money', 'Ghost Hardware', 'Hawaii', 'Jupiter', 'Let It Be (feat. Veela)', 'Lost In The World', 'Lucid Truth', 'Master of None', 'Miracle', 'Organ Donor', 'Ritual Union', 'She Just Likes to Fight', 'Smile', 'The Time We Lost Our Way featuring Loulou', 'Triptango', 'Unspoken', 'White Flag', 'Wildfire', 'Window Seat', 'You Got Me', 'Young Folks', 'Punching In A Dream', 'Dub In Ya Mind', 'The Dead Sea Scrolls', \"Don't Look Back - Fug Remix\", 'Moon Fever', 'Lost Where I Belong - Flying Lotus Remix', 'Kimmi In a Rice Field - Balam Acab remix', 'Maximalist', 'Building Steam With A Grain Of Salt', 'The Garden', 'Mastermind', 'Building Steam With A Grain Of Salt', 'Far Nearer', 'Blood Red - Original Mix', 'Mages Sages II (prod. Flying Lotus)', 'Levitate', 'Afro Blue - feat. Erykah Badu', 'Feeling Better', 'Untrust Us', 'Evil Beauty', 'Long Distance', 'Show You - Dubba Jonny Remix', 'Do I See Color', 'Epiphany', \"Don't Move\", 'The Bad In Each Other', 'Go Outside', 'You', 'Astro Dub', 'Pursuit Of Happiness (nightmare)', 'Hands On The Wheel', 'Get Free (feat. Amber Coffman)'], ['New Soul', 'Let Her Go', 'Stolen Dance', \"I Know There's Gonna Be (Good Times) [feat. Popcaan]\", 'Hold Back The River', 'Are You With Me - Radio Edit', 'So High (feat. Ghost Loft)', \"It's Not Unusual\", 'Scars To Your Beautiful'], ['Lost Boy', 'Burning House', 'Little Wonders - Radio Version', 'Carry You', 'Lose It', 'Willow', 'Salvation', 'A Thousand Years', 'His Daughter', 'Another Empty Bottle', \"Can't Help Falling In Love\", \"Say You Won't Let Go - Luca Schreiner Remix\", 'Superficial Love'], ['Down', 'You Oughta Know - 2015 Remastered', 'Rooster', 'Man in the Box', 'One Week', \"It's All Been Done\", 'Loser', 'Good', 'Hard To Handle', 'She Talks To Angels', 'No Rain', \"What's My Age Again?\", \"Adam's Song\", 'All The Small Things', 'Run-Around', 'Hook', 'Glycerine - Remastered', 'Far Behind', 'Tubthumping', 'December', 'Shine', 'Mr. Jones', 'A Long December', 'Sugarhigh', 'Linger', 'Butterfly', 'So Much to Say', 'Barely Breathing', 'Save Tonight', \"I'll Be\", 'Inside Out', 'Santa Monica', 'Hooch', 'Hey Man, Nice Shot - Remastered Version', 'Criminal', 'Learn to Fly', 'Shimmer - Single Version', 'Hemorrhage (In My Hands)', 'Follow You Down', 'Hey Jealousy', 'Slide', 'Broadway', 'Black Balloon', 'Iris', 'Longview', \"Knockin' On Heaven's Door\", 'Flagpole Sitta', 'Only Wanna Be With You', 'Warning', 'Make Yourself', 'Drive', 'Stellar - acoustic', 'Nice to Know You', 'Jane Says', 'I Alone', 'Lightning Crashes', 'All Over You', 'Sex And Candy', '3AM', 'Unwell - Remastered Version', 'Real World', 'Push', 'Fade Into You', 'Closer', 'Heart-Shaped Box', 'All Apologies', 'Smells Like Teen Spirit', 'In Bloom - Nevermind Version', 'Lithium', 'Come As You Are', 'Spiderwebs', 'Just A Girl', \"Don't Speak\", 'Wonderwall - Remastered', 'Champagne Supernova - Remastered', 'Pretty Fly (For A White Guy)', 'Jeremy', 'Better Man - Remastered', 'Losing My Religion', 'Scar Tissue', 'Under The Bridge', 'All Star', 'Bullet With Butterfly Wings', 'Today', 'Black Hole Sun', 'Two Princes', 'Santeria', 'What I Got', 'Someday', 'Every Morning', 'Fly', 'Semi-Charmed Life', 'Jumper - 1998 Edit', \"How's It Going To Be\", 'If You Could Only See', 'Meet Virginia', \"You're a God\", 'Everything You Want', 'Bitter Sweet Symphony', 'One Headlight', 'Desperately Wanting', 'Good', 'Extra Ordinary'], ['Coffee', 'Wolf', 'Uncatena', 'The Stable Song', 'Amsterdam', \"Babe I'm Yours\", 'So Good To Me - Re-work'], ['Repeat', 'Modern Girl', 'What You Do To Me', 'Name For You', 'Say Something Loving', 'Wild Horses - Acoustic', 'Never Be Mine', 'Give It Up', 'Prurient', 'Free', 'Enter Entirely', 'Over', 'In Too Deep', 'Amoeba', 'I Give You Power', 'Conversation Piece', 'Break Apart', 'Love on the Weekend', 'Reverend', 'Black Door', 'To Be Without You', 'Breaking Free', 'All For You', 'Liar', \"There's A Girl In The Corner\", 'Mexican Jackpot', 'Flashlight', \"You Don't Care About Us\", 'Where Is My Mind? - MTV Unplugged', 'WEIGHT OFF', 'Hands Down', 'Good For You', 'Friend Hospital', 'Love Is Mystical', 'Only Shallow', 'Lost in the Supermarket', 'way it goes', 'Changing', 'All I Ever Wanted', 'Ego', 'Them Changes', 'Friend Zone', 'My Fault', 'Girl Loves Me', 'Slow Hands', 'Darling', 'So Good At Being in Trouble', 'Green Light', \"Drivin' Me Wild\", 'You Got Yr Cherry Bomb', 'NYC', 'Ceremony - 2015 Remastered Version', 'Love', 'Third of May / Ōdaigahara - Edit', 'Name For You', \"You Know I'm No Good\", 'Sweet Ophelia', 'Kill for Candy', \"The Love You're Given\", \"Girl's Not Grey\", 'Pleasure', \"Lover's Spit\", 'Ivy', 'Cold Blue Rain - Acoustic Version', 'To Be Alone With You', 'A Certain Type of Girl', 'The Graveyard Near The House', 'Show Me', 'Sunday', 'Crowds', 'I Want to Know (Your Love)', 'Over You Again', \"Anxiety's Door\", 'Answer', 'Stained Glass', 'Goin’ Against Your Mind', 'Pentacle 13', 'Helplessness Blues', 'You Remind Me of Home', 'Hot Thoughts', 'Sleazy Bed Track - BBC Evening Session 1998', 'No Woman', 'Obvious Bicycle', 'Cape Cod Kwassa Kwassa', 'In Cold Blood', 'Feral Love', 'The Way We Used To', 'Falling Off', '1 Billion Dogs', 'This Is The Last Time', 'Popular', 'Where I Want To Be', 'Misery', 'Halfway Home', 'True Love Waits', 'No Matter Where We Go', 'You’ve Got a Woman', 'Drunk Drivers/Killer Whales', 'Catamaran', 'Every Girl - Bonus Track', \"Don't You Forget It\", 'Doused', 'Gonna Leave You', 'Undone - The Sweater Song', 'Sign of the Times'], ['Jackie And Wilson', 'I Need a Dollar', 'Wake Me Up - Acoustic', 'All of Me', 'Happy - From \"Despicable Me 2\"', 'Mirrors', 'Locked Out Of Heaven', 'Uptown Funk', 'Shut Up and Dance', 'Live Like A Warrior', 'Hold My Hand', 'Stronger', 'Stay With Me - Acoustic Version', 'Lips Are Movin', 'Am I Wrong', 'All About That Bass', 'One Day - New Album Version', 'Chandelier', 'We Found Love', 'Wake Me Up - Radio Edit', 'Laugh (feat. Matisyahu)', 'Budapest', 'I Bet My Life', 'Amsterdam', 'On Top Of The World', 'Nothing Left To Say / Rocks - Medley', 'Tiptoe', 'Counting Stars', \"Honey, I'm Good.\", 'Rolling in the Deep', 'Rumour Has It', 'Pompeii', 'Best Day Of My Life', 'This Is Gospel', 'Lego House', 'Sing', 'I Wanna Get Better', 'Rollercoaster', 'Rather Be (feat. Jess Glynne)', 'Remind Me Who I Am', 'Secrets', 'Geronimo', 'Young Volcanoes', 'Believe', 'Die Young - Deconstructed Mix', 'Absolutely (Story of a Girl) - Radio Mix', 'Galaxies', 'Treasure', 'Super Bass', 'Sledgehammer', 'Everybody Talks', 'Everybody Talks', '1983', 'Avalanche', 'Work This Body', 'Anna Sun', 'Something Good Can Work', 'Cardiac Arrest', 'Human', 'Mr. Brightside', 'Something Better', 'I Believe In A Thing Called Love', 'And We Danced', 'Twist And Shout - Remastered 2009', 'Molecules', 'Hello - Single Edit', 'Cake By The Ocean', 'Giants', 'Relentless - Young & Free Remix', 'On Our Way', 'Coming Your Way', 'Collide (feat. Jonathan Thulin)', 'Come Alive', 'Best of 2012: Payphone / Call Me Maybe / Wide Awake / Starships / We Are Young', 'Always Summer', 'This World Is Yours', 'Gives You Hell', 'Kinks Shirt', 'Un Día de Sol'], ['Run Away with You', 'I Love You This Big', 'Yours', 'Alright', \"I Won't Give Up\", 'Ride', 'Motivation', 'Kisses Down Low', 'Something I Need', 'Every Night', 'Lost In This Moment', 'Love in This Club', 'New Flame', 'My Best Friend', \"She's My Kind of Rain\", 'Where The Green Grass Grows', 'One In A Million', \"DJ Got Us Fallin' In Love\", 'Sure Thing', 'Bacon', 'Love Me Down', 'Supawifey', 'Love On The Brain', 'Halo', '(Everything I Do) I Do It For You', 'Iris', 'Give It to Me', 'Tenerife Sea', 'Truly Madly Deeply', 'God Gave Me You', 'Bad Things (with Camila Cabello)', 'Only U - Album Version (No Intro)', 'Fourth Of July', 'Animal', 'Promise', 'Mad Love', 'My Girl', 'Like You', \"They Don't Know\", 'Earned It (Fifty Shades Of Grey)', 'Weight of Love', 'In Vein', 'Prisoner', 'Drunk in Love', 'Talk Dirty (feat. 2 Chainz)', \"Don't Tell 'Em\", 'Booty', 'Tough Lover - Burlesque Original Motion Picture Soundtrack', 'Birthday Sex', 'She Knows', 'Drop It Low', 'FourFiveSeconds', 'Feeling Myself', 'Marvin Gaye (feat. Wale) - Remix', 'Fragile', 'Gangsta', 'Pony', 'Into You', \"It's You\", 'Certain Things', 'Helium - From \"Fifty Shades Darker (Original Motion Picture Soundtrack)\"', 'Shape of You', 'F.B.G.M.', 'Nobody Else But You', 'The Business (featuring Casha)', 'Something New (feat. Ty Dolla $ign)', 'Simple Things (Remix)', 'Tell Me You Love Me'], ['Cold Fame', 'Things Behind The Sun', 'Swim Club', 'Close to Nowhere', 'Whispered Words (Pretty Lies)', 'Goshen', 'Mad Mary', 'Having It All', \"Don't Think Twice, It's All Right\", 'My Mistakes Were Made For You', 'Stuck on the puzzle', 'Postcards from Italy', 'Midnight in Harlem', 'Apologies', 'Good Hold', 'A Candle’s Fire', 'Mountain Sound', 'Time Has Told Me', '1957', 'The Rose With The Broken Neck (feat. Jack White)', 'Stolen Dog', 'Going Under', 'Forget You All The Time', 'Floating Vibes', 'Lost In The Light', \"That's What Angels Can Do\", 'The Gardener', 'Pale Blue Eyes', 'Left on Laura, Left on Lisa', 'Lake Michigan', 'The Stable Song', 'Golden Haze', 'Someday', 'Shame', '1904', 'Turquoise', 'Dirt', 'Offering', 'Meet Me in the City', 'The Man in Me', 'Taro', 'Fortune - iambic Remix', 'Either Way', \"Lover, You Should've Come Over\", 'Sugar Mama', 'Get Right', 'Daydreaming', \"It's Beyond Me\", 'Graveyard', 'Hell, Heaven', 'Suzanne', 'May This Be Love (Waterfall) - Live From Spotify Austin / Curated By Jim Eno', 'Forget Me', 'Line Of Fire', 'A New Life', 'Asleep - 2011 Remastered Version', 'Heroes - 1999 Remastered Version', 'A New Anhedonia', 'Now That I Know', '20 Years', 'Girl from the North Country', 'Reigning Days of Grace', \"Ain't No Lord\", 'Do Right Woman - Do Right Man [Stereo Version]', 'Over The Ocean', 'I Know Places', 'I See Monsters', 'Down The Line', 'A Walk', 'Road', 'The Shore', 'Sweet Tides', 'Out Getting Ribs', 'Indecision', 'Lost', 'Wake Up, Soul', 'Gone The Bells', \"Someone You'd Admire\", 'Impossible Germany', 'Dublin Blues', 'One Of These Things First', 'Home Again', \"Goin' to Acapulco\", \"Please Don't\", 'She Treats Me Well'], ['Crazy', 'Love Scars', 'Iced Out (feat. 2 Chainz)', '44 Bars', 'XO TOUR Llif3', 'Molly', 'Bless Yo Trap', 'Woke Up', 'Phantom', 'Glock In My Benz', 'Ski Mask', 'Different Color Molly', 'Wokhardt', 'Flex Like Ouu'], ['Fade Into You', 'Back To Black', 'My Immortal', 'Somebody That I Used To Know', 'To the Moon & Back', 'Dreaming Of You', 'Last Kiss', \"It's Over\", 'Sand And Water', 'Hurt', 'I Will Follow You Into The Dark', 'When I Was Your Man', \"Cat's In The Cradle\", 'All I Wanna Do Is Make Love To You', 'I Love You'], ['Drew Barrymore', 'Church', 'Coffee (F***ing)', 'PRBLMS', 'Drunk in Love', 'Garden (Say It Like Dat)', 'Obi Wan', 'Might Be', 'Too Good At Goodbyes', 'Feels', 'New Rules', 'Feel It Still', 'Mi Gente', 'Silence', 'I Like Me Better', 'Attention', 'Cross My Mind', 'Born Again', 'Another Day in Paradise', 'Instinct (feat. MadeinTYO)', 'Coaster', 'Back to You (feat. Bebe Rexha & Digital Farm Animals)', 'Glorious (feat. Skylar Grey)', 'Strip That Down', 'What Lovers Do (feat. SZA)', 'More Than You Know', 'Friends (with BloodPop®)', 'What About Us', 'Without You (feat. Sandro Cavazza)', 'Dusk Till Dawn - Radio Edit', 'Let Me Go (with Alesso, Florida Georgia Line & watt)', 'Your Song', 'Sweet Talk', 'Now Or Never', 'Maybe', 'Back To You', 'Cherry Hill', 'Tennis Court', 'Sky Walker', 'Surprise Party (feat. Blackbear)', 'Down In The Valley', 'Build it Up'], ['Natural Born Killer', 'Diamond Eyes', 'Rose Of Sharyn', \"I Won't See You Tonight Part 2\", 'Before I Forget', 'The Stage', 'The Red', 'If I Fall', 'Wrong Side Of Heaven', 'My Curse', 'Always', 'Kimdracula', 'Eye of the Storm', 'Beast and the Harlot', 'The Unforgiven II', 'Psychosocial', 'Duality', 'And All Things Will End', 'Planets', 'Requiem'], ['Ride', 'Heathens', 'Car Radio', 'Lane Boy', 'The Judge', 'Sucker For Pain (with Wiz Khalifa, Imagine Dragons, Logic & Ty Dolla $ign feat. X Ambassadors)', 'All Time Low'], ['Say My Name (feat. Zyra) - Hermitude Remix', 'Another Day in Paradise', 'Make You Feel Good', 'Feel So Close - Radio Edit', 'Feel So Close - Radio Edit', 'BO$$', 'Love On Me - CID Remix', 'Not Going Home', 'No Money', 'Missing You (feat. AC Slater & Kaleem Taylor)', 'Afterhours feat. Diplo & Nina Sky', 'Show Me Love - EDX Remix / Radio Edit', 'O.G', 'Mind (feat. Kai)', 'Takes My Body Higher (feat. Lincoln Jesser)', 'Be Right There', 'Dum Dee Dum', 'Take Ü There (feat. Kiesza)', 'Love More', 'Move Your Body (Future House)', 'Season 2 Episode 3', 'Feel The Volume', 'Soundclash', 'Tell Me', 'Keep It 100', 'Promesses', 'Bap U', 'You & Me - Flume Remix', \"This Girl (Kungs Vs. Cookin' On 3 Burners) - Kungs Vs. Cookin' On 3 Burners\", 'Boneless', 'Boy Oh Boy', 'Jaguar', 'Sex', 'Let Me Tell You Something', 'Bugatti (feat. Pusha T) - Jauz Remix', 'Party Up - GTA Remix', 'High You Are', 'Byob', 'Need You', 'Both (feat. Drake)', 'Powerful (feat. Ellie Goulding & Tarrus Riley)'], ['Stay Gold', 'Master Pretender', 'When I Get My Hands On You', 'Kansas City', 'Down On The Bottom', 'If Not For You', \"You Can't Break My Heart\", 'Hidee Hidee Ho #11', 'Wild Animals', 'Wait So Long', 'Chateau Lobby #4 (in C for Two Virgins)', 'Bored in the USA', 'If You Ever Want To Be In Love', 'Hold Back The River', 'All The Time', \"Fare Thee Well (Dink's Song)\", 'Grizzly Bear', 'Big Jet Plane', 'The Wrong Year', 'Lake Song', 'Make You Better', 'Green, Green Rocky Road', 'All The Pretty Girls', 'Jackie And Wilson', 'Come On Up To The House', 'Coming Home'], ['Breakers Roar', 'Magma', 'Rawnald Gregory Erickson the Second', 'HAPPINESS', '1-800-273-8255', 'Kindest Regards', 'There Will Be Time', 'The Cave', 'I Will Wait', 'Little Lion Man', 'Believe', 'Awake My Soul'], ['Whatever You Like', 'Touch The Sky', 'Comin Out Strong', 'The Show Goes On', 'Keep It Real', 'She Wanna Party (feat. Millie Go Lightly)', 'F With U', \"Don't Quit\", 'goosebumps', 'wokeuplikethis*', 'Butterfly Effect', 'Despacito (Featuring Daddy Yankee)', 'Ni**as In Paris', 'Despacito - Remix', 'iSpy (feat. Lil Yachty)', 'DNA.', 'HUMBLE.', 'Trophies', 'XO TOUR Llif3', 'Mask Off', \"I'm On Fire (Beam Me Up) (feat. Renzo)\", '$ave Dat Money (feat. Fetty Wap & Rich Homie Quan)', 'A Milli', '6 Foot 7 Foot', 'Forever', 'Not Afraid', 'Right Above It', 'Stronger', 'FML', 'pick up the phone', 'Do U Love Me', 'Relationship (feat. Future)', 'On Fire', 'Trap Paris (feat. Quavo & Ty Dolla $ign)', 'Goldie', 'Whatever You Need (feat. Chris Brown & Ty Dolla $ign)', \"It's Secured\", 'GOD.', 'Love Me', 'Promise', 'wonderful', 'Battle Scars', 'POWER', 'On Everything', 'Wyclef Jean', 'No Option', 'Father Stretch My Hands Pt. 1', 'Whatever', 'Digits', 'The Man', 'Who (feat. Young Thug)', 'Champions', 'Gorgeous', 'Dark Fantasy', 'Amazing', 'Too Many Years', 'The Next Episode', 'Mr. Carter', 'Lollipop', 'Know No Better (feat. Travis Scott, Camila Cabello & Quavo)', 'Buy The World', 'Erase Your Social', 'Reminder - Remix', 'X', 'President Carter', 'Myself', 'Good For It', 'No Complaints', 'NAV', 'The Way Life Goes (feat. Oh Wonder)', 'Supersoaka', 'I8', 'Love U Better (feat. Lil Wayne & The-Dream)', 'Patek Water', 'Drip on Me', 'Real Love', 'All Of The Lights', 'I Get The Bag (feat. Migos)', 'Get Right Witcha', 'Get Right Witcha', 'Broccoli (feat. Lil Yachty)'], ['I Like Me Better', 'Feels', 'Two High', 'Mama', 'Slow Hands', 'More Than You Know', 'Wild Thoughts', 'Summer Air', 'Degas Park', 'Back to You (feat. Bebe Rexha & Digital Farm Animals)', 'Most Girls', 'Bon appétit', 'You & Me', 'Get Low (with Liam Payne)', 'Show Me Love - EDX Remix / Radio Edit', 'Its Every Night Sis', \"It's Everyday Bro\", \"I'm the One\", 'Broccoli (feat. Lil Yachty)', 'do re mi', 'Do What I Want', 'Y.G.M.F.U.', 'Down', 'All Night (feat. Knox Fortune)', 'Pretty Girl - Cheat Codes X CADE Remix', 'I Want You Back', 'Hit Me Back feat. Blackbear', '8TEEN', 'Strip That Down', 'Sorry Not Sorry', 'Fetish (feat. Gucci Mane)', 'Rich Love (with Seeb)', 'Your Song', 'Look What You Made Me Do', 'What Lovers Do (feat. SZA)', \"When You're Gone\", 'Lean on Me', 'Havana', \"I'll Be There For You\", 'Make Me... (feat. G-Eazy)'], ['Take My Side', 'Everyday it Starts', 'Content Nausea', 'Urban Ease', 'Slide Machine', 'Kevlar Walls', 'Pretty Machines', 'Psycho Structures', 'The Map', \"These Boots Are Made for Walkin'\", 'Insufferable', 'No Concept', 'Uncast Shadow of a Southern Myth', 'Bodies Made Of', 'Black And White', 'Dear Ramona', 'What Color Is Blood', 'Vienna II', 'Always Back In Town', \"She's Rolling\", 'Sunbathing Animal', 'Up All Night', 'Instant Disassembly', 'Ducking And Dodging', 'Raw Milk', 'Into The Garden', 'Everyday it Starts', 'Content Nausea', 'Urban Ease', 'Slide Machine', 'Kevlar Walls', 'Pretty Machines', 'Psycho Structures', 'The Map', \"These Boots Are Made for Walkin'\", 'Insufferable', 'No Concept', 'Uncast Shadow of a Southern Myth', 'Master Of My Craft', 'Borrowed Time', 'Donuts Only', 'Yr No Stoner', 'Yonder Is Closer to the Heart', 'Careers In Combat', 'Light Up Gold I', 'Light Up Gold, Pt. 2', 'N Dakota', 'Stoned And Starving', 'No Ideas', 'Caster Of Worthless Spells', 'Disney P.T.', 'Tears O Plenty', 'Picture Of Health', 'Danger in the Club', 'Best of Friends', 'Step Up for the Cool Cats', 'All the Garden Birds', 'Rattlesnake Highway', 'Chicken Dippers', 'Last of the Summer Wine', 'Tom the Drum', \"Johnny Bagga' Donuts\", 'We Found Love', '3 Stars', '14', 'Southern Comfort', 'The Righteous One', 'Dirty Sheets', 'Bathroom Tile Blues', 'Gotta Get Down', 'Let It Burn', 'Who Needs You', 'Norman', 'Always N Forever', 'Blood Bubbles', 'North Ave.', 'Lays At Rest', 'Mallrats (La La La)', 'Halloween All Year', 'All The Cool Kids', 'Suspended', 'Painted Faces and Long Hair', 'Hallway Homicide', 'In My Bed', 'Never Ever', 'Live No One Else', 'Ancient Egypt', 'Under The Flowers', 'The Nights of Wine and Roses', \"Fire's Highway\", \"Evil's Sway\", 'For the Love of Ivy', 'Adrenaline Nightshift', 'Younger Us', 'The House That Heaven Built', 'Continuous Thunder', 'Ecce Homo', 'Still Life With Hot Deuce On Silver Platter', \"Upon Viewing Oregon's Landscape With The Flood Of Detritus\", 'Food Fight!', 'My Eating Disorder', 'Titus Andronicus vs. The Absurd Universe (3rd Round KO)', 'In A Big City', 'In A Small Body', '(I Am The) Electric Man', 'Tried To Quit Smoking', 'A More Perfect Union', 'Titus Andronicus Forever', 'No Future Part Three: Escape From No Future', 'Richard II Or Extraordinary Popular Dimensions And The Madness Of Crowds (Responsible Hate Anthem)', 'A Pot In Which To Piss', 'Four Score And Seven', 'Theme From “Cheers\"', 'To Old Friends And New', '...And Ever', 'The Battle Of Hampton Roads', 'Wales', 'Separate Songs', 'Misprint', 'Tiny Prayers', 'All My Home', 'Most Likely A Spy', 'No Castle', 'The Future', \"It's Not\", 'D', \"Let's Blow Up The Sun\", 'Civil Inattention', 'Kind Of Comfort', 'In Perpetuity Throughout The Universe', 'New Old', 'Quit', 'The Plan', 'Adventure Tortoise', 'The End', 'Bogus Journey', '(Castle) Numbskull', 'Wolf Dix Rd.', 'Prototypes', 'Spooky Action At A Distance', 'Sounds Like A Pretty Brutal Murder', 'A Serious House On Serious Earth', 'True Miserable Experience', \"Don't Drive Angry\", 'Whatever Happened To The Man Of Tomorrow?', 'Cutesy Monster Man', 'Time Keeps On Slipping Into the (Cosmic) Future', 'Timecop', 'I Always Never Said That', 'Black Friday', 'Know What I Mean, Jellybean?', 'Awes-nificent', 'In One Ear', \"Bustin' (Makes Me Feel Good)\", 'Every Town Has an Elm Street', 'A Message to the Angels Pt. II (Brainless God)', 'Buried Alive'], ['On My Mind', 'Sugar (feat. Francesco Yates)', 'Ghost - Lost Kings Remix', 'Lost And Found', \"Ain't Nobody (Loves Me Better)\", 'Wild Things', 'Ohio - filous Remix', 'Try Me (feat. Jennifer Lopez & Matoma)', 'Roses', 'Hold Me Up', 'Luxury', 'Outside', 'Hold On - Radio Edit', 'Something In The Way You Move', 'Cake By The Ocean', 'Love Myself', 'Intoxicated - New Radio Mix', 'Hold My Hand', 'Peanut Butter Jelly', 'Sorry', 'Praise You', 'Easy Love', 'Nobody To Love', '2 Heads', 'Riptide - FlicFlac Edit', 'Lush Life', 'Stole the Show', 'Valerie - Version Revisited', 'Whip It!', 'Focus', 'Be Right There', 'Stick Around', 'King', 'Perfect', 'Say My Name (feat. Zyra) - RAC Mix', 'I Took A Pill In Ibiza - Seeb Remix', 'Book Of Love', 'Cooler Than Me - Single Mix', 'Light It Up (feat. Nyla & Fuse ODG) - Remix', 'Here for You', 'Old Guitar', 'Journey Feat. Emma Carn - Radio Mix', 'Hands To Myself - KANDY Remix', 'Help Our Souls (Urban Contact Radio Edit)', 'Higher', 'Straight Outta Line - Sunset Child Radio Edit', '#ThisCouldBeUs', 'Somebody to Love Me', 'You - Radio Edit', 'Crave', 'Nobody Does It Better', 'My Type', 'Work from Home', 'No Money', 'Kill The Lights (with Nile Rodgers) - Audien Remix', 'Dying for You (feat. Alex Aris)', 'Wrapped Up', 'Golden Light (feat. 6AM)', 'CAN\\'T STOP THE FEELING! (Original Song from DreamWorks Animation\\'s \"TROLLS\")', 'Heaven', 'Oceans', 'Coming Over - filous Remix', 'Remind Me - Steve James Remix', 'Gone - Nicolas Haelg Remix', 'Where I Wanna Be', 'Time (feat. Kyle Reynolds)', \"Don't Stop Me Now - Remastered\", 'Wonderful Life [Mi Oh My]', 'Hvar - Radio Edit', 'Lighthearted', 'Give Me Sunshine - Spada Edit Cut', 'Bright - Lost Kings Remix', 'Daft Punk', 'Me Too', \"Don't Worry\", 'False Alarm', \"This Girl (Kungs Vs. Cookin' On 3 Burners) - Kungs Vs. Cookin' On 3 Burners\", 'Carry Me', 'This Is What You Came For', 'Greenlight', 'Once In a While', 'Final Song', 'Give It To Me Twice (feat. Sean Kingston & Rich The Kid)', 'Kids', 'Back 2 U', 'Kill Em With Kindness', 'Cheap Thrills', 'That Love', 'Hymn For The Weekend - Seeb Remix', 'Live Life', 'Sax', 'Wild Horses - Sam Feldt Remix', \"Sweet Lovin' - Radio Edit\", 'Classic', \"I'm Taking You With Me\", 'Shape of You - Galantis Remix', 'Stay (with Alessia Cara)'], ['Mess Is Mine', 'Budapest', 'Rude (Acoustic)', 'Pumpin Blood - Acoustic', 'Ho Hey', 'Riptide', 'Drive', 'Wake Me Up - Acoustic', 'Apologize (Acoustic Version)', 'Home', 'Breakeven (Acoustic)', 'Let Her Go', 'Wonderwall', \"No One's Gonna Love You - Live from Spotify Sweden\", 'Another Love - Live from Spotify (SXSW)', 'Bubbly - Solo Acoustic', 'Free', 'Song For Zula (Live From Spotify London)', 'Creep - Acoustic', 'Your Body Is a Wonderland', 'Everlong - Acoustic Version', 'Bonfire Heart', \"Don't You Worry Child (Acoustic Version) [feat. John Martin]\", 'Titanium Acoustic Cover', \"Knocking On Heaven's Door\", 'Radioactive', 'Skinny Love', \"Don't Know Why\", 'Come Away With Me', 'Stay - Album Version (Edited)', 'Billie Jean', 'Higher Ground - Live/1995', 'Wild World - Acoustic Version', \"Free Fallin' - Live at the Nokia Theatre\", 'Slow Dancing in a Burning Room - Live at the Nokia Theatre', 'Waiting On the World to Change - Live at the Nokia Theatre', 'Powerful Stuff', 'Wrecking Ball - Acoustic', '1957', 'First Day Of My Life', 'Chandelier - Piano Version', 'My Silver Lining', 'Guantanamera', \"Knockin' On Heaven's Door - Remastered\", 'Somebody That I Used to Know', 'Hallelujah - Acoustic Version', 'Stolen Dance - Live From Spotify Berlin / 2014', 'Take Me To Church - Live From Spotify, London 2014', 'Sitting, Waiting, Wishing', 'Banana Pancakes', 'Too Close', 'You Found Me', 'Save Tonight', 'Tennis Court', 'Royals', 'Team', 'Mad World', 'Let Her Go', 'Titanium', 'Riptide', 'Stay With Me', 'Halo', 'Hold On', 'Always Alright', 'Hang Loose', 'Would You Fight For My Love?', 'Love Interruption', \"Goin' Home\", 'Twenty Miles', 'Ashamed', 'Baltimore Blues No. 1', 'The Way We Move', \"Frankie's Gun!\", 'A Little Bit of Everything', 'That Western Skyline', \"Don't Wanna Fight\", 'I See Fire', 'Snake Eyes', 'Where Did You Sleep Last Night?', 'Where Did You Sleep Last Night', 'Take It All', 'S.O.B.', \"I'm Going to Live the Life I Sing About in My Song\", 'Angel Of Small Death & The Codeine Scene - Live From Spotify, London 2014', 'Cherry Wine - Live', 'Tamacun', 'Stairway To Heaven', 'The Soundmaker', 'Diablo Rojo', 'Hanuman', 'The Russian Messenger', 'Orion', 'Fram', 'Tamacun', 'The Soundmaker', 'Torito', 'Sunday Neurosis', 'Dream On - Dave Clarke Acoustic Version', 'Once I Was 7 Years Old', 'Once I Was 7 Years Old', 'Bartholomew', 'Shield Your Eyes - Acoustic', \"Things Are Changin' - Live [Solo Acoustic]\", 'High Hope', 'Bury Your Burdens In The Ground', 'All Night Thing - Recorded Live At Sixth & I Historic Synagogue, Washington, DC on April 17, 2011'], ['Chan Chan', 'De Camino a La Vereda', \"Isn't She Lovely\", 'You Are The Sunshine Of My Life', 'September', \"Love's Holiday\", 'Summer Breeze, Pts. 1 & 2', 'The Girl From Ipanema', 'Momento', 'I Need a Dollar', 'Green Lights', 'You Make Me Smile', 'Easy - Extended Version', 'Video Games', 'Blue Jeans', 'The High Road', 'Float On'], ['Overload - The Chainsmokers Remix', 'Let You Go - Radio Edit', 'Roses', 'Intoxicated - New Radio Mix', 'Until You Were Gone', 'Close To Your Love', 'Young Hearts - The Chainsmokers Remix', 'Like a Drum - The Chainsmokers Remix', 'Twenty-Something (Lucian Remix)', 'Gold', 'Hello', 'Walk This Way', 'Pilgrim', 'Blue Hunnids', 'Powerful (feat. Ellie Goulding & Tarrus Riley)', 'Lay It All On Me (feat. Ed Sheeran)', 'Hold Me Up', 'Let It Out', 'Nothing Left', \"Ain't Nobody (Loves Me Better)\", \"We Don't Have To Take Our Clothes Off\", 'Headlights (feat. Ilsey)', 'Army', 'Stole the Show', 'WILD', 'Try Me (feat. Jennifer Lopez & Matoma)', 'Nikki', 'Till The End', \"I Think I'm In Love\", 'Here It Is (feat. Chris Brown)', 'Someone Else', 'This Joint', 'Lights Down Low', 'Sitting Pretty (feat. Wiz Khalifa)', 'Right Where You Want Me - Radio Edit Version', 'Drifting', 'All I Need Is Your Love', 'Marilyn (feat. Dominique Le Jeune)', 'Kaleidoscope Love - Kaytranada Edition', \"I Don't Wanna Be In Love (Dance Floor Anthem)\", 'Running Out', 'Overdose', 'How I Want Ya - Dawin Remix', 'Working For It - Bonus Track', 'Automatic', 'The Way (feat. Chance the Rapper)', 'My Blood', 'I Know You Care', 'Stay', 'Where You Are', 'Emotional', 'Back To Earth - The Chainsmokers Remix', '2 Heads', 'Never Forget You', 'Change My Mind', 'Waiting All Night (feat. Ella Eyre)', 'Tenerife Sea', 'Lisztomania', 'Body On Me - Main', 'Breakdown', 'Never Be Like You', 'Kamikaze', 'Wild Things', \"Don't Let Me Down\", 'I’m Yours', 'Vultures - JPB Remix', 'Afterhours feat. Diplo & Nina Sky', 'Roller', 'Shotgun - Original Mix', \"Movin' Bass - GTA Remix\", 'We Are the People', 'Creep', \"You Know I'm No Good\", 'Flightless Bird/American Mouth', \"I'll Be Good\", 'Capsize', 'Bridges', 'Sun', 'Déjà vu', 'Places'], ['Dreaming', 'Let Go', 'San Francisco', 'No U Hang Up', 'Insomnia', 'Wings', 'Shower', 'Waves - Robin Schulz Radio Edit', 'Something Like A Party', 'Heroes (we could be)', 'I Want You To Know', 'PARTY', 'What Do You Mean?', 'On My Mind', 'Sorry', 'Been You', 'Lay It All On Me (feat. Ed Sheeran)', 'Children', 'Roses', 'Lean On (feat. MØ & DJ Snake)', 'G.R.8.U. 대.다.나.다.너', 'Something In The Way You Move', 'Company', 'Get Used To It', 'Once In a While', 'Strangers', 'Satellites', 'Fancy Footwork', 'Where Are Ü Now (with Justin Bieber)', 'Something New', 'Love in America (Radio Edit)', 'Unbelievable', 'Fragile', 'I Lied', 'All In My Head (Flex)', 'Toothbrush', 'Into You', 'WILD', 'Stay', 'All I See (feat. Laura Brehm)', 'Starving', 'Closer', 'YOUTH', 'Inside Out', 'The Ocean', 'Gold', 'New York City', 'All We Know', 'Say It', 'Lowlife - Slushii Remix', \"This Girl (Kungs Vs. Cookin' On 3 Burners) - Kungs Vs. Cookin' On 3 Burners\", 'Contradictions', 'Setting Fires', 'By Your Side', 'Paris', 'Wake Up Where You Are', 'Stay (with Alessia Cara)', 'Sooner Or Later', 'Slide', 'Now Or Never', 'First Time', 'Shed a Light', 'Watching You', 'No Promises (feat. Demi Lovato)', \"I'm the One\", 'Feel Good (feat. Daya)', 'Honest', 'Young', 'More More More', 'What Lovers Do (feat. SZA)'], ['Be Good (RAC Remix)', 'Bambi', 'Your English Is Good', 'Nature Of The Experiment', 'My Number', 'The Start Of Something', 'Ghost', 'Back In Your Head', 'If I ever feel better'], ['Panda', 'Boom Boom', 'Lean On (feat. MØ & DJ Snake)', 'Turn Down for What', 'Cheap Thrills', \"Stuntin' Like My Daddy - Street\", \"Can't Tell Me Nothing\", 'Turn On The Lights', \"I'm On One\", 'My Last', 'Guap', 'Lean and Dabb', 'Fight Night', \"I'm Sayin' (feat. Rich Homie Quan)\", 'Down In the DM', 'Stressed Out', 'Bang My Head (feat. Sia & Fetty Wap)', 'It’s My Birthday', \"03' Bonnie & Clyde\", 'Always On Time', 'Jumpman', 'R.I.C.O. (feat. Drake)', 'Best Friend', '679', 'Feds Watching', 'Say Aah', '2 Reasons (feat. T.I.)', 'Foreign Remix (feat. Justin Bieber)', 'Romantic (feat. Tiwa Savage)', 'Pony', 'As Long As You Love Me', \"I'm Into You\", 'Ayo Technology', 'Deuces', 'Deuces Remix - f/Drake, T.I., Kanye West, Fabolous, Rick Ross & André 3000 - Explicit Version', 'No Love', 'Selfie', 'Na Na', 'What I Be On - feat. Fabolous', 'Freaks', 'GDFR (feat. Sage The Gemini & Lookas)', 'Exchange', 'Alive', 'My Body', 'Soweto Baby (feat. Wizkid & DJ Buckz)', 'Unstoppable', 'The Fix (feat. Jeremih)', 'Blasé (feat. Future & Rae Sremmurd)', 'This Could Be Us', 'Nakupenda', \"Drop It Like It's Hot\", 'Drop the Game', 'I Run This', 'Never Be Like You', 'Boombastic', 'Boom (feat. MOTi, TY Dolla $ign, Wizkid & Kranium)', 'Juice Back', 'Rihanna', 'Fuck Up Some Commas', 'Make Me Sing (feat. Diamond Platnumz)', 'Sorry Not Sorry', 'Hollywood Niggaz', 'Shawty Is Da Shit', 'Cookie Jar', 'Money To Blow - Street Version', 'Tonga', 'They Just Dont Know', 'Asanteni Kwa Kuja', 'Catch Tomorrow', 'As Your Friend', 'As Your Friend', 'Firestone - Live Acoustic Version'], ['Beautiful Girls', 'It Girl', 'Replay', 'Fire Burning', 'In My Head', 'Love The Way You Lie', 'One, Two Step', 'Yeah!', 'Ignition - Remix', 'OMG', 'BedRock', 'Grenade', 'SexyBack', 'Pony', 'With You', 'Whatcha Say', 'Replay', 'Closer', 'Work Out', \"Keep it Movin' (feat. Big Meech)\", 'Unwritten', 'Crazy In Love', \"Big Girls Don't Cry (Personal)\", 'Bleeding Love', 'I Gotta Feeling', 'Umbrella', 'Apologize', 'Put Your Records On', \"I'm Like A Bird\", 'Who Knew', 'Toxic', 'Single Ladies (Put a Ring on It)', 'Always Be My Baby', 'SOS', 'Take A Bow - Main', 'Promiscuous', 'The Sweet Escape', 'Use Somebody', 'Hey There Delilah', 'Wild Ones (feat. Sia)', 'Tonight Tonight', 'Payphone', \"Fallin'\", \"Buy U a Drank (Shawty Snappin')\", 'Bills, Bills, Bills', 'Rock Your Body', \"You Don't Know My Name\", 'Telephone', 'End Of The Road', 'Paparazzi', 'Iris', 'Feel Good Inc', \"I'm Yours\"], ['Drink A Beer', 'Crash My Party', 'Country Girl (Shake It For Me)', 'Drunk On You', \"That's My Kind Of Night\", \"If Heaven Wasn't So Far Away\", 'Cowboys and Angels', \"Where It's At\", 'Little Toy Guns', 'Two Black Cadillacs', 'Good Girl', 'Blown Away', 'I Drive Your Truck', 'Drinking class', \"I Don't Dance\", \"Beachin'\", 'Barefoot Blue Jean Night', 'Cop Car', 'Somewhere In My Car', 'Six Foot Town', 'Caught Up In The Moment', '8th Of November - Album Version w/o Intro', 'Save A Horse (Ride A Cowboy)', \"Rollin' (The Ballad Of Big & Rich) - The Ballad Of Big & Rich Album Version\", 'Holy Water', 'Something in the Water', 'Cowboy Casanova', 'One Way Ticket', 'Thank God For Hometowns', 'Girl In A Country Song', 'Dirt', 'Sippin’ On Fire', 'Cruise', 'This Is How We Roll', 'Sun Daze', 'Fake ID (feat. Gretchen Wilson)', 'Little Toy Guns', \"Can't Get Away from a Good Time\", 'House Party', 'Kick The Dust Up', 'Leave The Night On', 'Lie a Little Better', 'You Sound Good to Me', 'Red Dress', 'Lose My Mind', 'Mean To Me', 'Mind Reader', 'Drunk On Your Love', 'Lose My Mind', 'Shut Up And Fish', 'Redneck Yacht Club', 'International Harvester', \"That's What I Love About Sunday\", \"Seein' Red\", 'Move', \"Huntin', Fishin' And Lovin' Every Day\", 'Ball Cap', 'You Should Be Here'], ['POWER', 'Pills N Potions', 'Flawless Remix', 'Starboy', 'Stronger', \"We Can't Stop\", 'Say It', 'Better', 'Side To Side', 'In the Name of Love', 'The Greatest', \"Say You Won't Let Go\", 'Sexy And I Know It', \"Don't Wanna Know (feat. Kendrick Lamar)\", 'All We Know', 'Broccoli (feat. Lil Yachty)', 'Sucker For Pain (with Wiz Khalifa, Imagine Dragons, Logic & Ty Dolla $ign feat. X Ambassadors)', 'Capsize', 'The Ocean', 'Final Song', 'Fresh Eyes', 'Call On Me - Ryan Riback Extended Remix', 'Controlla', 'You & Me', 'Alarm', 'Let Me Hold You (Turn Me On)', 'I Want You Back', 'Thinkin Bout You', 'Love On Top', 'Living For The City - Edit Version', 'Another Day in Paradise', 'Hurts So Good', 'Perfect Strangers', 'Sexual', 'in my miNd', 'Holy War', 'Trust Nobody (feat. Selena Gomez & Tory Lanez)', 'Mercy', 'Still Falling For You - From \"Bridget Jones\\'s Baby\"', 'By Your Side', 'The Mack', 'Body Say', 'Nervous (The Ooh Song) - Mark McCabe Remix', 'Body Moves', 'Miss You', 'New York City', 'Mad World', 'Half The World Away', \"Ain't No Sunshine - Lido Remix\", 'Love On The Brain', 'oui', 'All Time Low', 'All Night', 'True Disaster', 'Sit Still, Look Pretty', \"Ain't My Fault\", \"Ain't My Fault - R3hab Remix\", \"Ain't My Fault - Remix\", 'Make Me... (feat. G-Eazy)', \"I Think I'm In Love\", 'Let Me Love You', 'Bad Things (with Camila Cabello)', 'Kids', 'Cool Girl', 'What Do You Love', 'If I Were a Boy', 'Roses', 'Monsters', 'Wild Things', 'Monster Lead Me Home', \"Please Don't Go\", \"We Don't Have To Take Our Clothes Off\", 'Love Me Now', 'Habits Of My Heart', 'Make Me (Cry)', 'Stone Cold', 'Bed Of Lies', 'Fire', 'Shape of You', 'Castle on the Hill', 'False Alarm', 'Say You Do - Radio Edit', 'Drunk in Love', 'Distortion', \"If I Ain't Got You\"], ['Lay Me Down', 'Sorry', 'Chandelier', \"Signed, Sealed, Delivered (I'm Yours)\", 'Sugar', \"A Whole New World (Aladdin's Theme)\", \"I'm Not The Only One\", 'Stay With Me', 'Rich Girl', 'Teenage Dream', 'Bohemian Rhapsody - Remastered 2011', 'Party In The U.S.A.', 'Somebody To Love - Remastered 2011', 'You Never Even Called Me By My Name', 'Wrecking Ball', \"If I Ain't Got You\", 'Someone Like You', 'Sweet Caroline', 'Pompeii', 'Want to Want Me', \"Ain't No Mountain High Enough\", 'Semi-Charmed Life', 'What Makes You Beautiful', 'Cheyenne', 'Trumpets', 'Marry Me', 'It Girl', \"Givin' Up\", 'What If', 'Tennessee Whiskey', 'Parachute', 'Fire Away', 'Next To You', 'All Back', 'With You', 'Let Her Cry', 'I Want It That Way', 'Always Be My Baby', 'Burn - Confession Special Edition Version', 'I Believe I Can Fly', 'Fantasy', 'As Long as You Love Me', 'This I Promise You', \"It's Gonna Be Me\", 'Gone', 'Thinking Of You (I Drive Myself Crazy) - Remix', 'Incomplete', 'Shape of My Heart', 'Take A Bow - Main', \"I'm with You\", 'When I Was Your Man', 'More Than a Feeling - Single Version', 'Brown Eyed Girl', \"Can't Stop Loving You - 2016 Remastered\", 'Love Yourself', 'Life Is Worth Living', 'Where Are Ü Now (with Justin Bieber)', 'Company', 'Been You', 'Speakers', 'Make You Miss Me', 'Thinking Out Loud', 'Titanium (feat. Sia) - feat. Sia', 'Without You (feat. Usher) - feat. Usher', 'What Hurts The Most', 'Forever', 'Here Comes Goodbye', 'Unstoppable', \"Holdin' On\", 'Winner At A Losing Game', 'Every Day', 'Help Me Remember', 'I Feel Bad', 'Pieces', 'Feels Like Today', 'My Worst Fear', 'Like I Am', 'You', 'These Days', \"Prayin' For Daylight\", 'Waiting All My Life', \"I'm Movin' On\", 'Right On Back To You', \"Blue Ain't Your Color\", 'Good Thing', 'Sweet Thing', 'My Heart Is Open', 'Only You Can Love Me This Way', 'If Ever I Could Love', \"I'm In\", 'I Told You So', \"I Can't Stop Loving You\", 'Stupid Boy', 'Used To The Pain', 'God Made Woman', 'Everybody', 'Days Go By', 'Tonight I Wanna Cry', 'Somebody Like You', \"Who Wouldn't Wanna Be Me\", \"You'll Think Of Me\", 'Raining On Sunday', 'Desiree', 'You Look Good In My Shirt - Live in Gwinnett, GA', 'Bring You Back', 'One Mississippi', 'Waited Too Long', 'Mean To Me', 'Go On Without Me', 'Wanna Be That Song', 'If You Were My Girl', 'Drunk On Your Love', 'Life On The Run', 'Long Trip Alone', 'Every Mile A Memory', 'Trying To Stop Your Leaving', 'Soon As You Can', \"Lot Of Leavin' Left To Do\", 'Settle For A Slowdown', 'Gonna Get There Someday', 'Wish It Would Break', 'My Last Name', 'My Love Will Follow You', 'Do You Remember', 'Mine Would Be You', 'Over', \"She Wouldn't Be Gone\", \"Don't Make Me\", \"It Ain't Easy Bein' Me\", \"What I Wouldn't Give\", 'Nobody But Me', 'Goodbye Time', 'A Little More Summertime', 'Feel That Again', 'Night Train', 'Tattoos on This Town', 'Water Tower', 'Walking Away', \"Don't You Wanna Stay\", 'Fly Over States', 'Texas Was You', 'See You When I See You', \"I Ain't Ready to Quit\", 'Fast', \"Don't Give up on Me\", 'On My Highway', 'The Truth', 'Big Green Tractor', 'Love Was Easy', 'Do You Wish It Was Me', 'Relentless', 'Back in This Cigarette', 'Grown Woman', \"My Memory Ain't What It Used to Be\", 'I Break Everything I Touch', 'Hicktown', 'Amarillo Sky', 'Why', 'Even If I Wanted To', \"You're the Love I Wanna Be In\", 'Sober Saturday Night (feat. Vince Gill)', 'Alone Tonight', \"I'm Comin' Over\", 'Lonely Eyes', 'Goodbye', 'Who I Am With You', 'Tomorrow', 'Neon', \"When She's On\", \"Gettin' You Home\", \"Drinkin' Me Lonely\", 'Killing Me', 'First Week', 'Come On', 'Storm Warning', 'Wanted', 'If You Told Me To', 'Love Makes Me', \"Somebody's Heartbreak\", 'Rainy Season', 'Cry With You', 'All You Ever', \"Everybody's Got Somebody But Me (feat. Jason Mraz) - Encore\", 'What You Gonna Do - Duet With Ashley Monroe [Encore]', 'I Want Crazy - Encore', 'All My Life', 'Crazy', \"Tell Me It's Real\", 'Neon Moon', \"Boot Scootin' Boogie\", 'Brand New Man', 'Hillbilly Deluxe', \"She's Not the Cheatin' Kind\", 'The Long Goodbye', \"That Ain't No Way To Go\", \"Cowgirls Don't Cry\", 'She Used to Be Mine', \"He's Got You\", \"Don't Close Your Eyes\", 'Better Man', 'Every Time I Hear That Song', 'Say My Name', 'Wildfire', 'Loving You Easy', 'Up', 'Die In Your Arms', 'Company', 'Been You', 'Either Way'], [\"Shinin' On Me\", 'Sun Daze', 'Cruise', 'Endless Summer', \"Crushin' It\", \"Don't Ya\", 'Put a Girl in It', 'You', 'Show You Off', 'Hell Of A Night', 'All Over The Road', 'Young & Crazy', 'All Over Me', \"Why Don't We Just Dance\", 'Time Is Love', 'Put You in a Song', 'Summertime', \"Somethin' 'Bout A Truck\", 'Downtown', 'American Honey', 'Day Drinking', 'Play It Again', 'Drunk On You', 'Wagon Wheel', 'Life Is a Highway', 'Take A Back Road', 'Leave The Night On', 'House Party', 'Something To Do With My Hands', 'Make Me Wanna', 'Damn Good Friends - Duet with Jason Aldean', \"Honey, I'm Good.\", 'Ghost', 'Someone New', '21', 'Broke (feat. Stevie Wonder & Keith Urban)', \"Wavin' Flag - Coca-Cola® Celebration Mix\", 'Live Like A Warrior', 'The Sound Of Sunshine', 'Shake It', \"Love Don't Wait\", 'San Francisco', 'Geronimo', 'Wasted', 'Toes', 'Island Song', 'Talk Dirty (feat. 2 Chainz)', 'Trumpets', 'Diamonds', 'Classic', 'Wake Me Up - Radio Edit', 'Smoke', 'Replay', 'Starships', 'Still Into You', \"I Don't Want to Be\", 'Wrecking Ball', \"We Can't Stop\", 'Party In The U.S.A.', 'I Like It Like That', 'FourFiveSeconds', 'Cheerleader - Felix Jaehn Remix Radio Edit', 'Locked Away', 'Marvin Gaye (feat. Wale) - Remix', 'Dirt', 'Beer In The Headlights', \"I'm Comin' Over\", 'A Guy Walks into a Bar', 'Loving You Easy', 'Homegrown', 'One Day', 'Kiss Me Slowly', \"Who You Are - Int'l Version\", 'If It Means a Lot to You', 'California', 'High of 75', \"I Won't Give Up\", 'All About Us', 'Watch Me (Whip / Nae Nae)', 'Trap Queen', 'Fight Song', 'Shut Up and Dance', 'Hey Mama (feat. Nicki Minaj, Bebe Rexha & Afrojack)', 'Want to Want Me', 'Thinking Out Loud', 'Photograph', 'Lego House', 'Post To Be (feat. Chris Brown & Jhene Aiko)', 'Sugar', 'Flex (Ooh, Ooh, Ooh)', 'Talking Body', 'Nasty Freestyle', 'One Day - New Album Version', 'Corona And Lime', 'Whiskey in My Water', 'Wing$', \"Can't Hold Us - feat. Ray Dalton\", 'White Walls (feat. ScHoolboy Q, Hollis)', 'My Oh My', 'Holding On To You', 'House Of Gold', 'Scene Five - With Ears To See and Eyes To Hear', 'Scene Three - Stomach Tied In Knots', 'Should’ve Been Us', 'Hello', 'Home To Mama', 'Sorry', 'Your Love Is A Song', 'Brand New', 'Favorite Song', 'Almost Home', 'More Like Love', 'Love Yourself', 'Fall', \"Like I'm Gonna Lose You\", 'Beautiful', 'The Heart Of Dixie', 'Flashlight - From \"Pitch Perfect 2\" Soundtrack', 'Overwhelmed', 'Forever Young - Fast Version', 'One Call Away', 'Life Is Worth Living', 'I Was Made For Loving You', 'Tear In My Heart', '7 Years', 'There Will Be Time', 'Lost Boy', 'Gone', 'Closer', 'Cold Water (feat. Justin Bieber & MØ)', 'Home', 'Over Your Shoulder', 'If You Want To Sing Out, Sing Out', 'Peace Train', 'Take It All Back 2.0', 'All We Ever Knew', 'Fire Escape', \"Don't Threaten Me With A Good Time\", 'Young, Wild & Free (feat. Bruno Mars) - feat. Bruno Mars', 'Young Blood', 'Waves', 'Masterpiece', 'All Time Low', 'Home', 'In the Name of Love', \"Don't Let Me Down\", 'Home', \"i hate u, i love u (feat. olivia o'brien)\", 'Take The World', 'HAPPINESS - Acoustic', 'Sleep On The Floor', 'This Town', 'Shape of You', 'Body Like A Back Road', \"Let's Eat (feat. Xperience)\", 'Unsteady', 'Something Just Like This', 'Trouble'], ['Amarillo Sky', 'Barefoot Blue Jean Night', 'Anywhere With You', \"Keepin' It Country\", 'The One That Got Away', 'Ballad Of A Southern Man', 'Bar, Guitar And A Honky Tonk Crowd', 'Guitar Picker', 'Lonely East TX Nights', 'Virginia', 'Anna Marie', 'Boots On', \"Boys 'Round Here (feat. Pistol Annies & Friends)\", 'Sure Be Cool If You Did', 'Small Town Big Time', 'Mine Would Be You', \"Granddaddy's Gun\", 'Chicken Fried', 'Strong', 'Kick It In The Sticks', 'Round Here'], ['Safe & Sound - from The Hunger Games Soundtrack', 'Blown Away', 'Crazier', 'This Girl Is On Fire', 'FourFiveSeconds', \"I'm an Albatraoz\", 'One Last Time', 'The Heart Wants What It Wants', 'If I Die Young', 'DONE.', 'Postcard From Paris', 'Take Me To Church', \"Mama's Broken Heart\", 'Thinking Out Loud', 'Chandelier', 'I Love You This Much', 'Up', 'Troublemaker', 'Magic', 'Doing It (feat. Rita Ora)', 'Me And You', 'Hey', 'Happy', 'Me And My Broken Heart', 'Chandelier (Acoustic)', 'Happy', 'Rooftop', 'Mmm Yeah (feat. Pitbull)', 'Man! I Feel Like A Woman!', 'Before He Cheats', 'Starts with Goodbye', 'Chains', 'Trouble'], ['Dirty Little Secret', '1985', 'The Great Escape', '100 Years', 'Bad Day', 'Move Along', 'Hollaback Girl', 'Sk8er Boi', 'The Middle', 'The Anthem', 'Holiday/Boulevard Of Broken Dreams', 'In Too Deep', 'Girlfriend (German Version - Explicit) - German Version - Explicit', 'Shake It', 'It Ends Tonight', 'Over My Head (Cable Car)', 'My Own Worst Enemy', \"I'm Just A Kid\", 'Absolutely (Story of a Girl) - Radio Mix', 'Semi-Charmed Life', 'Basket Case', 'Nine In The Afternoon - Radio Mix', 'Complicated', 'Somebody Told Me', 'DONTTRUSTME - Explicit Album Version', \"How Far We've Come\", 'Island In The Sun', 'Slide', 'Hanging By A Moment', 'The Reason', 'Lips Of An Angel', \"Say It Ain't So\", 'You And Me', 'Inside Out', 'Chasing Cars', 'You Found Me', 'Wherever You Will Go', 'Push', \"Superman (It's Not Easy)\", 'Collide', 'Breakeven', \"I'll Be\", \"You're Beautiful\", 'The Scientist', 'Human', 'Free Bird', 'Sweet Home Alabama', 'Stairway To Heaven', 'More Than a Feeling', 'Juke Box Hero', 'Cold As Ice - Single / LP Version', 'Hotel California - Remastered', 'Brown Eyed Girl', 'Bohemian Rhapsody - Remastered 2011', \"Don't Stop Me Now - Remastered\", 'Come As You Are', 'Sweet Caroline', \"Sweet Child O' Mine\", 'Paradise City', 'Dream On', 'I Don\\'t Want to Miss a Thing - From the Touchstone film, \"Armageddon\"', 'American Pie', 'Jumper - 1998 Edit', 'Unwell', 'For the First Time', 'All The Small Things', 'Chop Suey!', 'Last Resort', 'Uprising', 'Numb', 'Rape Me', 'Use Somebody', 'Toxicity', 'How You Remind Me - LP Mix', 'High School Never Ends - Main Version - Explicit', 'Hurt'], ['Where The Money Is', 'Soul On Fire (feat. All Sons & Daughters)', 'My Lighthouse', \"That's My Deliverer\", 'Blessed Is The One', 'Sing And Shout - Live', 'Mercy and Grace (feat. Timothy Brindle)', 'For My Good', 'The Invasion (Hero) [feat. Jai]', 'God Is Enough (feat. Flame)', 'Tell the World (feat. Mali Music)'], ['Billie Jean', 'Jobs I Had Before I Got Rich & Famous', 'Bang Bang', 'When Doves Cry', 'Snakeskin', 'Burn the Witch', 'On the Floor', 'Hey Moon!', 'Treat Her Better', 'Prisunic', 'Odisea', 'Casino Café', 'The Tourist', 'Coconut Boat', 'Life On Mars'], [\"Burnin' It Down\", 'Dirt Road Anthem', 'When She Says Baby', 'The Only Way I Know (with Luke Bryan and Eric Church)', 'Laid Back', 'Take A Little Ride', 'White Liar', 'Neon Light', \"Boys 'Round Here (feat. Pistol Annies & Friends)\", \"Doin' What She Likes\", 'Sure Be Cool If You Did', 'Play It Again', \"That's My Kind Of Night\", 'Drunk On You', 'Country Girl (Shake It For Me)', 'Kiss My Country Ass', 'Banjo', 'Little Bit of Life', 'Little Toy Guns', 'Need You Now', 'Long Stretch Of Love', 'This Is How We Roll', 'Cruise', 'Drink A Beer', 'Kiss Tomorrow Goodbye', 'Yeah', \"Party Wasn't Over\", 'Crash My Party', \"Blue Ain't Your Color\", \"Blue Ain't Your Color - Live\", 'Love On the Brain - Live', \"Who's Lovin You - Live\"], ['Tired', \"I Won't Complain aka I Can't Complain\", \"God's Got a Blessing (with My Name on It!)\", \"He's An On Time God\", 'Fill Me Up - Live', 'When The Saints Go To Worship (feat. Kelly Price)', 'For Your Glory - Live', 'Thank You', 'Jesus Can Work It Out Featuring Dianne Williams - Live', 'Break Every Chain - Live', 'Show Up!', 'Never Would Have Made It', 'Stand', 'Praise Is What I Do', 'I Need You Now', 'He Turned It - Live', 'Total Praise - Live', 'No Weapon', 'Now Behold the Lamb', 'Take Me To The King', 'Create In Me a Clean Heart', 'I Believe - Live', 'Something About the Name Jesus', 'God Is Able', 'We Fall Down - Live', 'Jesus Is Real - Live', 'Holy Spirit, Come Fill This Place', 'I Smile', \"The Battle Is the Lord's\", 'Why We Sing', 'Silver and Gold', \"He's Able\", 'Praise on the Inside', 'Something About the Name Jesus', 'Stomp (Remix)', 'The Storm Is Over Now', 'Lean On Me', 'Give Me', 'Melodies From Heaven', 'I Know Who Holds Tomorrow', 'Lord Of All', 'Precious Lord, Take My Hand', 'In the Sanctuary - Live', 'Hosanna', 'You Are The Living Word'], ['Trap Queen', 'Earned It (Fifty Shades Of Grey)', 'Sugar', 'FourFiveSeconds', 'GDFR (feat. Sage The Gemini & Lookas)', 'Chains', 'Somebody', 'Crazy In Love', 'Get The Party Started', 'Fancy', 'Hey Ya! - Radio Mix / Club Mix', 'TiK ToK', 'SexyBack', 'Break Free', \"It's Tricky\", \"Don't Stop The Music\", 'I Love It (feat. Charli XCX) - feat. Charli XCX [Original Version]', 'Happy - From \"Despicable Me 2\"', 'One Last Time', 'Games', 'Take Your Time', 'Homegrown', \"Beachin'\", 'Play It Again', 'Sunshine & Whiskey', 'Country Must Be Country Wide', \"Creepin'\", 'Knee Deep (feat. Jimmy Buffett)', 'Old Alabama', \"Farmer's Daughter\", 'Country Girl (Shake It For Me)', 'Made In America', 'Truck Yeah', 'G.R.I.T.S.', 'Beer Money', 'If I Could Do It Again', 'Twenty-One', 'F*** the Po-Po', \"My Ol' Bronco\", 'Games', 'She Get Me High', 'Spring Breakdown', 'Night One', 'Suntan City', \"If You Ain't Here To Party\", 'Sorority Girl - Demo', 'Spring Break-Up', \"That's My Kind Of Night\", 'We Run This Town', 'Play It Again', 'Drunk On You', 'She Get Me High', \"Like We Ain't Ever\", 'Rain Is a Good Thing', 'The Criminal'], ['Radioactive', 'Jar of Hearts', 'distance', 'Make It Without You', 'the lonely', 'Jar of Hearts', 'A Thousand Years', 'Wrecking Ball', 'FU', 'Adore You - Remix', 'Adore You', 'When I Look At You', \"Can't Be Tamed\", 'The Climb', 'Stay', 'Every Rose Has Its Thorn', 'Wrecking Ball', 'Wrecking Ball', 'Adore You', 'Adore You - Remix', 'Do My Thang', 'Drive', 'Wanted You More', 'Need You Now', 'Bartender', 'Need You Now', 'Am I Wrong', 'Midnight', 'One Grain Of Sand', 'We Found Love - Bonus', 'I Believe In You - Acoustic Version', 'Monsters', 'Stay - Album Version (Edited)', 'Rather Be (feat. Jess Glynne)', 'We Found Love', 'Sail', 'Sail', 'Demons', 'Problem', 'Talk Dirty (feat. 2 Chainz)', 'Habits (Stay High) - The Chainsmokers Extended Mix', 'Thousand Miles', 'Thousand Miles', 'Strawberry Fields', 'A Drop In The Ocean', 'Slow Me Down', \"I Won't Give Up\", 'arms', 'I Try', 'Thinking Out Loud', 'November Rain', 'Never Forget You', 'Mercy', 'Like This'], ['Mele Kalikimaka - Single Version', \"It's Beginning To Look A Lot Like Christmas\", 'White Christmas', 'Winter Wonderland', 'The Christmas Song (Merry Christmas To You)', 'Santa Baby', 'Mrs Santa Claus', \"I've Got My Love To Keep Me Warm\", 'Last Christmas', 'Have Yourself A Merry Little Christmas - 1999 - Remaster', 'All I Want for Christmas Is You', 'Let It Snow! Let It Snow! Let It Snow!', 'Little Saint Nick', \"It's Beginning to Look a Lot Like Christmas\", 'Santa Claus Is Coming To Town'], ['Throw Some D', 'Rolex', 'Up', 'Fight Night', 'Swalla (feat. Nicki Minaj & Ty Dolla $ign)', \"Drankin' Patna\", 'You Be Killin Em', 'Bad and Boujee (feat. Lil Uzi Vert)', 'Really Really', 'Bounce Back', 'goosebumps', 'Caroline', 'Start It Up - feat. Kanye West, Swizz Beatz, Ryan Leslie, & Fabolous', 'Pass Out', 'Ni**as In Paris', 'The Motto', 'Panda', 'Swimming Pools (Drank)', 'My Nigga', 'Gas Pedal', '23', 'Dance (A$$) Remix', 'Be Real', 'Get Low - Street', 'Down On Me', 'Who Gon Stop Me', 'Broccoli (feat. Lil Yachty)', 'Congratulations', 'Donald Trump', 'Lolly', 'Shots', 'Look At Me Now', 'In Da Club', 'Sexy Can I feat. Yung Berg', 'Dope', 'All The Way Turnt Up', 'Bitch Better Have My Money', 'Body Language', 'Pony', 'Salt Shaker', 'The Real Slim Shady', 'The Fix (feat. Jeremih)', 'Gasolina Budda Remix - Remix', 'Walk It Out', 'Party Up', 'We Fly High', 'Shake That', 'How We Do', 'Suga Suga', 'In My Room (feat. Ty Dolla $ign & Tyga)', 'Make It Rain', 'What U Gon´ Do', 'Throw It Up', \"X Gon' Give It To Ya\", 'California Love - Original Version', 'Let Me Blow Ya Mind', 'Right Now (Na Na Na)', 'Country Grammar (Hot Shit)', 'Hey Ma', 'Still D.R.E.', 'Hypnotize - 2014 Remastered Version', 'Express Yourself', 'Straight Outta Compton', 'Purple Lamborghini (with Rick Ross)', \"Tear da Club Up '97\", 'The Boss', \"Speedin'\", \"Hustlin'\", 'Where The Hood At', 'The Next Episode', 'Yeah!', 'Real Nigga Roll Call', 'Act A Fool', \"'Till I Collapse\", 'Caribou Lou', 'P.I.M.P.', 'Move Bitch', 'Fuck Tha Police', \"Can't Be Touched (feat. Mr. Magic & Trouble)\", 'Dirt Off Your Shoulder', 'Get Crunk', \"If I Can't\", '99 Problems', 'We Own It (Fast & Furious)', 'Smack That - Dirty', \"Don't Matter\", 'Life Is Short', 'Goldie', \"F**kin' Problems\", 'Wild for the Night', 'Fuck Her Brains Out', 'Go Off (with Lil Uzi Vert, Quavo & Travis Scott)', 'Go Getta', 'Get Like Me', 'March Madness', 'All The Way Up', 'Waves', 'Juicy', \"I Don't Like (Remix)\", 'No Hands (feat. Roscoe Dash and Wale) - Explicit Album Version', 'Blasé (feat. Future & Rae Sremmurd)', 'Strange Clouds (feat. Lil Wayne) - feat. Lil Wayne', 'HUMBLE.', 'Unforgettable', 'Text Ur Number (feat. DJ Sliink & Fetty Wap)'], ['Esperanto', 'Green Onions - Single/LP Version', 'Superstition - Single Version', 'Higher Ground', 'Waves'], ['Dirt Road Anthem', \"Burnin' It Down\", 'Night Train', \"This Nothin' Town\", 'When She Says Baby', 'Feel That Again', 'The Only Way I Know (with Luke Bryan and Eric Church)', 'Take A Little Ride', 'Staring at the Sun', 'Walking Away', 'Tattoos on This Town', 'Fly Over States', 'Wide Open', 'Crazy Town', \"She's Country\", 'Big Green Tractor', 'Love Was Easy', 'The Truth', 'Laughed Until We Cried', 'Knee Deep (feat. Jimmy Buffett)', 'Chicken Fried', 'Keep Me In Mind', 'Jump Right In', 'Sweet Annie', 'Free', 'Highway 20 Ride', 'Tennessee Whiskey', 'Hell Of A Night', \"Somethin' Bad - (Duet with Carrie Underwood)\", 'Gunpowder & Lead', 'The House That Built Me', 'Little Red Wagon', 'White Liar', 'Only Prettier', 'Heart Like Mine', 'Smoke Break', 'Before He Cheats', 'Blown Away', 'Wasted', \"Don't Forget to Remember Me\", 'Jesus, Take the Wheel', \"We're Young and Beautiful\", \"I Ain't In Checotah Anymore\", 'Cowboy Casanova', 'Undo It', 'Temporary Home', 'Flat On the Floor', 'All-American Girl', 'Drink A Beer', 'Too Damn Young', 'Drunk On You', 'Country Girl (Shake It For Me)', 'Save It for a Rainy Day', 'Somewhere With You', 'American Kids', 'Come Over', 'You and Tequila', 'Pirate Flag', 'Feel Like a Rock Star (Duet with Tim McGraw)', 'El Cerrito Place', 'The Boys of Fall', 'Reality', 'Top Of The World', 'Shotgun Rider', \"Highway Don't Care\", 'Humble And Kind', 'Live Like You Were Dying', \"Don't Take The Girl\", 'Something Like That', 'Southern Voice', 'Indian Outlaw - Dance Mix', 'Felt Good On My Lips', 'Where The Green Grass Grows', 'Whiskey Lullaby', 'Country Nation', \"She's Everything\", 'Old Alabama', 'Limes', 'Remind Me', 'Mr. Misunderstood', 'Springsteen', 'Talladega', 'Like A Wrecking Ball', 'John Cougar, John Deere, John 3:16', 'This Is How We Roll', 'Anything Goes', 'Cruise', 'Get Your Shine On', 'Round Here', \"Here's To The Good Times\", 'Stay', \"It'z Just What We Do\", 'Tell Me How You Like It', 'Tip It Back', 'Dayum, Baby', 'Dirt', 'Break Up In A Small Town', 'Crash And Burn', \"Nothin' Like You\", 'Die A Happy Man', 'T-Shirt', 'Sippin’ On Fire', 'In Color', 'International Harvester', 'Smile', 'Follow Me', 'I Feel Good', 'Hey Girl', \"Don't It\", 'We Are Tonight', 'Good Directions', 'People Are Crazy', 'Another Day Without You', 'Love Done Gone', 'Let Me Down Easy', 'Summer Forever', \"That's How Country Boys Roll\", \"Pretty Good At Drinkin' Beer\", 'I Like The Sound Of That', 'Bless The Broken Road', 'My Wish', 'Banjo', 'Easy', 'Stand (Rascal Flatts)', 'Me And My Gang', 'Cool Thing', 'Life Is A Highway', 'Feels Like Today', 'Fast Cars And Freedom', 'Rewind', 'Beer In Mexico', 'Make Me Wanna', 'Last Dollar (Fly Away)', 'Wasted Time', 'Habit Of You', \"Sun Don't Let Me Down\", \"Pickin' Wildflowers\", 'Truck Yeah', 'Play Something Country', 'Save A Horse (Ride A Cowboy)', 'Run Away with You', 'Fake ID (feat. Gretchen Wilson)', \"It Don't Hurt Like It Used To\", 'Living in Fast Forward', 'All My Friends Say', \"Ain't Worth The Whiskey\", 'All Out of Beer', 'Red Dirt Road', 'Dirt On My Boots', 'Body Like A Back Road', 'Guinevere'], ['Doo Wop (That Thing)', 'Ex-Factor', 'Send It On', 'Untitled (How Does It Feel)', 'Nakamarra (feat. Q-Tip)', 'Crush On You - Prod. S1, Feat. Tone Trezure', \"Gone Baby, Don't Be Long\", 'Fall In Love (Your Funeral)', 'Mystery of Iniquity - Live', 'Wildfire', 'Molasses', 'Me and Mrs. Jones', 'III. Follow', 'Simply Beautiful', 'Try A Little Tenderness', 'Ms. Fat Booty', 'Back Pocket', \"Knockin' at the Wrong Door\", 'Laputa (Taylor McFerrin Remix feat. Anderson .Paak)'], ['If I Get High', 'Can I', 'Glacier (Atu Remix)', 'Compass', 'Somebody Else', 'This Must Be My Dream', 'If I Believe You', 'Lover, Please Stay', \"'Cause I'm A Man\", 'Go Slow', 'All This And Heaven Too', 'Clean', 'Still', 'Tremors', 'Show Me Love (feat. Chance The Rapper, Moses Sumney and Robin Hannibal) - Skrillex Remix', 'Mind Make', 'Under The Table', 'Bad Religion', 'Maps'], ['Satellites', '4 Legs and a Biscuit', 'Get Em', 'MYB (feat. Starlito)', 'White Tan', '4:30am', \"Strokin'\", 'Thinking With My D**k (feat. Juciy J)', 'Tiger', 'Smiling Faces', 'Careful', 'Money Magnet', \"Don't Know What To Call It\", 'Satellites (feat. Wiz Khalifa) - HPG Remix', 'Paper Chasers', 'Neon Lights', 'Narco Trafficante (feat. Percy Keith)', 'Arms Of A Stranger', 'Twilight [War With God]', 'IDGAF', 'Around Me', 'Counting On Ya', 'IHOP', 'Reputations On The Line', 'Trap Girl', 'Never Change', 'Empire', 'They Can Hate (feat. Max Minelli)', 'Play It How It Go (feat. Young Bleed)', 'Back Home', 'Respect', 'Love You', 'Thuggin Hard', 'In Da Building (feat. Max Minelli)', 'Nothing Change', 'It Shows', 'No Regrets', 'Do You'], ['Song 2 You', 'Hurricane', 'Dancin In The Rain', 'What Makes You Beautiful', 'Tell Me a Lie', 'Gotta Be You', 'Last First Kiss', 'Survivor / I Will Survive (Glee Cast Version)', 'Maps', 'Black Magic', 'Wings', 'Wanted', 'LA Devotee', 'House Of Memories', 'Nine In The Afternoon - Radio Mix', 'Domino', 'The Way That You Do', 'A Billion Hits', \"C'Mon\", \"Jessie's Girl (Glee Cast Version)\", \"Miss Movin' On\", \"Can't Stop Dancin'\", 'Make It In America', 'Loser Like Me (Glee Cast Version)', \"She's Not There (Glee Cast Version)\", 'You Get What You Give (Glee Cast Version)', \"Can't Fight This Feeling (Glee Cast Version)\", 'Take A Bow (Glee Cast Version)', 'Teenage Dream (Glee Cast Version) - Acoustic', 'Who Says', 'My First Kiss - feat. Ke$ha', 'Halo / Walking On Sunshine (Glee Cast Version)', 'Sexy Bitch - feat. Akon; Extended', 'Love Like Woe', 'Dangerous Woman', 'Keep Holding On (Glee Cast Version)', 'Endless Love (Glee Cast Version)', 'Lady Is A Tramp (Glee Cast Version)', \"It's All Coming Back To Me Now (Glee Cast Version)\", 'Everytime We Touch - Radio Edit', 'Hand in My Pocket / I Feel the Earth Move (Glee Cast Version)', 'We Got Us', 'Never Forget You', 'Colors', 'Magic (feat. Rivers Cuomo)', 'Hair', 'My Heart Will Go On - Love Theme from \"Titanic\"', 'L.A. Boyz', 'Best of 2012: Payphone / Call Me Maybe / Wide Awake / Starships / We Are Young', 'Taylor Swift Mash-Up', 'Story of My Life / You and I', 'Best of 2007: Stronger / Umbrella / My Love / What Goes Around / Irreplaceable / Home', 'I Know What You Did Last Summer', 'Apple Bottom Jeans', 'Treat You Better - Ashworth Remix', \"I Can't Go For That / You Make My Dreams (Glee Cast Version)\", 'Trumpets', 'Airplanes (feat. Hayley Williams of Paramore) - Explicit Album Version', 'Skinny Love', \"Beggin' On Your Knees\", \"Like Nobody's Around\", 'Run Wild', 'Picture This', 'Confetti Falling', 'Amazing', 'We Are', 'City Is Ours', 'Boyfriend', 'Worldwide', 'Halfway There', 'Count On You', 'If I Ruled the World', 'Sad Song (feat. Elena Coates)', 'Tell Me That You Love Me', 'Back At One', 'Listen (Glee Cast Version)', 'Closer', 'You - Evan Berg Remix Edit', 'Love Somebody', 'Payphone', 'Blow Me (One Last Kiss) (Glee Cast Version)', 'Hero', 'No Control', 'Sit Still, Look Pretty', 'The Smile Song', 'It Girl', 'All That I Know (feat. Hoodie Allen)', 'Replay', 'Ready to Go [Get Me Out Of My Mind]', 'When I Was Your Man', 'Grenade', 'Runaway Baby', 'Count On Me', 'Make Me Proud', '19 In 99', \"Tell Me Something I Don't Know\", 'What a Girl Is', 'True Love - Piano Duet', 'True Love', 'Freak The Freak Out', 'Should’ve Been Us', 'Finally Falling', 'He Could Be the One', \"You'll Always Find Your Way Back Home\", \"Buy U a Drank (Shawty Snappin')\", 'Now I Can Be the Real Me', 'It Girl', 'Down', 'Do You Remember', \"Ridin' Solo\", 'Whatcha Say', 'In My Head', 'Take Me Home, Country Roads', 'Leaving, on a Jet Plane', 'Firework', 'Last Friday Night (T.G.I.F.)', 'California Gurls - feat. Snoop Dogg', 'Dark Horse', 'Part Of Me', 'Roar', \"You Don't Own Me\", \"You Don't Own Me\", 'How Far I\\'ll Go - From \"Moana\"', 'Swing', 'Breakeven', 'Hall of Fame', 'I Gotta Feeling', 'Pump It', 'Boom Boom Pow', 'The Time (Dirty Bit)', 'Light Up The Night', 'Don’t Stop The Party', 'Fashion Beats', 'Imma Be', 'Rock That Body', 'Rockin To The Beat'], ['Thrift Shop (feat. Wanz)', \"Baba O'Riley\", 'Bang Bang Bang', 'Dead Leaves And The Dirty Ground', 'Sabotage', 'Can I Kick It?', 'You Got Me', '3030', 'Above The Clouds', \"Daydreamin' (feat. Jill Scott)\", 'Let It Roll', 'Acid Raindrops', 'Pumped Up Kicks', 'I Believe In A Thing Called Love', \"C'mon C'mon\", 'Young Folks', 'Cough Syrup', 'Somebody That I Used To Know', 'We Looked Like Giants', 'Bukowski', 'Be Quiet and Drive (Far Away)', 'Vicious Traditions', 'La belle et le bad boy', 'We Can’t Be Stopped', 'What You Waiting For?', 'B.O.B.', 'How To Love', 'Whatever You Like', 'I Fink U Freeky', 'Drifting In And Out', 'Banquet', 'Tear You Apart', 'Pow Pow', 'Psychotic Girl', 'Hannas Theme', 'Like A Friend', 'Animal Nitrate', 'Changeling / Transmission', 'Common People', 'Infinity Guitars', 'Pretentious Friends - feat. Busdriver', 'Pepper', 'Blurred Lines', \"We Can't Stop\", 'Started From the Bottom', 'Get Lucky', 'Royals', 'Maniac', 'Bound 2', 'My Favourite Game', 'Jolene', \"... Even Though You're With Another Girl\", 'Chandelier', 'Fancy', 'Drive', 'Shoop', 'Stolen Dance', 'Girls Just Want to Have Fun', 'Elastic Heart', 'Fire Water Burn', 'The Hills - Remix', 'First Day Of My Life', 'Kiss It Better', 'Needed Me', 'In Spite Of Ourselves', 'Summer Breeze'], [\"Who Says You Can't Go Home - Duet with Jennifer Nettles of Sugarland Version\", 'Get Your Shine On', 'Cruise', 'Cruise - Remix', 'Wagon Wheel', 'Dayum, Baby', 'Round Here', \"Here's to the Night\", 'Ready Set Roll', 'Springsteen', \"Hell Raisin' Heat Of The Summer\", 'Knee Deep (feat. Jimmy Buffett)', 'Sunshine & Whiskey'], ['m.A.A.d city', 'Mercy', 'Straight Outta Compton', 'Survival', 'Ni**as In Paris', 'Tokyo Drift (Fast & Furious) - From \"The Fast And The Furious: Tokyo Drift\" Soundtrack', \"'Till I Collapse\", 'Remember The Name (feat. Styles Of Beyond)', 'POWER', 'Jumpman', 'My Songs Know What You Did In The Dark (Light Em Up)', 'Kush Ups (feat. Wiz Khalifa)', 'Panda', 'Sneakin’', 'Trophies', 'Gospel', 'Pop That', 'Numb / Encore', 'Berzerk', 'Pop Style', 'I Got the Keys', \"X Gon' Give It To Ya\", 'Back To Back', 'All The Way Up (Remix)', 'Work REMIX', 'R.I.C.O. (feat. Drake)', 'King Kunta', 'The Game & Skrillex: El Chapo', '0 To 100 / The Catch Up', 'KMT', 'Collard Greens', 'Bad and Boujee (feat. Lil Uzi Vert)', 'Roll In Peace (feat. XXXTENTACION)'], ['Hooked on a Feeling', 'Go All The Way', 'Fooled Around And Fell In Love', 'I Want You Back', 'Come And Get Your Love', 'Escape (The Pina Colada Song)', 'O-o-h Child - Remastered', \"Ain't No Mountain High Enough\", 'Mr. Blue Sky', 'Fox On The Run', 'The Chain - Remastered', 'Southern Nights', 'My Sweet Lord', 'Come A Little Bit Closer', 'Surrender', 'Father And Son', 'Flashlight', 'Suffragette City - 2012 Remastered Version', 'We Gotta Get Out Of This Place - UK Single Version', 'Mr. Big Stuff', 'Moonage Daydream - 2012 Remastered Version', 'Magic - 2003 Remastered Version', \"Don't Bring Me Down\", 'September', 'Starman - 2012 Remastered Version', 'These Eyes - Remastered', \"Driver's Seat\", 'Blinded By The Light', 'When Will I See You Again', 'Band On The Run - Remastered 2010', 'Love Train', 'The Things We Do For Love', 'Summer Breeze', 'Shambala - Single Version', 'The Air That I Breathe - 2008 Remastered Version', 'Build Me Up Buttercup', 'If You Want To Sing Out, Sing Out', \"I Can't Help Myself (Sugar Pie, Honey Bunch) - Album Version (Stereo)\"], [\"You Don't Own Me\", 'Waking Up In Vegas', 'DNA', 'Salute', 'Mr. Music (Acapella)', 'Title', 'Make Me Like You', \"I Won't Say (I'm in Love)\", 'Future Sounds Like Us', 'Everything Is Not As It Seems - Series Theme Song', 'Love Will Remember', 'Right Where I Wanna Be', 'Crazy - The Voice Performance', 'Magnets', 'F.E.E.L.G.O.O.D.', 'I Know You Got Away', 'Two Young Hearts', 'Vapor', 'Just Saying', 'Never Forget You', 'A Spoonful Of Sugar - From \"Mary Poppins\"', 'Main Title / Once Upon A Dream / Prologue - From \"Sleeping Beauty\" Soundtrack', 'Dangerous Woman', 'Popular Song', 'The Night Is Still Young', 'The Island', 'Raise Hell', 'Time of Our Lives - Main Title Theme From \"I Didn\\'t Do It\"', 'Painting the Roses Red / March of the Cards - Soundtrack', 'Smile', 'BAM', 'Force of Nature', 'Moment 4 Life', 'Glowing in the Dark', 'Me, Myself and Time', 'Starstruck', 'サムシング・アバウト・ザ・サンシャイン - ソロ', 'Born To Be Somebody', 'Better Dig Two', \"Somethin' Bad - (Duet with Carrie Underwood)\", \"Mama's Broken Heart\", 'Fastest Girl in Town', 'White Liar', 'Blown Away', 'Cowboy Casanova', 'Undo It', 'Come Away To The Water', 'Kingdom Come', 'Safe & Sound - from The Hunger Games Soundtrack', 'Eyes Open', 'CAN\\'T STOP THE FEELING! (Original Song from DreamWorks Animation\\'s \"TROLLS\")', 'Work from Home', 'Cheetah Love', 'One Way or Another (Teenage Kicks)', 'Gotta Be You', 'Grow Up', 'Want U Back', 'Behind The Music', 'With Ur Love', 'Swagger Jagger', 'Superhero', 'I Got The Boy', \"Miss Movin' On\", 'Sierra', 'BO$$', \"Don't Wanna Dance Alone\", 'Single Ladies (Put a Ring on It)', 'Rolling in the Deep', 'I Kissed a Girl', 'This Love', 'Survivor', 'HandClap', 'Bored To Death', 'So Alive', \"Everything I Didn't Say\", 'Social Casualty', 'Voodoo Doll', 'Mrs All American', 'Heartbreak Girl', 'Long Way Home', 'End Up Here', '18', 'Kiss Me Kiss Me', \"Don't Stop\", 'Fly Away', 'Safety Pin', 'The Girl Who Cried Wolf', 'Airplanes', 'Outer Space / Carry On', 'Castaway', 'Permanent Vacation', 'Catch Fire', 'Heartache On The Big Screen - Live', 'Out Of My Limit - Live', 'American Oxygen', 'Them Girls Be Like', 'Been Here All Along', 'I Learned From You', 'Year 3000', 'Lovebug', 'One Way Or Another - 2001 - Remaster', 'Believe', 'Just Like Fire (From the Original Motion Picture \"Alice Through The Looking Glass\")', 'Love Myself', 'Crazy Beautiful Life'], ['Space Jam', 'Bohemian Rhapsody - Remastered 2011', \"Don't Stop Me Now - Remastered\", 'Come Fly With Me - 1998 Digital Remaster', 'My Way', 'Fly Me To The Moon', 'The Way You Look Tonight', 'Careless Whisper', 'Seven Nation Army', 'HUMBLE.', 'Mister Sandman', 'Take On Me', 'Bad - 2012 Remaster', 'Smooth Criminal - 2012 Remaster', 'The Way You Make Me Feel - 2012 Remaster', 'Thriller', 'Beat It - Single Version', 'Billie Jean', 'Never Gonna Give You Up', \"Ain't No Mountain High Enough\", 'Ghostbusters', 'We Are The Champions - Remastered 2011', 'The Final Countdown', 'Feel Good Inc', 'Clint Eastwood', 'Pumped Up Kicks', \"Stayin' Alive\", 'Y.M.C.A.', 'Mr. Blue Sky', 'Ocean Man', 'Hey Ya! - Radio Mix / Club Mix', 'Hotel California - Remastered', 'September', 'Witchcraft - Remastered', 'Fuck You', 'Forget You', 'I Write Sins Not Tragedies', 'LA Devotee', 'Nine In The Afternoon - Radio Mix', 'The Ballad Of Mona Lisa', 'Lying Is The Most Fun A Girl Can Have Without Taking Her Clothes Off', 'Vegas Lights', 'Death Of A Bachelor', 'She Will Be Loved - Radio Mix', 'Sunday Morning', 'Somebody That I Used To Know', 'Johnny B. Goode', 'My Girl', 'The Middle', 'Mambo No. 5 (A Little Bit of...)', 'Feel It Still', 'Dream On', 'Walk This Way', 'Highway to Hell', 'Back In Black', \"Isn't She Lovely\", \"I've Got The World On A String\", 'Superstition - Single Version', \"Isn't She Lovely\", 'Bohemian Rhapsody', 'Shooting Stars', 'La Vie En Rose', 'Believer', 'Crazy', 'Mr. Clean', 'Mr. Sandman - 1954 #1 Billboard chart hit', '1 Thot 2 Thot Red Thot Blue Thot', 'Rasputin', 'Kung Fu Fighting', 'The Duck Song (The Duck and the Lemonade Stand)', 'The Duck Song 2', 'The Duck Song 3', 'Somewhere Over The Rainbow', 'Chop Suey!', 'Young Dumb & Broke', \"C'mon\", 'Bad Luck Charm', \"Let's Just Live (feat. Casey Lee Williams)\", 'This Will Be the Day (feat. Casey Lee Williams)', 'Time to Say Goodbye', 'Shine', \"I'm the One (feat. Casey Lee Williams)\", \"It's My Turn (feat. Casey Lee Williams)\", 'Neon (feat. Casey Lee Williams)', 'F.U.N. Song', \"Fatso's Theme aka Play Him Off, Keyboard Cat\", 'Do You Like Waffles?', 'Nyan Cat Theme', 'Theme (From \"Thomas the Tank Engine\")', 'Bananaphone', 'Cantina Band', \"Man's Not Hot\", 'Trndsttr (feat. M. Maggie) - Lucian Remix', 'Sandstorm - Radio Edit', 'Home (feat. Casey Lee Williams)', 'Cotton Eye Joe', 'All Star', 'Goofy Goober Rock', 'Tunak Tunak Tun', 'Campfire Song Song', \"The Fresh Prince of Bel-Air - Theme from NBC's The Fresh Prince of Bel-Air\", 'The Time Is Now (John Cena)', 'Krusty Krab Spongebob Trap Remix Vine Theme', 'Move Bitch', 'Spooky Scary Skeletons', 'Peanut Butter Jelly Time - Radio', 'Pokemon Theme', 'We No Speak Americano - Radio Edit', 'Red Like Roses - Part II (feat. Casey Lee Williams & Sandy Casey)', 'The Hampster Dance Song', 'Super Mario Bros - Original', 'We Are Number One', 'On the Floor', 'I May Fall (feat. Casey Lee Williams)', 'The Good, The Bad And The Ugly - Main Title', 'Pink Panther Theme', 'Caffeine (feat. Lamar Hall)', 'Shia LaBeouf Live', \"Let's Get It On\", \"Fuck This Shit I'm Out\", 'Running in the 90s', 'I Just Had Sex', 'Deja Vu (Initial D)', 'Mii Channel (Nintendo Wii)', 'New Face', 'I Burn (feat. Casey Lee Williams & Lamar Hall)', 'Die', 'Why You Always Lying?', 'Oh Yeah', 'Perry the Platypus Theme', 'Bring Me To Life', 'What Is Love', 'Red Like Roses (Red Trailer) [feat. Casey Lee Williams]'], ['Cross My Mind', 'Running Out', 'Capsize', 'Nowhere', 'For U (feat. SHE)', 'Love Me Better (feat. Ariel Beesley) [Tep No Remix]', 'Light It Up (feat. Molly)', 'Runaway', 'Run Away', 'Burn. Build. Repeat.', 'Island Party', 'Only One - Radio Edit', 'Invincible - Original Mix', 'Roller', 'No Apologies. (feat. Wiz Khalifa) - The Wixard Remix', 'Would I Lie To You - Festival Mix', 'Knives', 'Follow You', \"Hold On, We're Going Home\", 'In My Head (Joe Mason Remix) [feat. RKCB]', 'Morrison', 'Call On Me - Ryan Riback Extended Remix', 'Shotgun Love', 'Warm Blood', 'Looks Like Sex', 'What About The Love', 'Thousand Miles', \"Little Bit O'Soul\", 'Let Me Touch Your Fire', 'Fight Song', 'Save Tonight (feat. Solamay)', 'WTF Love Is', 'Hold You Down', 'The Wave (feat. Madcon)', \"I Won't Let You Walk Away - Lost Kings Remix\", \"It's All On U (T-Mass & LZRD Remix) [feat. Liam O'Donnell]\", 'Waiting - Single Version', 'Off My Mind', 'Kicks', 'Anymore', 'Warrior', 'Scared to Be Lonely', 'Church', \"Don't Speak For Me (True)\", 'Closer', 'Keep Your Eyes On Me', 'Hey Baby - Dimitri Vegas & Like Mike Vs. Diplo & Kid Ink', 'Paradise', 'Escape', 'Work The Middle', 'Samantha', 'Run Up (feat. PARTYNEXTDOOR & Nicki Minaj)', 'What Good is Saturday', 'Oceans', 'Blessings', 'Love Me Better', 'Golden', 'Testify', 'No Matter', '4AM', 'LIE (feat. Jerm)', 'Keep Running', 'Daddy', 'So Good', 'Play', 'Skin', 'Stuck in the Middle', 'Out Of My System (feat. Kutle Khan)', 'Distant', 'Quicksand', 'Quit You', 'Behind The Music', 'Mr. President', 'Get You Good', 'We Can Be Beautiful - Nolan van Lith Remix', 'Like A Star (feat. Nicki Minaj)', \"Can't Get Enough feat. Mariah McManus\", \"I'll Be Gone - Extended Mix\", 'Fly', 'Working For It - Nomero Remix', 'When I Pray For You'], ['Sometimes', 'Janet', 'Gold', 'Lock It Up (feat. Kehlani)', 'We Find Love', 'Often', 'Rewind', 'Sunday Vibes'], ['Win Some, Lose Some', 'I Know', 'Deserve It', 'Jump Out The Window', 'Halfway Off The Balcony', 'Inspire Me', \"Let Em' Know\", 'Exchange', 'For However Long', \"Don't\", 'Open Interlude', 'The Sequence', '502 Come Up', 'Sorry Not Sorry', 'Been That Way', 'Overtime', 'Right My Wrongs', 'No Longer Friends', \"Don't Get Too High\", 'Blowing Smoke', 'We Both Know', 'You Got It', 'In Check', 'Self-Made', 'Run Me Dry', 'High Stakes', 'Rain Interlude', 'Teach Me a Lesson', 'Stay Blessed', 'Money Problems / Benz Truck', 'Set It Off', 'Nevermind This Interlude', 'Before You Judge', 'Somethin Tells Me', 'Rain', 'Hollywood', 'Juke Jam (feat. Justin Bieber & Towkio)', 'Proof', 'Drunk Texting', 'Wild Thoughts', 'For Free', 'Ima Be Alright', 'Madonna', 'Jungle', 'Passionfruit', 'Get It Together', 'Teenage Fever', 'Since Way Back', 'From Time', 'Too Much', 'Cameras / Good Ones Go Interlude - Medley', 'The Real Her', 'The Ride', 'Feel No Ways', 'Faithful', 'Still Here', 'Childs Play', 'Too Good', 'Pyramids', 'Novacane', 'Lockjaw', 'My Collection', 'Still', 'Remember You', \"Let's Get Lost\", 'For This', 'Ill Mind of Hopsin 5', 'Runaway', 'In the Morning', \"She's Mine Pt. 1\", \"She's Mine Pt. 2\", 'Wet Dreamz', 'Love Yourz', \"Don't Tell 'Em\", 'Right Here', 'Comfortable', 'Ultralight Beam', 'FML', 'LOYALTY. FEAT. RIHANNA.', 'LOVE. FEAT. ZACARI.', 'Location', 'Anziety', 'Never Been', 'Story Of The Stairs', 'Otherside (feat. Fences) [Ryan Lewis Remix]', 'Bad Habits', 'Past Gone', 'Say No More', '10th Inning', '21 Questions', 'Special', 'Special Love', 'FaceTime', 'No Scrubs', 'Here', 'Outside', 'Tell Your Friends', 'LoveHate Thing - feat. Sam Dew', 'Shades Of Blue', 'Homewrecker', 'No Limit', 'Know Ya (feat. Trey Songz)', 'On The Way', 'Déjà vu', 'first take', 'Loners Blvd', 'To D.R.E.A.M.', 'Used to You', 'Emergency', 'Back To You', 'Scared', 'Losin Control', 'Got This', 'Family & Friends', 'Ride Slow', 'Me You', 'Cherry Hill', \"T'd Up\", 'Psycho, Pt. 2', 'Goodbye', 'The Otherside', 'The Journey', \"Ain't Nobody Takin My Baby\", 'Diced Pineapples', 'Yours Truly, Austin Post', 'Up There', 'Options', 'Spiteful', 'Wus Good / Curious', 'Come and See Me (feat. Drake)', 'Rendezvous', 'Freak In You', 'Peace Of Mind', 'Brand New', 'Brightside', 'Jack Daniels', 'Through the Night', 'Spell Check', 'Black Out', 'Unforgettable', '1-800-273-8255', 'Gang Related', 'Alright', 'Go Flex', 'I Fall Apart', 'Leave', 'When We', 'Broken Whiskey Glass', 'Big Lie', 'Say It', 'goosebumps', 'Waves', 'Never Know', 'Time For That', 'Manifest', 'Nobody Else But You', 'PRBLMS', 'Stuck on Stupid - Edit', 'Free', 'The Stakeout', 'Think About You', 'Down For Me', 'Drifting', 'Get You Good', 'Butterfly Effect', 'Too Young', 'Complete', 'Bless Me', \"Fallin' Too\", 'Maybe', 'The Game', 'Another Sad Love Song', 'Some Way', 'Tru'], ['From This Valley', 'Farther Along', 'Dark Skies', 'We Are Broken', \"That Wasn't Me\", 'Murder in the City', 'The Perfect Space', 'Down In The Valley', 'Hold On', 'Pretty Pimpin', 'Rivers And Roads', 'Sounds Like Hallelujah', 'Time After Time', 'Big Black Car', 'Bloom - Bonus Track', 'October - Remastered 2008', 'Pride and Joy', 'I Wish'], ['Dream Machines', 'Mai Joy', '13', 'Medicine', 'Smother', 'Candles', 'In the Hearts of Men', 'Mouthful of Diamonds', \"When I'm Small\", \"Don't Move\", 'The Day You Died', 'Celebrating Nothing', 'Byegone', 'Fever Dreams', 'Girlfriend', 'My Shadow', 'Lust for Life', 'Summertime', 'Magic', 'With Candy', 'Clouds', 'Made Too Pretty', 'Contact', 'alone', 'Heart It Races - Dr. Dog Version', 'Run Boy Run', 'Iron', 'The Exit', 'Holidays', 'Knee Deep', 'Land of the Bloody Unknown', 'Dog', 'Everything Is My Fault', 'Swim', 'A Dream', 'Lurker', 'Guns For Hands', 'Holding On To You', 'Car Radio', 'Semi-Automatic', 'Houdini', 'Waste', 'Team', 'Forgiven / Forgotten', 'Stay Useless', 'New Summer', 'Genesis', 'Oblivion', 'Do', 'Nothing', 'Soak It Up', 'Meth Lab Zoso Sticker', 'Balance', \"Life's A Gas - Remastered\", 'Shelia', 'Walkabout (W/ Noah Lennox)', 'Easy Easy', '363N63', 'Feels Like We Only Go Backwards', 'Keep In The Dark', 'Always Alright', 'Souljacker Part I', 'Spirit In The Sky', 'Love Song', 'Laughing', \"You Don't Know Me (featuring Regina Spektor) - Explicit Album Version\", 'Island', 'Ya Sé', 'Talking Backwards', 'Objects Of My Affection', \"Let's Call It Off - Single Version\", 'Pigeon', 'Nerve Jamming', 'Officer'], ['Final Song', 'Close', 'Something About You', 'Kiss The Sky (feat. Wyclef Jean)', 'oui', 'Motley Crew - Whiiite Remix', 'Cold Water (feat. Justin Bieber & MØ)', 'Controlla', 'No Money', 'One Dance', 'Too Good', 'Say My Name', 'Capsize', 'Clear - Original Version', 'Help Our Souls (Urban Contact Radio Edit)', 'Magnets - A-Trak Remix', 'Gold', 'Middle', 'Dancing in the Moonlight', 'Lush Life', 'Knives', 'Never Be Like You', 'Daydreamer - Gryffin Remix', 'Desire - Gryffin Remix', 'Omen - Radio Edit', 'Hotter Than Hell'], ['Atrévete-Te-Te', 'Te Extraño - Bachata Version', 'Lloro Y Lloro', 'Shorty, Shorty', 'No Me Digas Que No', 'Through That Window (Enamorado Estoy)', 'Baila Esta Cumbia', 'Na Na Na (Dulce Niña)', 'Chiquilla', 'Speedy Gonzales', 'Na Na Na (Dulce Niña)', 'Aléjate de Mí', 'Todo Cambió', 'Mientes', 'Bésame', 'Abrázame', 'Coleccionista de Canciones', 'Sólo para Ti', 'Mi Corazoncito', 'Lluvia al corazón', 'El Verdadero Amor Perdona', 'Bendita Tu Luz', 'Labios Compartidos', 'Corazon Espinado', 'Mariposa traicionera', 'Oye mi amor - Remasterizado Digitalmente', 'Vivir sin aire', 'Move Ya Body', 'Oye Mi Canto', 'La Vida Es Un Carnaval', 'Culo', 'Go Girl', 'Bojangles (Remix)', 'Ay Chico (Lengua Afuera)', 'Fuego', 'Quiero Bailar', 'La Vida Es Así', 'Dime', 'Cuando Me Enamoro', 'Siente el Boom (feat. Tito el Bambino & Randy)', 'El Tra', 'La Busco Featuring Toby Love', 'En La Disco', 'Me Gustas', 'Suavemente', 'La Negra Tiene Tumbao', 'La Vida Es Un Carnaval', 'Dos Locos', 'Perdidos', 'Te Quiero Igual Que Ayer', 'Eres para Mí', 'Limón y Sal', 'Lento', 'Guaya Guaya', 'Dutty Love', 'No Sigue Modas Aka Ella No Sigue Modas', 'Taboo', 'Canción De Amor', 'The Ketchup Song (Asereje) - Summer.radio edit', 'Ni Una Sola Palabra', '¡Corre!', 'La Camisa Negra', 'A Dios Le Pido', 'Gotas De Agua Dulce', 'Yerbatero', 'Down', 'Pobre Diabla', 'Ven Bailalo - Bachareggae', 'Na De Na', 'Me Enamoré', 'La Vecina', 'Ella Quiere (Que, He, He)', 'Bandoleros - Live', 'Ginza', 'Ay Vamos', '6 AM', 'Tranquila', 'La Venganza', 'Yo Te Lo Dije', 'Watagatapitusberry - Remix', 'La Muy Muy - (Album Version)', 'Y Yo Sigo Aqui', 'Summer Nights', 'Fue en un café - Under the boardwalk', 'Te Amo (Para Siempre)', 'Salio El Sol', 'El Taxi', 'Corazon Sin Cara', 'Stand by Me', 'Niña Bonita', 'Rosas', 'El Mellao', 'El Bombon Asesino (Dance)', 'Dos Locos', 'Mi Corazoncito', 'Te Robaré', 'Corazon Sin Cara', 'Stand by Me', 'Lamento Boliviano', 'Eres', 'La Tortura', 'Dile al Amor', 'Tengo un Amor', 'Todavia', 'Te Quiero', 'Que Quieres De Mi Remix (feat. Nengo Flow,Nova Y Jory,J Alvarez,Farruko)', 'Enamorado De Ti', 'Por Amar A Ciegas (Hip Hop Version)', 'Hace Mucho Tiempo', 'Contigo Quiero Amores', 'Iré a Buscarte', 'Como Tiene Que Ser', 'Diferente', \"Pa' Que La Pases Bien\", 'Ganas De Ti', 'Tu Te Imaginas', 'Sensacion Del Bloque', 'Doncella (Remix) (Remix Mix) - Remix', 'Alocate', 'El amor', 'Te comence a querer', 'Sol, Playa Y Arena', 'Shorty', 'No Te Veo - Remix', 'Si Te Vas, Que Tengo Que Hacer - Remix', 'Tu Si Quieres, Tu No Quieres', 'Mi Alma Se Muere Remix (feat. Pitbull & Omega)', 'Merengue Electronico', 'La Cumbia Sampuesana', 'Cumbia Sobre El Rio', 'La Cumbia De La Cerveza', 'Candy', 'Fanática Sensual', 'Mi Vecinita', '¿Por Que Te Demoras?', 'Es Un Secreto', 'Parisera', 'Nuestro Amor Es Asi', 'Pam Pam', 'Abusadora', 'Me Estas Tentando', 'Ahora Es', 'Sexy Movimiento', 'Estoy Enamorado', 'Promise', 'Mi Santa', 'La Diabla', 'Si Una Vez', 'Cobarde', 'Dímelo', 'No Me Doy Por Vencido', 'Por Amarte Así', 'Luna', 'Duele El Amor', 'Y Tu Te Vas - Duranguense Live', 'Solo Contigo', 'Sentimientos', 'Los Caminos De La Vida', 'Pasame La Botella', 'Escandalo', 'Mil Horas - En Vivo Desde Tijuana, Mexico/2004', 'Así Fue', 'Azul', 'Por Amarte Así', 'Si No Te Hubieras Ido', 'Golosa', 'Hermoso Cariño', 'Soy México', 'Si Nos Dejan', 'Tocando Fondo', 'No Me Quiero Enamorar', 'Amame', 'Volver a Amar', 'Yo Quería', 'Tal Vez', 'Fuego En Tu Piel - Duranguense', 'Quizas', 'Te Amo (Para Siempre)', 'Enséñame A Olvidarte', 'Dime Que Me Amas', 'Vete Ya', 'Te Presumo', 'La Mejor De Todas', 'Me Gusta Todo De Ti', 'Tu Adios No Mata', 'Una Copa De Olvido', 'Si La Quieres', 'Fotos Y Recuerdos', 'No Me Queda Más', 'Amor Prohibido', 'Fotos Y Recuerdos', 'El Chico Del Apartamento 512', 'Ya No', 'Techno Cumbia', 'Tus Desprecios', 'Amor Prohibido', 'Me Vas A Recordar'], ['U Make Me Feel', 'Get Used to This', 'Dynasty - Elephante Remix', 'Wild Things - Remix', 'Give It Up', 'Invincible', 'Move on Me', 'Humble And Kind', 'Decisions', 'Back to Me', 'Talk to Me', 'Like I Did', 'TMWYKAL', 'Play', 'How You Gonna Act Like That', 'Paris', 'Issues', 'Chained To The Rhythm', 'Rockabye (feat. Sean Paul & Anne-Marie)', 'Weak', 'Tunnel Vision', 'iSpy (feat. Lil Yachty)', 'Something Just Like This', \"That's What I Like\", 'Shape of You', 'Location', 'Cold (feat. Future)', 'Happier', 'Rolex', 'Slide', 'Castle on the Hill', 'The Lost Boy (feat. Skizzy Mars)', 'Believer', 'Stay (with Alessia Cara)'], ['Mighty Warrior', 'The Lord Our God - feat. Kristian Stanfill', 'Good Good Father', 'Great Are You Lord', 'Fierce - Live'], [\"It Ain't Right - Original Mix\", 'Stand!', \"Let's Get Started\", 'Shave It Up', 'Operate', 'The Wheel', 'Papercut', \"Can't Catch Tomorrow (Good Shoes Won't Save You This Time)\", 'Never Been', 'Burn, Burn', 'Lydia', 'Running in the Sun', 'Hymnals - RAC Mix', 'No - Zwette Remix'], ['Shape of You', 'HAPPINESS', 'Never Be Like You', 'HARD LOVE', 'Roll Up', 'Talk Too Much', 'We Own The Night - The Chainsmokers Edit', 'Desire', 'The Gun (feat. Trinidad James, Dev & Chrish)', \"Ain't No Sunshine - Lido Remix\", 'All Night', 'Feels Like Home - Radio Edit', 'Waiting For Love', \"I'm in Love\", 'Love Like We Used To - Lenno Remix', 'Before You Go', 'Genghis Khan', 'When We Were Young (Panama Wedding Remix)', 'Cardiac Arrest - WoodysProduce Remix', 'Nightlife', 'Run Up (feat. PARTYNEXTDOOR & Nicki Minaj)', 'Summer', 'Next Year - RAC Remix', 'Life Itself', 'Game Plan', 'The Way It Was', \"It Ain't Me (with Selena Gomez)\", 'Galway Girl - Martin Jensen Remix', 'Electric Touch', 'Symphony (feat. Zara Larsson)', 'Winse', 'Congratulations'], ['Who Do You Love?', 'Survival', 'ARTPOP', \"I'm In It\", 'I Never Learn', 'MATANGI', 'Warriors', 'Y.A.L.A.', \"Prime Time Of Your Life / Brainwasher /Rollin 'and Scratchin' / Alive\", 'Human After All/Together/One More Time/Music Sounds Better With You', 'Knights Of Cydonia', 'Deer Dance', 'Mad Sounds', 'Retrograde', 'R U Mine?', 'Left, Right', 'Left, Right', 'Happy Go Sucky Fucky', 'Girl I Want 2 Eat U', 'Pitbull Terrier', 'Cookie Thumper!', 'I Fink U Freeky', 'Everybody Wants To Rule The World - From “The Hunger Games: Catching Fire” / Soundtrack', \"Superheroes / Human After All / Rock'n Roll\"], ['Circular Dispute', 'Walk - Phaeleh Remix', 'Ken Tavr', 'Love & Hate', 'The Ego', 'Jungle', 'The Meaning Of Love', 'Coffee', 'Learn Ya', 'Two Weeks', 'Digital Kids', 'Fyrsta', 'Raga Hemavati (Flute)', 'Dhun (Flute & Keyboard)', 'Khumjung', 'Shanti (Peace Out)'], ['The Humpty Dance', 'Hip Hop Hooray', 'O.P.P.', 'Woo Hah!! Got You All In Check - Explicit LP Version', 'The Choice Is Yours (Revisited)', 'I Wanna Rock', \"Buggin' Out\", 'Know The Ledge', 'The World Is Yours', 'Scenario - LP Mix', 'Home Is Where the Hatred Is', 'Rebirth of Slick (Cool Like Dat)', 'Rebel Without A Pause', 'Slam', \"Let's Play House\", 'Bitch Betta Have My Money'], ['I Took A Pill In Ibiza - Seeb Remix', 'Love Yourself', 'PILLOWTALK', 'Lovers & Friends', '7 Years', 'Simple Things', \"Like I'm Gonna Lose You\", 'If I Have To', 'I Need a Girl Part 2 (feat. Loon, Ginuwine & Mario Winans)', '明明就', '七里香', '珊瑚海', '給我一首歌的時間', '說好的幸福呢', '愛你沒差', 'Mine Mine', '我不配 - Live', '你是我的OK繃 - Live', '稻香', '我不配', '蒲公英的約定', '聽媽媽的話', '退後', '菊花台', '浪漫手機', '夜曲', '龍捲風', '她說', '小酒窩', '一千年以後', '發現愛', '突然好想你', '依然愛你', '心跳', '你是我心內的一首歌', '你不知道的事', '第一個清晨 - Live', 'Let Me Love You', 'Sure Thing', \"It Won't Stop (feat. Chris Brown)\", '晴天', '可惜沒如果', 'Photograph', 'Thinking Out Loud', 'The A Team', 'How to Save a Life', 'You Found Me', 'Next To You', 'With You', 'I Wanna Be', 'Yo (Excuse Me Miss)', 'Crush', '童話', '第一次', '勉強', '指望', '最近', '對面的女孩看過來', '手心的薔薇', '江南', 'Cold Water (feat. Justin Bieber & MØ)', 'Closer', 'Our First Song', 'The Ocean', '好眼淚壞眼淚', '崇拜'], ['Swimming Pools (Drank) - Extended Version', 'All Of The Lights', 'Mercy', '6 Foot 7 Foot', 'Look At Me Now', 'Ayy Ladies', \"5 O'Clock\", 'Teach Me How to Dougie', 'Pursuit Of Happiness (nightmare)', 'Heart Of A Lion (Kid Cudi Theme Music)', 'Love The Way You Lie', 'Roll Up', \"Buy U a Drank (Shawty Snappin')\", 'My Last', 'Headlines', 'How To Love', 'No Hands (feat. Roscoe Dash and Wale) - Explicit Album Version', 'Booty Wurk (One Cheek At a Time)', 'The Motto', 'Faded', 'Mirror', 'She Will', 'Blunt Blowin', 'How To Love', 'Right Above It', \"I'm On One\", 'No Love', 'MegaMan', 'A Milli', 'Drop The World', 'President Carter', 'Nightmares Of The Bottom', 'John', \"I'm Goin In\", 'Lollipop', 'Bill Gates', 'The Motto (Drake feat. Lil Wayne Tribute) [Karaoke', 'Two Shots', 'Gonorrhea', 'Down', 'Intro', \"I'm Single\", 'The Motto (Drake feat. Lil Wayne Tribute) [Karaoke', \"Rock 'n Rollin' - Feat. Tech N9ne\", 'Otis', 'In Da Club', 'SexyBack', 'Lose Yourself - Soundtrack Version', 'Gold Digger', \"Ridin'\", 'Otis', \"Daddy's Lambo\", 'The Real Slim Shady', \"When I'm Gone\", 'So Bad', 'Crack A Bottle', 'Kill You', 'Kim', 'Just Lose It', 'FACK', \"I'm Back\", 'FACK', 'So Bad', 'Honest'], ['Jesus Saves', 'When Sunday Comes - Bible Stories Album Version', 'Beyond The Veil - Beyond The Veil Album Version', 'Sovereign - Sweet Rain Records Master', 'My Everything', 'Lord Do It', \"Can't Nobody Do Me Like Jesus\", \"It's Gonna Be Late\", \"Somethings's Got A Hold On Me\", 'Get Right Church', 'Plenty Good Room', 'Oh To Be Kept By Jesus', \"Something About God's Grace\", 'Old Landmark', 'Child of the Most High King', 'I Stood On The Banks Of Jordan', \"It's Working\", \"We're Blessed\", 'Jesus Saves', 'That Special Place', 'Real - When The Music Stops Album Version', 'Standing On The Promises (Palmore) - Beyond The Veil Album Version', \"I'll Always Remember\", 'Dance', 'The Best In Me'], ['Margaritaville', 'Cheeseburger In Paradise', 'Fins', 'Son Of A Son Of A Sailor', 'A Pirate Looks At Forty', \"It's Five O' Clock Somewhere\", 'Remember When', 'El Cerrito Place', 'Pirate Flag', 'Summertime', 'Beer In Mexico', 'American Kids', 'When I See This Bar', 'You And Tequila (With Grace Potter) (Live At Red Rocks Amphitheatre)', 'Drink It Up', 'Wild Child (with Grace Potter)', 'Beer Can Chicken', 'Save It for a Rainy Day', 'Flora-Bama', 'If This Bus Could Talk', \"Til It's Gone\", 'Knee Deep (feat. Jimmy Buffett)', 'Toes', 'No Woman, No Cry - Live At The Lyceum, London/1975', 'Is This Love', 'One Love / People Get Ready', 'Could You Be Loved', 'Three Little Birds', 'Sun Is Shining (Yes King Remix)', 'Buffalo Soldier', 'Over The Rainbow', 'Escape (The Pina Colada Song)', 'Jamming', 'Legalize It', 'Red Red Wine - Edit', 'Wanted Dread and Alive - 2002 Remastered Version', \"My Little Girl - From the Motion Picture 'My Friend Flicka'\", 'Banana Pancakes', 'Better Together', 'Sitting, Waiting, Wishing', 'Tripping Billies - Live', \"Surfin' U.S.A.\", 'Good Vibrations', \"Wouldn't It Be Nice - 2000 - Remaster\", 'Surfer Girl', 'Kokomo', 'Ting-A-Ling', 'Mr. Loverman', 'Santeria', 'What I Got', 'Caress Me Down', 'Smoke Two Joints', 'Jailhouse', 'All The Small Things', \"What's My Age Again?\", 'Mutt', 'Love Song', 'All Mixed Up', 'Down', 'True To Myself', 'Beach in Hawaii', 'A Lifetime', 'Cry Cry Cry - Live', 'Marley & Me', 'Marley', 'Welcome To Jamrock', 'Always On My Mind', 'Luckenback Texas', 'Bubble Toes'], ['Some Kind Of Drug', 'Ballad Of A Dead Soulja', \"Grindin'\", 'The Beast', \"Runnin' (Dying To Live)\", 'Cinderella Man', 'Beast - Southpaw Remix', \"Can't Be Touched (feat. Mr. Magic & Trouble)\", 'Riot Maker', 'Am I A Psycho', 'My Time', 'Above The Law', 'Heart Of A Champion - Album Version / Explicit', \"'Till I Collapse\", 'Phenomenal', 'Fight Music', 'Kings Never Die', \"If I Can't\", 'Lose Yourself - Soundtrack Version', 'GPS', 'Redbone', 'Party Monster', 'Immortal', 'POWER', 'Lost - Explicit Album Version', 'Colors', 'Welcome To The Jungle', \"X Gon' Give It To Ya\", 'Go Hard, Go Home (feat. Giz, Swellz & Choppa)', 'Eye of the Tiger', 'Worldwide Choppers', 'G.O.M.D.', 'No Role Modelz', 'Cell Therapy', \"You Don't Know\", 'Where The Hood At', 'Lights Out - Feat. King Cyz', 'Never Scared - The Takeover Remix - Club Mix', 'The Game & Skrillex: El Chapo'], ['Me, Myself & I', 'Adventure Of A Lifetime', 'Hymn For The Weekend', 'Up&Up', 'A Head Full Of Dreams', 'A Sky Full of Stars', 'Paradise', 'Shot me Down (feat. Skylar Grey) - Radio Edit', 'Demons', 'Radioactive', 'Titanium (feat. Sia) - feat. Sia', 'Chandelier', \"Don't You Worry Child (Radio Edit) [feat. John Martin]\", 'Love The Way You Lie', 'Timber', 'Fireball', 'See You Again (feat. Charlie Puth) - From \"Furious 7\"', 'Fix You', 'Counting Stars', 'Wake Me Up - Radio Edit', 'Levels - Radio Edit', 'Sucker For Pain (with Wiz Khalifa, Imagine Dragons, Logic & Ty Dolla $ign feat. X Ambassadors)', 'Heathens', 'Let Me Hold You (Turn Me On)', 'Scars To Your Beautiful', 'Ass Like That', 'Smack That - Dirty', 'Locked Away', 'All We Know', 'We Found Love', 'On Top Of The World', 'Hey Brother', 'Play Hard (feat. Ne-Yo & Akon) - feat. Ne-Yo & Akon', 'Heroes (we could be)', 'Starboy', 'Whistle', 'Sweetwater', 'Main Title Theme - Westworld', \"Trompe L'Oeil\", \"Can't Hold Us - feat. Ray Dalton\", 'Thrift Shop (feat. Wanz)', \"Ain't No Grave\", 'Hurt', 'Something Just Like This', 'Shape of You', 'Ride', 'Cake', 'Afreen Afreen (Coke Studio Season 9)', 'Tajdar-E-Haram Coke Studio Season 8', 'Tera Woh Pyar (Nawazishein Karam)', 'Madari', 'Iktara - MTV Unplugged Version', \"Say You Won't Let Go\", 'The Nights', 'Abhi Mujh Mein Kahin', 'Cheap Thrills', 'Panda', 'Despacito - Remix', 'Juju On That Beat (TZ Anthem)', 'Pump It', 'HUMBLE.', 'What Goes Around.../...Comes Around (Interlude)', 'Mirror', 'Damn It Feels Good to Be a Gangsta', 'Mi Gente', 'Feels', 'Anaconda', 'Baby Got Back', 'Agar Tum Saath Ho', 'Monster', 'On Top Of The World', 'Thunder'], [\"Truth N' Time\", 'Have You Been Making Out OK', \"Hangin' On\", 'Latch', 'Wait Here', 'Latch', 'For the Love of You, Pts. 1 & 2', '7/11', 'The Morning', 'Stay With Me (By The Sea)', 'Latch', 'Latch', 'Latch', 'Latch', 'White Noise', 'Second Chance', 'Defeated No More', 'You & Me - Flume Remix', 'CoCo', 'That’s Me Right There', 'Or Nah (feat. The Weeknd, Wiz Khalifa and DJ Mustard) - Remix', 'Preach - Remix', 'Baby, Baby', \"I'd Rather Be With You\", 'You', 'Not For Long (feat. Trey Songz)', 'Love Unconditionally', 'Studio', 'Super Rich Kids', \"Don't Kill The Fun (feat. Chris Brown)\", 'Earned It (Fifty Shades Of Grey)', 'Slow Motion', 'Lil Bit', 'March Madness', 'Classic Man', 'Flex (Ooh, Ooh, Ooh)', \"I'd Rather Be With You\", \"I'd Rather Be With You\", \"I'd Rather Be With You\", 'Find Your Love', 'Blasé (feat. Future & Rae Sremmurd)', \"Don't Kill The Fun (feat. Chris Brown)\"], ['All Eyes on You', 'The Breach', 'Do You Remember', 'Flowers In Your Hair', 'Yellow Eyes', 'Crystals', 'Human', 'Need The Sun To Break', 'Slow It Down', 'Flapper Girl', 'Georgia', 'On the Frame', 'From Nowhere - Live At Spotify Offices / 2013', 'Love Like This - Acoustic', 'The One That Got Away - Acoustic', 'Headlights (Acoustic Version)', 'Everything', 'All I Want', \"Heart's On Fire\", 'Blue Eyes', 'Fair', 'I\\'m On Fire - From The \"Fifty Shades of Grey\" Soundtrack', 'Drive', 'When The Stars Go Blue'], ['PLAYING WITH FIRE - KR Ver.', 'STAY - KR Ver.', 'WHISTLE - (Acoustic Ver.) KR Ver.', 'One More Day', 'BOOMBAYAH - KR Ver.', '血、汗、涙 - Japanese ver.', 'Not Today - Japanese ver.', 'Spring Day - Japanese ver.', 'Spring Day', 'Blood Sweat & Tears', 'Dope', 'Not Today', 'I Need U', 'LONELY', 'I Like That', 'Touch my body', 'SHAKE IT', 'Give it to me', 'Say I Love You', 'Monster', 'CALL ME BABY', 'Lotto', '으르렁 Growl', 'Dancing King', \"As If It's Your Last\", 'Run', 'VERY NICE', 'Intro: Skool Luv Affair', 'Boy in Luv', 'War of Hormone', 'WHISTLE - KR Ver.', 'so far away', 'The Last', 'Look Here', 'Come Back Home', 'BTS Cypher 4', 'Lie', 'Begin', 'Super Fly', 'ONLY YOU', 'BINGO', 'Still 24K', 'Hey You', 'Awake', 'Stigma', 'Danger', 'MAMA', 'Reflection', 'First Love', 'BOOMBAYAH', 'Like OOH-AHH - Japanese ver.', 'CHEER UP - Japanese ver.', 'TT - Japanese ver.', 'KNOCK KNOCK - Japanese ver.', 'SIGNAL - Japanese ver.', 'Whatta Man (Good man)', 'Ice Cream Cake', 'Never Ever', 'Intro: Serendipity', 'DNA', 'Best Of Me', 'dimple', 'Pied Piper', 'MIC Drop', 'Go Go', 'Outro: Her'], ['Easy Lover', 'Rosanna', \"You're a Friend of Mine\", 'All Cried Out', 'Keep on Loving You - Remastered', 'Total Eclipse of The Heart', 'Sexual Healing', 'Wake Me up Before You Go-Go', \"Let's Hear It for the Boy\", 'Talking in Your Sleep', 'Wishing Well', 'Voices Carry - Single Mix', 'Take Me Home Tonight', 'Girls Just Want to Have Fun', 'Shake You Down', 'Carrie', \"Can't We Try\", 'Stop to Love', 'Time and Tide', 'The Flame - Single Version', 'When I See You Smile', \"I'll Be Loving You (Forever)\", 'Eternal Flame', 'Heaven', 'How Am I Supposed to Live Without You', 'Shining Star', \"How 'Bout Us\", 'Break My Stride', 'Shower Me With Your Love', 'Hearts On Fire', 'Key Largo', 'This Could Be the Night', 'Leader of the Band', 'Your Love', 'Every Time You Go Away - Radio Edit', 'Footloose', 'Who Can It Be Now?', 'The Warrior', 'Der Kommissar - 7\" Version', 'Love My Way', \"80's Films\", 'Word Up', \"Rapper's Delight - Single Version\", \"Sweet Child O' Mine\", 'Call Me', 'The Boys Of Summer', 'Jack & Diane', 'With Or Without You', \"Free Fallin'\", 'Bette Davis Eyes', 'Hit Me With Your Best Shot', 'Walking On Sunshine', \"Don't Dream It's Over\", 'Always Something There to Remind Me', 'Alone', 'Every Rose Has Its Thorn - 2003 - Remaster', 'The Heat Is On - From \"Beverly Hills Cop\" Soundtrack', \"Somebody's Watching Me - Single Version\", 'Rhythm Of The Night', 'Wanted Dead Or Alive', \"Don't Stop Believin'\", 'Celebration', \"U Can't Touch This\", 'Here Comes The Hammer', 'Shoop (Re-Recorded) [Remastered]', 'The Breaks', 'I Wanna Dance with Somebody (Who Loves Me)', 'Billie Jean', 'Sign Your Name', 'Down Under', 'Africa', 'Time After Time', 'Walk Like an Egyptian', \"Let's Groove\", 'Uptown Girl', 'Shattered Dreams - 2008 Digital Remaster', 'True', 'Smooth Operator - Single Version', 'Venus', 'Upside Down', 'Take On Me', \"I'm Still Standing\", 'Our House', 'Faith - Remastered', 'She Drives Me Crazy', \"Ain't Nobody\", 'Another One Bites The Dust - Remastered 2011', 'Heaven Is A Place On Earth', \"Wanna Be Startin' Somethin'\", 'Bad - 2012 Remaster', 'Billie Jean', 'Black or White - Single Version'], ['The Silver Tongued Devil and I', 'Are You Sure Hank Done It This Way', 'Navajo Rug', 'I Walk the Line', 'If I Had A Boat', 'Have A Little Faith In Me', \"Feelin' Good Again\", 'Train Home', \"It Ain't Me, Babe\", 'Country Love', 'Incommunicado', \"It's A Shame\", 'Telephone Road (with The Fairfield Four)', 'Hurricane Party', \"Gravity's Gone\", 'Be Here To Love Me', \"That's The Way The World Goes Round\", 'L.A. Freeway', 'Thirsty Boots', \"Waitin' Around To Die - Original Version\", \"Fare Thee Well (Dink's Song)\", 'Southern Nights', \"It Ain't Easy Being Me\", 'House And 90 Acres', \"Don't Let Me Fall\", 'Southside Of Heaven', 'The Other Side', 'Sunrise', \"I Don't Wanna Grow Up\", 'Bad Liver And A Broken Heart', \"Drunken Poet's Dream\", \"Waitin' Around To Die\", 'For The Sake Of The Song', 'Fare Thee Well, Miss Carousel', 'Luckenbach, Texas (Back to the Basics of Love)', 'I Walk the Line', 'Folsom Prison Blues - Live', 'Get Rhythm', '(Ghost) Riders in the Sky', 'The Pilgrim, Chapter 33', \"Loving Her Was Easier (Than Anything I'll Ever Do Again)\", 'The Silver Tongued Devil and I', 'Billy Dee', 'Have A Little Faith In Me', 'Cry Love', 'Crossing Muddy Waters (Best of...)', 'Reason to Believe', \"Can't You See\", 'Fire On The Mountain', \"Ramblin' Man\", 'Midnight Rider', 'Melissa', 'Angel From Montgomery', 'Illegal Smile', \"I Don't Know You\", 'Whatcha Gonna Do', 'Glendale Train', \"Truckin'\", 'Sugar Magnolia', 'Friend Of The Devil - Remastered Version', 'I Walk On Guilded Splinters', 'Up On Cripple Creek - 2000 Digital Remaster', 'The Night They Drove Old Dixie Down - 2000 Digital Remaster', 'Girl from the North Country', 'Ten More Miles To Louisiana', \"You Ain't Goin' Nowhere\", 'American Remains', 'Highwayman', 'From the Bottle to the Bottom', 'I Hate Your Ugly Face', \"Pilgrim's Progress\", 'This Old Road', 'The Road Goes On Forever', 'Corpus Christi Bay', 'Wicked Twisted Road', \"Crazy Eddie's Last Hurrah\", 'Come Monday', 'Son Of A Son Of A Sailor', 'Changes In Latitudes, Changes In Attitudes', 'Volcano', \"My Head Hurts, My Feet Stink And I Don't Love Jesus\", \"Uncle John's Band\", 'Remittance Man', 'Semi - True Stories', 'In Spite Of Ourselves', 'Mr. Bojangles', 'Sangria Wine', 'White Boots Marching In A Yellow Land', 'Outside Of A Small Circle Of Friends', 'Ballad Of Medgar Evers', 'Power & The Glory', \"I Ain't Marching Anymore\", 'The World Began In Eden And Ended In Los Angeles', \"What's That I Hear\", 'Half A Century High', 'The City of New Orleans', 'Coming into Los Angeles', 'The Motorcycle Song', 'This Land is Your Land', 'Pastures Of Plenty', \"I Ain't Got No Home\", 'Cocaine Blues', 'Stay All Night (Stay A Little Longer)'], ['Blurred Lines', 'Back To Love', 'betterman', 'So High - Single Version', 'Heaven', 'Whenever Wherever Whatever - Live', 'You Are (feat. John Legend)', 'Sometimes I Cry', 'Love Is You', 'I Think I Love U', 'A Change Is Gonna Come', 'Sailing', \"I Don't Care\", 'Blow the Whistle', 'What Kind Of Man Would I Be', 'Lifetime - Uncut', 'Love Is You', '4Evermore', 'Open Your Eyes', 'Heaven - A Cappella feat. Pusha T of Clipse', 'Womanopoly', \"Don't Talk\", 'Find Your Way', 'For Lovers Only - Uncut', 'Woman', 'I Think I Love U', 'Door #1', 'Getting Late', 'When Will I See You Smile Again?', 'When Can I See You', 'Every Time I Close My Eyes', 'If I Ever Fall In Love', 'Get Her Back', 'Before I Let You Go', 'Please Stay', 'Soul Sista', 'Queen', 'Get Her Back', 'Untitled (How Does It Feel)', 'Ignition - Remix', \"Wish I Didn't Miss You\", 'Her Heart', 'On & On', 'Stay With You', 'Oops (Oh My) - feat. Missy Elliott', 'Step In the Name of Love', 'My First Love', 'Love Of My Life (An Ode To Hip Hop) - Longer Album Version', 'Broken Man', 'You & I (Nobody in the World) - R3hab Remix - Radio Edit', 'Hard To Breathe', \"Bump n' Grind\", 'I Tried', 'I Cry', 'Everybody', 'I Miss You', 'Groove Me', 'Piece Of My Love', \"Let's Chill\", '(Lay Your Head On My) Pillow', 'Whatever You Want', \"I'm Ready\", 'Pretty Girl', \"They Don't Know\", 'Earned It (Fifty Shades Of Grey)', 'Planez', 'Fool For You', 'Slow Motion'], [\"Free Fallin'\", \"You Don't Know How It Feels\", \"I Won't Back Down\", \"Runnin' Down A Dream\", 'Refugee', \"Don't Come Around Here No More\", \"Mary Jane's Last Dance\", \"Stop Draggin' My Heart Around (with Tom Petty and the Heartbreakers)\"], ['Sorry', 'Love Yourself', 'Photograph', 'Keep Me In Mind', 'One Thing', 'Fine By Me', 'Battle Scars', 'Marry Me', 'Budapest', 'Moondance', 'Scream', 'Wagon Wheel', 'Little Things', 'House Party', 'Cheerleader - Felix Jaehn Remix Radio Edit', 'I Walk the Line', 'Something I Need', 'Counting Stars', 'Hall of Fame', 'Go Hard (feat. Tedashii)', 'Hold My Hand', 'Stressed Out', \"This'll Be My Year\", 'Bruises', 'Take Your Time', 'Leave The Night On', 'Lego House', 'The A Team', 'Keep Your Head Up', 'One Call Away', 'Renegades', 'Good To Be Alive (Hallelujah)', 'Hold On Forever', 'Stitches', 'Shut Up and Dance', 'I Really Like You', 'Geronimo', 'Man in the Mirror - 2012 Remaster', 'Ride', 'Everybody Talks', '7 Years', 'Drops of Jupiter', 'In Summer', \"Can't Take My Eyes Off Of You\", 'Written In The Stars (feat. Eric Turner)', 'My House', 'Break Up In A Small Town', 'Make You Miss Me', \"I'll Keep On\", 'Wherever I Go', 'I Took A Pill In Ibiza - Seeb Remix', 'Classic', 'You & I', 'Closer', 'I Don’t Wanna Live Forever (Fifty Shades Darker) - From \"Fifty Shades Darker (Original Motion Picture Soundtrack)\"', 'Let Me Love You', \"Don't Wanna Know (feat. Kendrick Lamar)\", 'Scars To Your Beautiful', 'Just Hold On', 'How to Save a Life', 'Love Song', \"I'm Yours\", 'Someone Like You', 'Send My Love (To Your New Lover)', 'Ho Hey', 'Slow Dancing in a Burning Room', 'Marvin Gaye (feat. Wale) - Remix', \"We Don't Talk Anymore (feat. Selena Gomez)\", 'Hello', 'Hey, Soul Sister', 'When I Was Your Man', 'Push', 'Best Song Ever', 'Call Me Maybe', '7 Years', 'Fake Love', \"I Won't Give Up\", 'Issues', 'Shape of You', 'Paris', 'Fake Love', 'Starboy', 'Cold (feat. Future)', \"Who I Am Hates Who I've Been\", 'Therapy', \"I'm Gonna Be (500 Miles)\", 'All Star', \"Don't Stop Believin'\", 'Africa', 'Viva La Vida', 'Wonderwall - Remastered', \"(I've Had) The Time of My Life\", 'Payphone', 'Pumped Up Kicks', 'Something Just Like This', \"Say You Won't Let Go\", 'Heavy (feat. Kiiara)', 'Keep Holding On'], ['Let It Go', 'All the Little Lights', 'Breakeven', '7 Years', 'Hallelujah', 'A Drop In The Ocean', 'The Scientist', 'Big Yellow Taxi', 'How to Save a Life', 'fOoL fOr YoU', 'Sunrise', 'I See Fire', 'Lego House', '18', 'Me, Myself & I', 'I Was Made For Loving You', 'Unbreakable Smile', 'Sweet Caroline', 'Brother - Acoustic', 'Two Is Better Than One', 'Beautiful', 'Crazier', 'Safe & Sound - from The Hunger Games Soundtrack', 'Invisible', 'Here Comes The Sun - Remastered', 'Skyscraper', 'Burning House', 'Need You Now', 'Hey There Delilah', 'Heartbeat', \"Cat's In The Cradle\", 'Fly Me To The Moon', 'Wanted', \"I Won't Give Up\", 'FourFiveSeconds', 'Answering Bell', 'Say My Name', 'Try', 'oui', 'Still Worth Fighting', \"I'm Like A Bird - Acoustic Version\", 'Forever Young', 'True Colors (Glee Cast Version)', 'Smile (Glee Cast Version) - Cover of Lily Allen Song', 'Fix You', 'Chasing Cars', 'When The Stars Go Blue', \"That's What's Up\", 'Girl Crush', 'Telephone Line', 'More Than A Band', 'Fall For You', 'Drops of Jupiter', 'All You Ever', 'YOUTH', '679', \"The Man Who Can't Be Moved\", 'Ride', 'Collide - Acoustic Version', 'Little Do You Know', 'Complicated', 'Drops of Jupiter', 'Yellow', 'Over My Head (Cable Car)', 'Beautiful Day', 'Ordinary Girl', 'There She Goes', 'The Fighter - feat. Ryan Tedder', 'Army Of One', 'Carolina In My Mind', 'Airplanes (feat. Hayley Williams of Paramore) - Explicit Album Version', \"Big Girls Don't Cry (Personal)\", 'The Lazy Song', 'There Are Worse Things I Could Do', 'Stressed Out', \"You'll Miss Me Someday\", 'We Could Be Anything (Black & White)', 'Apologize', 'Miles On My Heart', \"I'm Still Here\", 'You Are In Love', 'Chivalry Is Dead', 'Capsize', 'All Apologies', 'Winter Song', 'Last Text', 'Love Someone', '100 Years', 'She Is Love', 'XO', 'Everglow', 'Gravity', 'Piano Man', 'Vienna', 'When I Look to the Sky', 'Endlessly', \"You're My Best Friend - Remastered 2011\", 'Lovely Day', 'Beautiful Thing', 'Light The Sky', 'May We All', 'Come First', 'Up and Up', 'Ophelia', 'The Way I Am', 'Rivers And Roads', 'I Was Made For Loving You', 'What Would I Do Without You', 'Banana Pancakes', 'All I Want', 'I Love You Will Still Sound The Same', 'Sleep On The Floor', 'Stubborn Love', 'Need The Sun To Break', 'I Got You', 'The Girl', 'Flowers In Your Hair', 'You And Me', 'Make You Feel My Love', 'Bloom - Bonus Track', 'Seasons Of Love (Glee Cast Version)', 'Romantic - NOTD Remix', 'Sweet Creature', 'Malibu'], ['Latch', 'Blueberry Yum Yum', 'The Potion', '1980', 'Thugz Mansion - 7 Remix', 'Pound Cake / Paris Morton Music 2', 'Faded', 'All I Need (One Mo Drank)', \"Poppin' My Collar - feat. Project Pat - Explicit\", 'Sippin On Some Syrup', 'Welcome To Jamrock', 'Juicy', 'Who Shot Ya', 'Air Force Ones', 'Rubber Band Man', 'Blunt Blowin', '3 Peat', 'Lemonade', 'Who Do You Love?', 'You Broke', 'Jumpman', 'Antidote', 'Sitting Pretty (feat. Wiz Khalifa)', 'Night Job', 'Housewives', '$ave Dat Money (feat. Fetty Wap & Rich Homie Quan)', '1Hunnid', 'Too Rich For The Bitch', 'Winning (feat. Wiz Khalifa)', 'U Mad', 'Bake Sale (feat. Travis Scott)', 'Weekend (feat. Miguel)', 'New Level', 'Order More', 'Low Life', 'Uber Everywhere', 'What They Want', 'Star67', 'Cali Sunshine', 'Church', 'Bitch Please - Feat. Xzibit', 'Gangsta Nation', 'All The Way Up (Remix)', 'Bitch Please II', 'Fire Squad', 'King Of Everything', 'Ooh Ahh - Liquid Beats Remix', 'What I Got', 'Baby Blue (feat. Chance the Rapper)', 'Pull The Trigger', 'Still Here', 'One Night', 'Champions', 'MY PYT', 'Wat U Mean (Aye, Aye, Aye)', 'New Bae', 'A-Team', 'Waves', 'No Problem (feat. Lil Wayne & 2 Chainz)', 'Figure it Out', \"Don't Mind\", 'Famous', 'Father Stretch My Hands Pt. 1', 'Pt. 2', 'THat Part', 'Broccoli (feat. Lil Yachty)', 'pick up the phone', 'Wicked', '1st Day Out Tha Feds', 'Paul Revere', 'Fight For Your Right', 'No Sleep Till Brooklyn', 'Vice City (feat. Black Hippy)', 'Digits', 'THat Part - Black Hippy Remix', 'Needed Me', 'DOPE', 'I Got the Keys', 'Pull Up (feat. Lil Uzi Vert)', 'Drug Dealers Anonymous', 'MFN Right - Remix', 'Why You Always Hatin?', 'For Free', 'Back On Road', 'Tiimmy Turner', 'No Shopping', 'P**** Print (feat. Kanye West)', 'Who Gon Stop Me', 'This Is What You Came For', \"Don't Let Me Down\", 'Get High', 'Waybach', 'No English', 'X (feat. Future)', 'Dang! (feat. Anderson .Paak)', 'FDT - Pt. 2', 'Blue Hunnids', 'Work from Home', 'I Got the Keys', 'For Free', 'Nas Album Done', 'Holy Key', \"Jermaine's Interlude\", 'Ima Be Alright', 'Do You Mind', 'Pick These Hoes Apart', 'Fuck Up the Club', 'Work for It', \"Don't Ever Play Yourself\", 'Tourist', 'Forgive Me Father', 'Progress', 'I Told You/ Another One', 'Chill Bill', 'Last Time (feat. Travis Scott)', 'Nikes', 'Chill Bill REMIX', 'Cash Machine', 'untitled 07 | levitate', 'Key to the Street', 'Chuck Norris (Hoes & Gangstas)', '92 Bars', 'Role Model', 'DEVASTATED', '3 Wayz (feat. Travis Scott)', 'Frequency', 'Caroline', 'Guwop Home (feat. Young Thug)', 'DOLCE & GABBANA', 'Country Sh*t (Remix)', 'Colder Weather', 'Chicken Fried', 'Knee Deep (feat. Jimmy Buffett)', 'Toes', 'Tiimmy Turner - Remix', 'Wyclef Jean', 'Campaign (feat. Future)', 'Cinderella (feat. Ty Dolla $ign)', 'Big Amount', 'Black Beatles', \"Surfin'\", 'No Heart', 'Litty (feat. Tory Lanez)', 'Jungle', 'You Was Right', 'My Shit', 'Crazy Brazy', \"Show 'Em\", 'Pourin The Syrup', 'Froze (feat. Lil Uzi Vert & Nicki Minaj)', 'Used to This', 'goosebumps', 'Break Ya Neck', 'False Prophets', 'everybody dies', 'Shook Ones, Pt. II', 'Levels', 'Studio Lovin’', '24K Magic', '100 (feat. Drake)', 'Gang Up (with Young Thug, 2 Chainz & Wiz Khalifa feat. PnB Rock)', 'Light My Body Up (feat. Nicki Minaj & Lil Wayne)', 'The Heart Part 4', 'Heatstroke', 'HUMBLE.', 'Everybody', \"Queen's Speech 4\", 'Pleeze (feat. Nipsey Hussle)', 'Buy The World', \"Don't Lie\"], ['All I Want for Christmas Is You', 'Blue Christmas', 'Cheetah-licious Christmas', 'Dance of the Sugar Plum Fairy', 'Deck The Halls', 'Fa La La - (a cappella)', 'Hark! The Herald Angels Sing', 'Have Yourself A Merry Little Christmas', 'Have Yourself a Merry Little Christmas', \"It's Beginning To Look A Lot Like Christmas\", 'Jingle Bells (feat. The Puppini Sisters)', 'Mary, Did You Know?', 'Merry Christmas Baby - 2014 CMA Country Christmas Performance', 'Mis Deseos/Feliz Navidad (Duet With Thalia)', 'Mistletoe', 'My Song For You (from \"Good Luck Charlie\")', 'Redneck 12 Days Of Christmas', 'Silver Bells (feat. Naturally 7) - Bonus Track', \"That's Christmas to Me\"], ['Poison & Wine', 'Born To Die', 'Off To The Races', 'Blue Jeans', 'Video Games', 'Diet Mountain Dew', 'National Anthem', 'Dark Paradise', 'Radio', 'Carmen', 'Million Dollar Man', 'Summertime Sadness', 'This Is What Makes Us Girls', 'Without You', 'Lolita', 'Lucky Ones', 'Days', 'Lonely Boy', 'Pump up the Jam', 'Why Am I the One', 'All Alone', \"The Rifle's Spiral\", 'Simple Song', \"It's Only Life\", 'Bait And Switch', 'September', 'No Way Down', 'For A Fool', \"Fall Of '82\", '40 Mark Strasse', 'Port Of Morrow', 'Easy', 'Green Aisles', \"It's Real\", 'Kinder Blumen', 'Out Of Tune', 'Municipality', 'Wonder Years', 'Three Blocks', 'Younger Than Yesterday', 'All The Same', 'Chloe In The Afternoon', 'Cruel', 'Cheerleader', 'Surgeon', 'Northern Lights', 'Strange Mercy', 'Neutered Fruit', 'Champagne Year', 'Dilettante', 'Hysterical Strength', 'Year Of The Tiger', 'Honey Bunny', 'Alex', 'Die', 'Saying I love You', 'My Ma', 'Vomit', 'Just a song', 'Magic', 'Forgiveness', 'Love like a river', 'Jamie Marie', 'Clean Slate', 'Primitive Girl', 'Me And My Shadow', 'Sweetheart', 'I Get Ideas', 'The First Time I Ran Away', 'A Wasteland Companion', 'Watch The Show', \"There's A Key\", 'Crawl After You', 'Wild Goose', 'Pure Joy', 'Somebody That I Used To Know', 'Smoke And Mirrors', 'Missing Pieces', 'Sixteen Saltines', 'Freedom At 21', 'Love Interruption', 'Blunderbuss', 'Hypocritical Kiss', 'Weep Themselves To Sleep', \"I'm Shakin'\", 'Trash Tongue Talker', 'Hip (Eponymous) Poor Boy', 'I Guess I Should Go To Sleep', 'On And On And On', 'Take Me With You When You Go', 'Hold On', 'Winter Beats', \"Everybody's Changing\", \"My Autumn's Done Come\", 'Ravel - Pavane Pour une Infante Défunte', 'Shyness - Sundance Remix', 'Take Back The City', 'Holes', 'This Head I Hold', 'Under The Gun', 'Awake', 'Amber', 'The Bait', 'Waves', 'Troubleman', 'American Daydream', 'Control', 'Perfection', 'Break The Chain', 'Sun of a Gun', 'Voodoo', 'Lean', 'Wolf & I', 'Human', 'White Nights', 'Helicopter', 'We Turn It Up', 'Rainbow', 'Open', 'Hunger', '3 Days', 'Live Your Life', 'Come As You Are', 'Someone Out Of Town', 'Lullabies', 'Decorate', 'Default', 'Hands', 'Villages', 'Too Safe', 'Icy Poles', 'Heartlove', 'Nothing to Do', 'Young Lovers Go Pop!', 'Get Away', 'The Wall', 'No Matter What You Say', 'Little Talks', 'Same Mistakes', \"There's Part of Me Nobody Sees But You\", 'Skin Graph', 'Make Believe', 'Bloody Mary [Nerve Endings]', 'Busy Bees', 'Here We Are (Chancer)', 'Mean Spirits', 'Simmer', 'The Pit', 'Dots and Dashes (Enough Already)', 'Gun-Shy Sunshine', 'Out of Breath', 'Dirty Paws', 'King And Lionheart', 'Mountain Sound', 'Slow And Steady', 'From Finner', 'Little Talks', 'Six Weeks', 'Love Love Love', 'Your Bones', 'Sloom', 'Lakehouse', 'Yellow Light', 'Every Single Night', \"We Can't Be Beat\", 'Love Is Luck', 'Heartbreaker', 'The Witch', 'Southern Heart', 'Line By Line', 'Song for Leigh', 'Nightingales', \"Jerry Jr.'s Tune\", 'The Love You Love', 'Heaven', 'No One Ever Sleeps', 'Dreamboat', \"Feelin' Single\", 'Baby Come Home', 'Keep Your Shoes On', 'Inevitable', 'Only The Horses', 'Year Of Living Dangerously', \"Let's Have A Kiki\", 'Shady Love', 'San Luis Obispo', 'Self Control', 'Best In Me', 'The Secret Life Of Letters', 'Somewhere', 'We Found Each Other In The Dark', 'Natural Disaster', 'The Grand Optimist', 'Little Hell', 'Fragile Bird', 'Northern Wind', \"O' Sister\", 'Weightless', 'Sorrowing Man', 'Silver And Gold', 'Hope For Now', 'The Birds & the Bees', 'Be Strong', 'Bear Hug', 'Work', 'Warm & Easy', 'Take a Look Around', 'Ghosts & Zombies', 'Time in Mind', 'Increase Your Faith', 'Heart of the Congos', 'Get Together', 'Church', 'Bear Hug - Maxxi Soundsystem Remix', '20 Years', \"I've Got This Friend\", \"C'est la Mort\", 'To Whom It May Concern', 'Poison & Wine', \"My Father's Father\", 'Barton Hollow', 'The Violet Hour', 'Girl with the Red Balloon', 'Falling', 'Forget Me Not', 'Birds of a Feather', 'I Want You Back - Bonus Track', 'Dance Me to the End of Love - Bonus Track', 'This Girl', 'No Concern of Yours', 'The World Is Ours', 'Please Please Please Let Me Get What I Want', \"Life's a Beach\"], ['The Song That Jane Likes', 'Cry Freedom', 'Satellite', 'The Riff', 'Sweet', 'Gaucho', 'Rooftop', 'Drunken Soldier', 'Shake Me Like a Monkey', 'Funny the Way It Is', 'Spaceman', 'Baby Blue', 'You & Me', 'Grey Street', 'Where Are You Going', 'Bartender', 'Warehouse', 'Rapunzel', '#41 - Live At Radio City', 'Bartender - Live At Radio City', 'Christmas Song - Live', 'Cornbread - Live At Radio City', 'Crash Into Me - Live At Radio City', 'Crush', 'Dancing Nancies - Live At Radio City', \"Don't Drink The Water/This Land Is Your Land - Live At Radio City\", 'Deed Is Done - Live', 'Down by the River - Live At Radio City', 'Grace Is Gone - Live At Radio City', 'Gravedigger - Live At Radio City', 'Kashmir', 'Halloween - Live', 'Lie in Our Graves - Live At Radio City', 'Typical Situation - Live', 'When The World Ends - Live At Radio City', 'Two Step - Live At Radio City', 'Stay or Leave - Live At Radio City', 'Some Devil - Live At Radio City', 'So Damn Lucky - Live At Radio City', 'Sister - Live At Radio City', 'Old Dirt Hill (Bring That Beat Back) - Live At Radio City', '#41', 'All Along The Watchtower', 'American Baby', 'Ants Marching', 'Bartender', \"The Best of What's Around\", 'What Would You Say', 'Crash into Me', 'Too Much', 'Rapunzel', 'Crush', 'So Right', 'The Space Between', 'Grey Street', 'Stay (Wasting Time) - From Verizon Wireless Amp., Selma, TX', 'Two Step - From Giants Stadium, E. Rutherford, NJ', 'Christmas Song - Live At Wrigley Field', 'Tripping Billies', '#40', 'You Never Know', \"The Best of What's Around\", 'What Would You Say', 'Satellite', 'Rhyme & Reason', 'Typical Situation', 'Dancing Nancies', 'Ants Marching', 'Lover Lay Down', 'Jimi Thing', 'Warehouse', 'Pay for What You Get', '#34', 'Granny', 'Dancing Nancies - Acoustic Version', 'The Song That Jane Likes - Acoustic Version', 'Rhyme & Reason', 'Big Eyed Fish', 'Captain', 'Busted Stuff', 'Still Together'], ['The Love You Save (May Be Your Own)', 'Strawberry Letter 23 (Re-recorded / Remastered)', \"She's A Burglar\", '18 With A Bullet', 'The Vulture', 'I Got The... - 2006 Remastered Version', 'Son Of A Preacher Man - Mono Version', 'The Passenger', 'Gloria - Stereo Version', \"I'm A Midnight Mover\", 'Across 110th Street', 'I Heard It Through The Grapevine', 'Cocaine', 'Jeepster - Remastered', \"Baby It's You\", 'Hold Tight!', 'Bang Bang (My Baby Shot Me Down)', 'Teenage Dream', 'Staggolee', 'The Last Race (Death Proof)', 'Warm And Tender Love', 'Funky Fanfare', 'Down In Mexico', 'Lola', 'Mambo Sun - Remastered', 'Street Life', 'Jungle Boogie', \"Bustin' Surfboards\", \"Let's Stay Together\", 'You Never Can Tell', 'Surf Rider', 'Since I First Met You', 'Rumble', 'Out Of Limits', 'Chez les yéyé', 'All I Wanna Do', 'Midnight Train to Georgia - Single Version', 'My Thang', 'Pass The Peas', 'Laisse tomber les filles', 'Theme for the Lime Cafe', 'Crystal Tokyo Jazz']]\n",
            "El tamaño del arreglo es: 55\n"
          ]
        }
      ]
    },
    {
      "cell_type": "code",
      "metadata": {
        "id": "_tMsVyQSN4Gr"
      },
      "source": [
        "#Esta funcion permitira eliminar aquellas reglas que se van a repetir \n",
        "def EliminarrReglasRepetidas(X,Y):\n",
        "    #Se elimina la combinacion igual \n",
        "    validos = [True]*len(X)\n",
        "    for k in range(len(X)-1):\n",
        "        '''Si el valor en la posicion k es valido se verifica si ya existe'''\n",
        "        if(validos[k]):\n",
        "            '''Aqui se comprueba si la regla es valida  recoorirndo todo'''\n",
        "            for j in range(k+1,len(X)):\n",
        "                'si la regla es igual a X e Y  es no Valido'\n",
        "                if(validos[j] and \n",
        "                    X[k] == X[j] and\n",
        "                    Y[k] == Y[j]):\n",
        "                    validos[j]=False\n",
        "    #Eliminamos los no validos, tanto para X como Y\n",
        "    X = list(it.compress(X,validos))\n",
        "    Y = list(it.compress(Y,validos))\n",
        "    return X,Y"
      ],
      "execution_count": null,
      "outputs": []
    },
    {
      "cell_type": "code",
      "metadata": {
        "id": "NJtjXTmuDtar"
      },
      "source": [
        "#Funcion para obtener la interseccion de conjunto de items\n",
        "def get_intersection_items(subset,canciones_playlist):\n",
        "    group_songs = []\n",
        "    for song in subset:\n",
        "        group_songs.append(canciones_playlist[song])\n",
        "    return len(set.intersection(*group_songs))"
      ],
      "execution_count": null,
      "outputs": []
    },
    {
      "cell_type": "code",
      "metadata": {
        "id": "R7XtBlrbqdTx"
      },
      "source": [
        "def gentuplas(dataset,r):\n",
        "  #Con la funcion combinations() generamos tuplas de longitud r  y retornamos con funccion set()  para evitar elemento repetidos\n",
        "   return set(itertools.combinations(dataset,r))"
      ],
      "execution_count": null,
      "outputs": []
    },
    {
      "cell_type": "markdown",
      "metadata": {
        "id": "4UQjz4My2Uif"
      },
      "source": [
        "## Definir umbrales 🟠"
      ]
    },
    {
      "cell_type": "code",
      "metadata": {
        "id": "QRISfwNpo1zw"
      },
      "source": [
        "#definimos umbrales en base a ejemplo realizado en practicas del curso\n",
        "\n",
        "veces_minimas_aparece_en_lista=100\n",
        "soporte_min = veces_minimas_aparece_en_lista / len(playlists)\n",
        "confianza_min =0.5\n",
        "sustento_min =1.5"
      ],
      "execution_count": null,
      "outputs": []
    },
    {
      "cell_type": "markdown",
      "metadata": {
        "id": "zQqn5vYy3vn5"
      },
      "source": [
        "##1.  Implementar el algoritmo Apriori 🟠⏮ "
      ]
    },
    {
      "cell_type": "markdown",
      "metadata": {
        "id": "eOgTMAtx6Nig"
      },
      "source": [
        "### Funcion Modulo get_frequent_itemsets ⏭\n",
        "\n",
        "---\n",
        "\n",
        "\n",
        "\n",
        "```\n",
        "- ENTRADA: esctructura de datos que contiene a las playlists y un umbral de soporte.\n",
        "- SALIDA: una estructura con los itemsets frecuentes, bajo un umbral mínimo de confianza.\n",
        "```\n"
      ]
    },
    {
      "cell_type": "code",
      "metadata": {
        "id": "u3FRSVljDiTX"
      },
      "source": [
        "def get_frequent_itemsets(playlists, min_support):\n",
        "  #Convertimos dataset en conjunto de listas  \n",
        "  playlists = list(playlists.item().values())\n",
        "  playlists = [set(playlist) for playlist in playlists]\n",
        "  canciones = [item for sublist in playlists for item in sublist]\n",
        "  #Se obtiene su cardinalidad o frecuencia de cada cancion\n",
        "  count_song = pd.Series(data=canciones).value_counts().to_dict()\n",
        "  #Geramos un diccionario de canciones y su respectivos indices\n",
        "  songs = collections.defaultdict(set)\n",
        "  for index, playlist in enumerate(playlists):\n",
        "      for cancion in playlist:\n",
        "          songs[cancion].add(index)\n",
        "  #Obtenemos los itemsets que pasan la condicion de umbral min\n",
        "  get_n_items = {cancion: veces for cancion, veces in count_song.items() if veces / len(playlists) >= min_support}\n",
        "  itemset = [{cancion} for cancion in get_n_items.keys()]\n",
        "  #Se obtienen los itemsets mas frecuentes\n",
        "  get_frequent_item = {}\n",
        "  get_frequent_item[1] = sorted(get_n_items.items(), key=lambda x: x[1], reverse=True)\n",
        "  count_frequent_itemsets = []\n",
        "  n = 2\n",
        "  #Se alamacena el valor de \"itemset\" en la variable actual\n",
        "  actual = itemset   \n",
        "  while len(actual) != 0:\n",
        "    #Generar itemsets \"candidatos\" y eliminar los itemsets que no son frecuentes y los almacenamos en un diccionario\n",
        "    diccionario_combinaciones = set() \n",
        "    m = n - 2\n",
        "    for candidato in actual: \n",
        "      candidato = list(candidato)\n",
        "      for aux_candidato in actual:\n",
        "        aux_candidato = list(aux_candidato)\n",
        "        #inciializamos una bandera \n",
        "        bandera = True\n",
        "        for i in range(n - 2):\n",
        "          if candidato[i] != aux_candidato[i]:\n",
        "              bandera = False\n",
        "              break\n",
        "        if not bandera:\n",
        "          continue\n",
        "        if candidato[n - 2] < aux_candidato[n - 2]:\n",
        "          c = candidato + [aux_candidato[n - 2]]\n",
        "          c = frozenset(sorted(c))\n",
        "          diccionario_combinaciones.add(c)\n",
        "    #Generar el itemset que cumplan con la condicion del umbral minimo de soporte\n",
        "    contador_combinaciones = {}   \n",
        "    playlist_tamanio = len(playlists)   \n",
        "    for candidato in diccionario_combinaciones:\n",
        "        playlists_inter = []\n",
        "        for song in candidato:\n",
        "          playlists_inter.append(songs[song])\n",
        "        contador_combinaciones[candidato] = len(set.intersection(*playlists_inter))\n",
        "    contador_l = {subset: veces for subset, veces in contador_combinaciones.items() if veces / playlist_tamanio >= min_support} \n",
        "    diccionario = contador_l.keys() \n",
        "    count_frequent_itemsets.extend(diccionario)\n",
        "    #se ordena la lista con la funcion Sort()\n",
        "    get_frequent_item[n] = sorted(contador_l.items(), key=lambda x: x[1], reverse=True)\n",
        "    #se actulaaliza el parametro y el valor de la variable\n",
        "    n += 1\n",
        "    actual = diccionario\n",
        "  #Con libreira pandas organizar los itemset  como un dataframe\n",
        "  itemsetsdataframe = pd.DataFrame([item for sublist in get_frequent_item.values() for item in sublist]).round(3)\n",
        "  itemsetsdataframe.columns = [\"itemsets\", \"count_support\"]\n",
        "  itemsetsdataframe[\"support\"] = itemsetsdataframe[\"count_support\"] / len(playlists)\n",
        "  #Se genera una array para retornar un  con 4 datos\n",
        "  supergrupo = []\n",
        "  #En la primera posicion estaran los itemsets mas frecuentes seguido por los playlist, canciones y los itemsets frecuents\n",
        "  supergrupo.append(itemsetsdataframe)\n",
        "  supergrupo.append(playlists)\n",
        "  supergrupo.append(songs)\n",
        "  supergrupo.append(count_frequent_itemsets)\n",
        "  #Se retorna todo los valores acumulados en supergrupo de 4 valores\n",
        "  return supergrupo"
      ],
      "execution_count": null,
      "outputs": []
    },
    {
      "cell_type": "markdown",
      "metadata": {
        "id": "XAVKEP15JhQk"
      },
      "source": [
        "### Funcion Modulo generate_association_rules ⏭\n",
        "\n",
        "---\n",
        "\n",
        "\n",
        "\n",
        "```\n",
        "- ENTRADA: los itemsets frecuentes generados por la función anterior \n",
        "\n",
        "\n",
        "- RETORNA: Las reglas de asociación. Se le puede entregar umbrales de confianza o lift para las\n",
        "reglas que se retornarán. \n",
        "Por ejemplo, si se llama esta función con los ar- gumentos \n",
        "confidence = 0.5 y lift = 1.2, se espera que se retornen aquellas reglas que\n",
        "cumplan con una confianza ≥ 0.5 y un lift ≥ 1.2\n",
        "```\n"
      ]
    },
    {
      "cell_type": "code",
      "metadata": {
        "id": "e_zKC2RqKOPs"
      },
      "source": [
        "\n",
        "def generate_association_rules(frequent_itemsets, confidence, lift):\n",
        "  reglas = []\n",
        "  for itemset in frequent_itemsets[3]:\n",
        "    #Se forman todas las combinaciones posibles segun la logica de asociacion\n",
        "    count_itemset = get_intersection_items(itemset,frequent_itemsets[2])\n",
        "    itemset_support = count_itemset / len(frequent_itemsets[0])\n",
        "    for i in range(1, len(itemset) + 1):\n",
        "        #utilizando la funcion Combination() de itertools \n",
        "        for x in it.combinations(itemset, i):\n",
        "            x = set(x)\n",
        "            y = set(itemset) - x\n",
        "            x_support = get_intersection_items(x,frequent_itemsets[2]) / len(frequent_itemsets[0])\n",
        "            x_y_support = get_intersection_items(x.union(y),frequent_itemsets[2]) / len(frequent_itemsets[0])\n",
        "            rule_confidence = x_y_support / x_support\n",
        "            if len(x) > 0 and len(y) > 0:\n",
        "                y_support = get_intersection_items(y,frequent_itemsets[2]) / len(frequent_itemsets[0])\n",
        "                rule_lift = x_y_support / (x_support * y_support)\n",
        "                reglas.append((x, y, rule_confidence, x_y_support, rule_lift))\n",
        "\n",
        "  #Utilziando la libreria pandas generar dataframe para organizar los resultados\n",
        "  association_rules = pd.DataFrame(data=reglas, columns=[\"X\", \"Y\", \"confidence\", \"support\", \"lift\"]).round(3)\n",
        "  association_rules[\"X\"] = list(map(tuple, association_rules[\"X\"]))\n",
        "  association_rules[\"Y\"] = list(map(tuple, association_rules[\"Y\"]))\n",
        "  #Ordenar (con los valores de Sort de un dataframe) las reglas de asociacion por confianza y mostrar los 10 mejores\n",
        "  n=10 #se pide 10 mejores reglas de asociacion\n",
        "  order_by=\"confidence\"\n",
        "  confidence_df = association_rules.sort_values(order_by, ascending=False).head(n)\n",
        "  #Ordenar(con los valores de Sort de un dataframe) las reglas de asociacion para lift y mostrar los 10 mejores\n",
        "  order_by=\"lift\"\n",
        "  lift_df2 = association_rules.sort_values(order_by, ascending=False).head(n)\n",
        "  #Hallar las reglas de asociacion que pasen el umbral\n",
        "  association_rules[\"len_itemset\"] = association_rules.apply(lambda x: len(set(x[\"X\"]).union(set(x[\"Y\"]))), axis=1)\n",
        "  association_rules=association_rules.sort_values(by=\"len_itemset\", ascending=False)\n",
        "  both_rules = association_rules[(association_rules[\"confidence\"] >= confidence) & (association_rules[\"lift\"] >= lift)]\n",
        "\n",
        "  return confidence_df,lift_df2,both_rules"
      ],
      "execution_count": null,
      "outputs": []
    },
    {
      "cell_type": "markdown",
      "metadata": {
        "id": "_NuKlJM1SeeH"
      },
      "source": [
        "## 2. Aplicar el algoritmo y obtener reglas de asociación 🟠⏮ "
      ]
    },
    {
      "cell_type": "markdown",
      "metadata": {
        "id": "Xa_LRArbH87Z"
      },
      "source": [
        "### Cargar data set  spotify.npy 🟠"
      ]
    },
    {
      "cell_type": "code",
      "metadata": {
        "id": "rc5APLdsJLuE"
      },
      "source": [
        "#utilizando la libreria numpy leemos data set spotyfy.npy\n",
        "datos = np.load(\"spotify.npy\", allow_pickle = True)\n"
      ],
      "execution_count": null,
      "outputs": []
    },
    {
      "cell_type": "markdown",
      "metadata": {
        "id": "SionUhWdM9Ak"
      },
      "source": [
        "### Obtener los itemset frecuentes 🟠"
      ]
    },
    {
      "cell_type": "code",
      "metadata": {
        "id": "OsBRwhJIQ5dt",
        "colab": {
          "base_uri": "https://localhost:8080/",
          "height": 202
        },
        "outputId": "ed87e184-b2a6-40a7-fd90-8bc959402c0e"
      },
      "source": [
        "#Aqui se obtiene los data set fercuente\n",
        "itemsets = get_frequent_itemsets(datos,0.01)\n",
        "itemsets[0].sort_values(by=\"support\").head()"
      ],
      "execution_count": null,
      "outputs": [
        {
          "output_type": "execute_result",
          "data": {
            "text/html": [
              "<div>\n",
              "<style scoped>\n",
              "    .dataframe tbody tr th:only-of-type {\n",
              "        vertical-align: middle;\n",
              "    }\n",
              "\n",
              "    .dataframe tbody tr th {\n",
              "        vertical-align: top;\n",
              "    }\n",
              "\n",
              "    .dataframe thead th {\n",
              "        text-align: right;\n",
              "    }\n",
              "</style>\n",
              "<table border=\"1\" class=\"dataframe\">\n",
              "  <thead>\n",
              "    <tr style=\"text-align: right;\">\n",
              "      <th></th>\n",
              "      <th>itemsets</th>\n",
              "      <th>count_support</th>\n",
              "      <th>support</th>\n",
              "    </tr>\n",
              "  </thead>\n",
              "  <tbody>\n",
              "    <tr>\n",
              "      <th>1023</th>\n",
              "      <td>(Broccoli (feat. Lil Yachty), Bad and Boujee (...</td>\n",
              "      <td>100</td>\n",
              "      <td>0.01</td>\n",
              "    </tr>\n",
              "    <tr>\n",
              "      <th>999</th>\n",
              "      <td>(iSpy (feat. Lil Yachty), Swang)</td>\n",
              "      <td>100</td>\n",
              "      <td>0.01</td>\n",
              "    </tr>\n",
              "    <tr>\n",
              "      <th>998</th>\n",
              "      <td>(Drowning (feat. Kodak Black), goosebumps)</td>\n",
              "      <td>100</td>\n",
              "      <td>0.01</td>\n",
              "    </tr>\n",
              "    <tr>\n",
              "      <th>997</th>\n",
              "      <td>(Jumpman, One Dance)</td>\n",
              "      <td>100</td>\n",
              "      <td>0.01</td>\n",
              "    </tr>\n",
              "    <tr>\n",
              "      <th>996</th>\n",
              "      <td>(pick up the phone, Bad and Boujee (feat. Lil ...</td>\n",
              "      <td>100</td>\n",
              "      <td>0.01</td>\n",
              "    </tr>\n",
              "  </tbody>\n",
              "</table>\n",
              "</div>"
            ],
            "text/plain": [
              "                                               itemsets  count_support  support\n",
              "1023  (Broccoli (feat. Lil Yachty), Bad and Boujee (...            100     0.01\n",
              "999                    (iSpy (feat. Lil Yachty), Swang)            100     0.01\n",
              "998          (Drowning (feat. Kodak Black), goosebumps)            100     0.01\n",
              "997                                (Jumpman, One Dance)            100     0.01\n",
              "996   (pick up the phone, Bad and Boujee (feat. Lil ...            100     0.01"
            ]
          },
          "metadata": {},
          "execution_count": 53
        }
      ]
    },
    {
      "cell_type": "markdown",
      "metadata": {
        "id": "ydIRg4JRNCIH"
      },
      "source": [
        "### Obtner las reglas de asociacion en base a los itemset frecuentes obtenidos 🟠"
      ]
    },
    {
      "cell_type": "code",
      "metadata": {
        "id": "1Zdcjj_7RApk",
        "colab": {
          "base_uri": "https://localhost:8080/",
          "height": 390
        },
        "outputId": "c12c2f52-a35e-44b0-8fd1-b5b4548336e3"
      },
      "source": [
        "#Aqui se obtiene las reglas de asocioacion en base a los itenset calculados en la seccion anterior\n",
        "#Se tiene los siguientes valores: confidence = 0.5 y lift = 1.5\n",
        "reglas_confidence,reglas_lift,reglas_ambos = generate_association_rules(itemsets,0.5,1.5)\n",
        "reglas_confidence"
      ],
      "execution_count": null,
      "outputs": [
        {
          "output_type": "execute_result",
          "data": {
            "text/html": [
              "<div>\n",
              "<style scoped>\n",
              "    .dataframe tbody tr th:only-of-type {\n",
              "        vertical-align: middle;\n",
              "    }\n",
              "\n",
              "    .dataframe tbody tr th {\n",
              "        vertical-align: top;\n",
              "    }\n",
              "\n",
              "    .dataframe thead th {\n",
              "        text-align: right;\n",
              "    }\n",
              "</style>\n",
              "<table border=\"1\" class=\"dataframe\">\n",
              "  <thead>\n",
              "    <tr style=\"text-align: right;\">\n",
              "      <th></th>\n",
              "      <th>X</th>\n",
              "      <th>Y</th>\n",
              "      <th>confidence</th>\n",
              "      <th>support</th>\n",
              "      <th>lift</th>\n",
              "    </tr>\n",
              "  </thead>\n",
              "  <tbody>\n",
              "    <tr>\n",
              "      <th>391</th>\n",
              "      <td>(Mask Off, DNA.)</td>\n",
              "      <td>(HUMBLE.,)</td>\n",
              "      <td>0.909</td>\n",
              "      <td>0.098</td>\n",
              "      <td>2.002</td>\n",
              "    </tr>\n",
              "    <tr>\n",
              "      <th>439</th>\n",
              "      <td>(DNA., XO TOUR Llif3)</td>\n",
              "      <td>(HUMBLE.,)</td>\n",
              "      <td>0.864</td>\n",
              "      <td>0.100</td>\n",
              "      <td>1.904</td>\n",
              "    </tr>\n",
              "    <tr>\n",
              "      <th>270</th>\n",
              "      <td>(DNA.,)</td>\n",
              "      <td>(HUMBLE.,)</td>\n",
              "      <td>0.823</td>\n",
              "      <td>0.186</td>\n",
              "      <td>1.811</td>\n",
              "    </tr>\n",
              "    <tr>\n",
              "      <th>397</th>\n",
              "      <td>(Mask Off, XO TOUR Llif3)</td>\n",
              "      <td>(HUMBLE.,)</td>\n",
              "      <td>0.804</td>\n",
              "      <td>0.128</td>\n",
              "      <td>1.770</td>\n",
              "    </tr>\n",
              "    <tr>\n",
              "      <th>446</th>\n",
              "      <td>(Broccoli (feat. Lil Yachty), Bounce Back)</td>\n",
              "      <td>(Bad and Boujee (feat. Lil Uzi Vert),)</td>\n",
              "      <td>0.775</td>\n",
              "      <td>0.098</td>\n",
              "      <td>2.301</td>\n",
              "    </tr>\n",
              "    <tr>\n",
              "      <th>379</th>\n",
              "      <td>(Slippery (feat. Gucci Mane), XO TOUR Llif3)</td>\n",
              "      <td>(HUMBLE.,)</td>\n",
              "      <td>0.765</td>\n",
              "      <td>0.099</td>\n",
              "      <td>1.685</td>\n",
              "    </tr>\n",
              "    <tr>\n",
              "      <th>427</th>\n",
              "      <td>(Tunnel Vision, XO TOUR Llif3)</td>\n",
              "      <td>(HUMBLE.,)</td>\n",
              "      <td>0.750</td>\n",
              "      <td>0.100</td>\n",
              "      <td>1.652</td>\n",
              "    </tr>\n",
              "    <tr>\n",
              "      <th>410</th>\n",
              "      <td>(Mask Off, Congratulations)</td>\n",
              "      <td>(HUMBLE.,)</td>\n",
              "      <td>0.747</td>\n",
              "      <td>0.118</td>\n",
              "      <td>1.645</td>\n",
              "    </tr>\n",
              "    <tr>\n",
              "      <th>373</th>\n",
              "      <td>(Mask Off, goosebumps)</td>\n",
              "      <td>(HUMBLE.,)</td>\n",
              "      <td>0.743</td>\n",
              "      <td>0.107</td>\n",
              "      <td>1.637</td>\n",
              "    </tr>\n",
              "    <tr>\n",
              "      <th>385</th>\n",
              "      <td>(Mask Off, Bounce Back)</td>\n",
              "      <td>(HUMBLE.,)</td>\n",
              "      <td>0.743</td>\n",
              "      <td>0.099</td>\n",
              "      <td>1.635</td>\n",
              "    </tr>\n",
              "  </tbody>\n",
              "</table>\n",
              "</div>"
            ],
            "text/plain": [
              "                                                X  ...   lift\n",
              "391                              (Mask Off, DNA.)  ...  2.002\n",
              "439                         (DNA., XO TOUR Llif3)  ...  1.904\n",
              "270                                       (DNA.,)  ...  1.811\n",
              "397                     (Mask Off, XO TOUR Llif3)  ...  1.770\n",
              "446    (Broccoli (feat. Lil Yachty), Bounce Back)  ...  2.301\n",
              "379  (Slippery (feat. Gucci Mane), XO TOUR Llif3)  ...  1.685\n",
              "427                (Tunnel Vision, XO TOUR Llif3)  ...  1.652\n",
              "410                   (Mask Off, Congratulations)  ...  1.645\n",
              "373                        (Mask Off, goosebumps)  ...  1.637\n",
              "385                       (Mask Off, Bounce Back)  ...  1.635\n",
              "\n",
              "[10 rows x 5 columns]"
            ]
          },
          "metadata": {},
          "execution_count": 61
        }
      ]
    },
    {
      "cell_type": "markdown",
      "metadata": {
        "id": "xYxT2-okGnLD"
      },
      "source": [
        "## 3. Explicar las reglas obtenidas 🧠\n",
        "\n",
        "```\n",
        "Deberás seleccionar 4 reglas y comentar su calidad de acuerdo a los diferentes indi\u0002cadores disponibles (support, confidence y lift). Además, según el género y/o el artista\n",
        "de las canciones (que puedes buscar según el nombre de la canción) deberás darle una\n",
        "breve interpretación a las reglas.\n",
        "```"
      ]
    },
    {
      "cell_type": "code",
      "metadata": {
        "colab": {
          "base_uri": "https://localhost:8080/",
          "height": 171
        },
        "id": "99V4-DvjY_zF",
        "outputId": "8f2eaefd-2477-45b3-e367-1135082ef255"
      },
      "source": [
        "#Obtener las 4 reglas, en este casso se elige las 4 mejores reglas segun variable \"confidence\"\n",
        "reglas=reglas_confidence.head(4)\n",
        "reglas\n"
      ],
      "execution_count": null,
      "outputs": [
        {
          "output_type": "execute_result",
          "data": {
            "text/html": [
              "<div>\n",
              "<style scoped>\n",
              "    .dataframe tbody tr th:only-of-type {\n",
              "        vertical-align: middle;\n",
              "    }\n",
              "\n",
              "    .dataframe tbody tr th {\n",
              "        vertical-align: top;\n",
              "    }\n",
              "\n",
              "    .dataframe thead th {\n",
              "        text-align: right;\n",
              "    }\n",
              "</style>\n",
              "<table border=\"1\" class=\"dataframe\">\n",
              "  <thead>\n",
              "    <tr style=\"text-align: right;\">\n",
              "      <th></th>\n",
              "      <th>X</th>\n",
              "      <th>Y</th>\n",
              "      <th>confidence</th>\n",
              "      <th>support</th>\n",
              "      <th>lift</th>\n",
              "    </tr>\n",
              "  </thead>\n",
              "  <tbody>\n",
              "    <tr>\n",
              "      <th>391</th>\n",
              "      <td>(Mask Off, DNA.)</td>\n",
              "      <td>(HUMBLE.,)</td>\n",
              "      <td>0.909</td>\n",
              "      <td>0.098</td>\n",
              "      <td>2.002</td>\n",
              "    </tr>\n",
              "    <tr>\n",
              "      <th>439</th>\n",
              "      <td>(DNA., XO TOUR Llif3)</td>\n",
              "      <td>(HUMBLE.,)</td>\n",
              "      <td>0.864</td>\n",
              "      <td>0.100</td>\n",
              "      <td>1.904</td>\n",
              "    </tr>\n",
              "    <tr>\n",
              "      <th>270</th>\n",
              "      <td>(DNA.,)</td>\n",
              "      <td>(HUMBLE.,)</td>\n",
              "      <td>0.823</td>\n",
              "      <td>0.186</td>\n",
              "      <td>1.811</td>\n",
              "    </tr>\n",
              "    <tr>\n",
              "      <th>397</th>\n",
              "      <td>(Mask Off, XO TOUR Llif3)</td>\n",
              "      <td>(HUMBLE.,)</td>\n",
              "      <td>0.804</td>\n",
              "      <td>0.128</td>\n",
              "      <td>1.770</td>\n",
              "    </tr>\n",
              "  </tbody>\n",
              "</table>\n",
              "</div>"
            ],
            "text/plain": [
              "                             X           Y  confidence  support   lift\n",
              "391           (Mask Off, DNA.)  (HUMBLE.,)       0.909    0.098  2.002\n",
              "439      (DNA., XO TOUR Llif3)  (HUMBLE.,)       0.864    0.100  1.904\n",
              "270                    (DNA.,)  (HUMBLE.,)       0.823    0.186  1.811\n",
              "397  (Mask Off, XO TOUR Llif3)  (HUMBLE.,)       0.804    0.128  1.770"
            ]
          },
          "metadata": {},
          "execution_count": 62
        }
      ]
    },
    {
      "cell_type": "markdown",
      "metadata": {
        "id": "vwwPjPAaOzFP"
      },
      "source": [
        "✅ En este caso estoy filtrando las 4 mejores reglas segun mi variable \"confidence\"  y obtenemos las mejores k-tuplas.\n",
        "\n",
        "✅ Primero calculando las reglas de asociación con los valores de confidence = 0.5 y lift = 1.5  se obtiene resultados satifactorios ya que todos valores calulados de confidenc y litf son mayores.\n",
        " \n",
        "Ahora se explica cada una de las reglas:\n",
        "\n",
        "🔴**REGLA 1**:    \n",
        "\n",
        "(Mask Off, DNA.)\t->(HUMBLE.,)\t, Quiere decir que si se escucha  \"Mask Off,DNA\" puede que escuche  \"Humble\" como siguiente cancion, en mi opinion esto es debido  a que pertenecen al mismo genero Hip-Hop/Rap. El valor de confianza alcanza a  0.909 superando con mucho al valor predefinido del umbral.\n",
        "\n",
        "🔴**REGLA 2:**  \n",
        "\n",
        "(XO TOUR Llif3, DNA.) ->\t(HUMBLE.,) Quiere  decir que escuchar \tXO TOUR Llif3(genero Emo rap) , DNA pue escuchar tambien HUMBLE(genero hip-hop/rap).  Haciendo referencia al anterior comentario estas canciones estan dentro de un genero de musicas es por eso la regla de asociacion. La confianza es de 0.864 y supera al valor de umbral predefinido.\n",
        "\n",
        "🔴**REGLA 3:** \n",
        "\n",
        " (DNA.) ->\t(HUMBLE.,) Quiere  decir que escuchar \tDNA(genero Hip-Hop/rap) , DNA pue escuchar tambien HUMBLE(genero hip-hop/rap).  Haciendo referencia al anterior comentario estas canciones estan dentro de un genero de musicas es por eso la regla de asociacion. La confianza es de 0.823 y supera al valor de umbral predefinido.\n",
        "\n",
        "🔴**REGLA 4:** \n",
        "\n",
        " (XO TOUR Llif3, DNA.) ->\t(HUMBLE.,)  como ya se ha mencionado en los comentarios de la reglas anteriores estas canciones estan dentro de un mismo genero de musica La confianza es de 0.804 y supera al valor de umbral predefinido.\n",
        "\n",
        "✅✅ **APRECIACION:** EN ESTAS CUATRO REGLAS SE REPITEN CASI MAS MISMA CANCIONES ESTO ES DEBIDO A QUE PERTENCEN AL MISMO GENERO, ADEMAS EN LOS AÑOS 2016 Y 2017 TUVIERON MAYOR ACEPTACION POR EL PUBLICO TAMBIEN ES IMPORATANTE MENCIONAR QUE LOS ARTITAS DE TODAS LAS CANCIONES OBTENIDAS EN LAS 4 REGLAS SON HOMBRES.\n"
      ]
    },
    {
      "cell_type": "markdown",
      "metadata": {
        "id": "e9ersHqaZmZE"
      },
      "source": [
        "▶  En este caso estoy filtrando las 4 mejores reglas segun mi variable \"confidence\"  y obtenemos las mejores k-tuplas. Es importante que en estas prubas se utiliza el valor de lif"
      ]
    },
    {
      "cell_type": "markdown",
      "metadata": {
        "id": "qKuAPM2lams1"
      },
      "source": [
        "**REGLA 1:** (Mask Off, DNA.)\t->(HUMBLE.,)\t, quiere decir que si se escuha  \"Mask Off,DNA\" implica escuchar \"Humble\" como siguiente cancion, en mi opinion esto es debido  a que pertenecen al mismo genero. El calor de confianza alcanza a  0.909 superando con mucho al valor predefinido del umbrl"
      ]
    },
    {
      "cell_type": "markdown",
      "metadata": {
        "id": "UK6NXluqcBrM"
      },
      "source": [
        "**REGLA 2:**  (XO TOUR Llif3, DNA.) ->\t(HUMBLE.,) es decir que escuchar \tXO TOUR Llif3, DNA implica escuchar tambien HUMBLE.  haciendo referencia al anterior comentario estas canciones pertencen al mismo genero trap(y artistas que componen canciones de este genero) y   lo mismo pasa en las posteriores reglas(3 y 4) superendo  con mucho al umbral predefinido que tiene el valor de 0.5"
      ]
    }
  ]
}